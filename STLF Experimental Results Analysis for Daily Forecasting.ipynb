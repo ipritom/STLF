{
 "cells": [
  {
   "cell_type": "markdown",
   "id": "facial-campbell",
   "metadata": {
    "id": "facial-campbell"
   },
   "source": [
    "# Short Term Load Forecasting (Daily)\n",
    "\n",
    "A range of ML based experiments have been done for daily load forcasting for given parameters (or features)."
   ]
  },
  {
   "cell_type": "code",
   "execution_count": 1,
   "id": "basic-korean",
   "metadata": {
    "executionInfo": {
     "elapsed": 23,
     "status": "ok",
     "timestamp": 1626602586287,
     "user": {
      "displayName": "Pritom Mojumder",
      "photoUrl": "https://lh3.googleusercontent.com/a-/AOh14GhvIFkqfjNMZMouxdCqgJk7ozy-5bF5ETN19nsBjA=s64",
      "userId": "01710067307887133491"
     },
     "user_tz": -360
    },
    "id": "basic-korean"
   },
   "outputs": [],
   "source": [
    "import h5py\n",
    "import matplotlib.pyplot as plt\n",
    "import seaborn as sns\n",
    "sns.set()\n",
    "import numpy as np\n",
    "import pandas as pd\n",
    "import time\n",
    "import gc\n",
    "from tqdm import tqdm"
   ]
  },
  {
   "cell_type": "markdown",
   "id": "nzfV7Y_v_O5a",
   "metadata": {
    "id": "nzfV7Y_v_O5a"
   },
   "source": [
    "**Colab Config**"
   ]
  },
  {
   "cell_type": "code",
   "execution_count": 2,
   "id": "CBp9xDLm_ScS",
   "metadata": {
    "colab": {
     "base_uri": "https://localhost:8080/"
    },
    "executionInfo": {
     "elapsed": 63607,
     "status": "ok",
     "timestamp": 1626602649874,
     "user": {
      "displayName": "Pritom Mojumder",
      "photoUrl": "https://lh3.googleusercontent.com/a-/AOh14GhvIFkqfjNMZMouxdCqgJk7ozy-5bF5ETN19nsBjA=s64",
      "userId": "01710067307887133491"
     },
     "user_tz": -360
    },
    "id": "CBp9xDLm_ScS",
    "outputId": "eff3a08d-dea8-4c1b-b781-535fa94cb5d1"
   },
   "outputs": [],
   "source": [
    "# from google.colab import drive \n",
    "# drive.mount (\"/content/drive/\")"
   ]
  },
  {
   "cell_type": "markdown",
   "id": "brilliant-blake",
   "metadata": {},
   "source": [
    "## Architecture of the Work \n",
    "\n",
    "$ \\fbox{Load Datasets} -->  \\fbox{Feature Engineering}  --> \\fbox{Data Processing} --> \\fbox{Train-Val-Test Split} --> \\fbox{Model Training} --> \\fbox{Prediction}$ \n",
    "\n"
   ]
  },
  {
   "cell_type": "markdown",
   "id": "-jfU1XjrVS0F",
   "metadata": {
    "id": "-jfU1XjrVS0F"
   },
   "source": [
    "## Load Dataset\n",
    "\n",
    "In this work ISO-NE dataset has been considered. Dataset is taken from this work:\n",
    "https://github.com/yalickj/load-forecasting-resnet"
   ]
  },
  {
   "cell_type": "code",
   "execution_count": 3,
   "id": "imported-contest",
   "metadata": {
    "executionInfo": {
     "elapsed": 987,
     "status": "ok",
     "timestamp": 1626602871688,
     "user": {
      "displayName": "Pritom Mojumder",
      "photoUrl": "https://lh3.googleusercontent.com/a-/AOh14GhvIFkqfjNMZMouxdCqgJk7ozy-5bF5ETN19nsBjA=s64",
      "userId": "01710067307887133491"
     },
     "user_tz": -360
    },
    "id": "imported-contest"
   },
   "outputs": [],
   "source": [
    "df_master = pd.read_csv('dataset/selected_data_ISONE.csv') #in laptop\n",
    "# df_master = pd.read_csv('/content/drive/MyDrive/selected_data_ISONE.csv') #in colab"
   ]
  },
  {
   "cell_type": "code",
   "execution_count": 4,
   "id": "intense-whole",
   "metadata": {
    "colab": {
     "base_uri": "https://localhost:8080/",
     "height": 203
    },
    "executionInfo": {
     "elapsed": 405,
     "status": "ok",
     "timestamp": 1626602873681,
     "user": {
      "displayName": "Pritom Mojumder",
      "photoUrl": "https://lh3.googleusercontent.com/a-/AOh14GhvIFkqfjNMZMouxdCqgJk7ozy-5bF5ETN19nsBjA=s64",
      "userId": "01710067307887133491"
     },
     "user_tz": -360
    },
    "id": "intense-whole",
    "outputId": "a49f86eb-344a-46cb-b65e-30ec00dec8c1"
   },
   "outputs": [
    {
     "data": {
      "text/html": [
       "<div>\n",
       "<style scoped>\n",
       "    .dataframe tbody tr th:only-of-type {\n",
       "        vertical-align: middle;\n",
       "    }\n",
       "\n",
       "    .dataframe tbody tr th {\n",
       "        vertical-align: top;\n",
       "    }\n",
       "\n",
       "    .dataframe thead th {\n",
       "        text-align: right;\n",
       "    }\n",
       "</style>\n",
       "<table border=\"1\" class=\"dataframe\">\n",
       "  <thead>\n",
       "    <tr style=\"text-align: right;\">\n",
       "      <th></th>\n",
       "      <th>date</th>\n",
       "      <th>year</th>\n",
       "      <th>month</th>\n",
       "      <th>day</th>\n",
       "      <th>weekday</th>\n",
       "      <th>hour</th>\n",
       "      <th>demand</th>\n",
       "      <th>temperature</th>\n",
       "    </tr>\n",
       "  </thead>\n",
       "  <tbody>\n",
       "    <tr>\n",
       "      <th>0</th>\n",
       "      <td>2003/3/1</td>\n",
       "      <td>2003</td>\n",
       "      <td>3</td>\n",
       "      <td>1</td>\n",
       "      <td>7</td>\n",
       "      <td>1</td>\n",
       "      <td>12863.0</td>\n",
       "      <td>23</td>\n",
       "    </tr>\n",
       "    <tr>\n",
       "      <th>1</th>\n",
       "      <td>2003/3/1</td>\n",
       "      <td>2003</td>\n",
       "      <td>3</td>\n",
       "      <td>1</td>\n",
       "      <td>7</td>\n",
       "      <td>2</td>\n",
       "      <td>12389.0</td>\n",
       "      <td>22</td>\n",
       "    </tr>\n",
       "    <tr>\n",
       "      <th>2</th>\n",
       "      <td>2003/3/1</td>\n",
       "      <td>2003</td>\n",
       "      <td>3</td>\n",
       "      <td>1</td>\n",
       "      <td>7</td>\n",
       "      <td>3</td>\n",
       "      <td>12155.0</td>\n",
       "      <td>21</td>\n",
       "    </tr>\n",
       "    <tr>\n",
       "      <th>3</th>\n",
       "      <td>2003/3/1</td>\n",
       "      <td>2003</td>\n",
       "      <td>3</td>\n",
       "      <td>1</td>\n",
       "      <td>7</td>\n",
       "      <td>4</td>\n",
       "      <td>12072.0</td>\n",
       "      <td>21</td>\n",
       "    </tr>\n",
       "    <tr>\n",
       "      <th>4</th>\n",
       "      <td>2003/3/1</td>\n",
       "      <td>2003</td>\n",
       "      <td>3</td>\n",
       "      <td>1</td>\n",
       "      <td>7</td>\n",
       "      <td>5</td>\n",
       "      <td>12160.0</td>\n",
       "      <td>22</td>\n",
       "    </tr>\n",
       "  </tbody>\n",
       "</table>\n",
       "</div>"
      ],
      "text/plain": [
       "       date  year  month  day  weekday  hour   demand  temperature\n",
       "0  2003/3/1  2003      3    1        7     1  12863.0           23\n",
       "1  2003/3/1  2003      3    1        7     2  12389.0           22\n",
       "2  2003/3/1  2003      3    1        7     3  12155.0           21\n",
       "3  2003/3/1  2003      3    1        7     4  12072.0           21\n",
       "4  2003/3/1  2003      3    1        7     5  12160.0           22"
      ]
     },
     "execution_count": 4,
     "metadata": {},
     "output_type": "execute_result"
    }
   ],
   "source": [
    "df_master.head()"
   ]
  },
  {
   "cell_type": "code",
   "execution_count": 5,
   "id": "labeled-prize",
   "metadata": {
    "colab": {
     "base_uri": "https://localhost:8080/"
    },
    "executionInfo": {
     "elapsed": 4,
     "status": "ok",
     "timestamp": 1626602875102,
     "user": {
      "displayName": "Pritom Mojumder",
      "photoUrl": "https://lh3.googleusercontent.com/a-/AOh14GhvIFkqfjNMZMouxdCqgJk7ozy-5bF5ETN19nsBjA=s64",
      "userId": "01710067307887133491"
     },
     "user_tz": -360
    },
    "id": "labeled-prize",
    "outputId": "c2328563-40a9-424f-8a7d-3f6c34971e45"
   },
   "outputs": [
    {
     "name": "stdout",
     "output_type": "stream",
     "text": [
      "Number of Samples: 103776\n",
      "Number of Days: 4324\n"
     ]
    }
   ],
   "source": [
    "print(\"Number of Samples:\",df_master.shape[0])\n",
    "print(\"Number of Days:\" ,len(df_master.date.unique()))"
   ]
  },
  {
   "cell_type": "markdown",
   "id": "gross-minimum",
   "metadata": {},
   "source": [
    "### Data Analysis"
   ]
  },
  {
   "cell_type": "code",
   "execution_count": 6,
   "id": "understood-hardware",
   "metadata": {},
   "outputs": [
    {
     "data": {
      "text/plain": [
       "<AxesSubplot:>"
      ]
     },
     "execution_count": 6,
     "metadata": {},
     "output_type": "execute_result"
    },
    {
     "data": {
      "image/png": "[encoded data removed]",
      "text/plain": [
       "<Figure size 432x288 with 1 Axes>"
      ]
     },
     "metadata": {},
     "output_type": "display_data"
    }
   ],
   "source": [
    "df_master.demand.hist() #histogram of samples"
   ]
  },
  {
   "cell_type": "code",
   "execution_count": 7,
   "id": "angry-program",
   "metadata": {},
   "outputs": [
    {
     "data": {
      "text/plain": [
       "<AxesSubplot:>"
      ]
     },
     "execution_count": 7,
     "metadata": {},
     "output_type": "execute_result"
    },
    {
     "data": {
      "image/png": "[encoded data removed]",
      "text/plain": [
       "<Figure size 432x288 with 1 Axes>"
      ]
     },
     "metadata": {},
     "output_type": "display_data"
    }
   ],
   "source": [
    "df_master.demand.hist(density=True) #probability density function"
   ]
  },
  {
   "cell_type": "markdown",
   "id": "french-minutes",
   "metadata": {},
   "source": [
    "## Feature Engineering\n",
    "\n",
    "The given dataset contains *year, month, day, weekday, hour, demand* and *temperature*. We are going to add *weekday, season* and *festival* into the dataset. We will consider previous 6 hours' load demand as an input."
   ]
  },
  {
   "cell_type": "code",
   "execution_count": 8,
   "id": "champion-worcester",
   "metadata": {
    "executionInfo": {
     "elapsed": 4,
     "status": "ok",
     "timestamp": 1626602882480,
     "user": {
      "displayName": "Pritom Mojumder",
      "photoUrl": "https://lh3.googleusercontent.com/a-/AOh14GhvIFkqfjNMZMouxdCqgJk7ozy-5bF5ETN19nsBjA=s64",
      "userId": "01710067307887133491"
     },
     "user_tz": -360
    },
    "id": "champion-worcester"
   },
   "outputs": [],
   "source": [
    "# add weekday info to the dataset\n",
    "# the initial value for iter_weekday corresponds to the first day of the dataset\n",
    "iter_weekday = 6\n",
    "weekday = np.zeros((24*4324,))\n",
    "for i in range(4324):\n",
    "    mod = np.mod(iter_weekday, 7)\n",
    "    for j in range(24):\n",
    "        if (mod == 6) or (mod == 0):\n",
    "            weekday[i*24 + j] = 0\n",
    "        else:\n",
    "            weekday[i*24 + j] = 1\n",
    "    iter_weekday += 1"
   ]
  },
  {
   "cell_type": "code",
   "execution_count": 9,
   "id": "unable-exercise",
   "metadata": {
    "executionInfo": {
     "elapsed": 3,
     "status": "ok",
     "timestamp": 1626602883867,
     "user": {
      "displayName": "Pritom Mojumder",
      "photoUrl": "https://lh3.googleusercontent.com/a-/AOh14GhvIFkqfjNMZMouxdCqgJk7ozy-5bF5ETN19nsBjA=s64",
      "userId": "01710067307887133491"
     },
     "user_tz": -360
    },
    "id": "unable-exercise"
   },
   "outputs": [],
   "source": [
    "# add season and festival info to the dataset\n",
    "import datetime\n",
    "iter_date = datetime.date(2003, 3, 1)\n",
    "season = np.zeros((24*4324,))\n",
    "festival = np.zeros((24*4324,))\n",
    "for i in range(4324):\n",
    "    month = iter_date.month\n",
    "    day = iter_date.day\n",
    "    for j in range(24):\n",
    "        if (month==4) | (month==5) | ((month==3) and (day>7)) | ((month==6) and (day<8)):\n",
    "            season[i*24 + j] = 0 #spring\n",
    "        elif (month==7) | (month==8) | ((month==6) and (day>7)) | ((month==9) and (day<8)):\n",
    "            season[i*24 + j] = 1 #summer\n",
    "        elif (month==10) | (month==11) | ((month==9) and (day>7)) | ((month==12) and (day<8)):\n",
    "            season[i*24 + j] = 2 #autumn\n",
    "        elif (month==1) | (month==2) | ((month==12) and (day>7)) | ((month==3) and (day<8)):\n",
    "            season[i*24 + j] = 3 #winter\n",
    "\n",
    "        if (month == 7) and (day == 4):\n",
    "            festival[i*24 + j] = 1\n",
    "        if (month == 11) and (iter_date.weekday() == 4) and (day + 7 > 30):\n",
    "            festival[i*24 + j] = 1\n",
    "        if (month == 12) and (day == 25):\n",
    "            festival[i*24 + j] = 1\n",
    "    iter_date = iter_date + datetime.timedelta(1)"
   ]
  },
  {
   "cell_type": "code",
   "execution_count": 10,
   "id": "naked-visitor",
   "metadata": {
    "executionInfo": {
     "elapsed": 3,
     "status": "ok",
     "timestamp": 1626602884865,
     "user": {
      "displayName": "Pritom Mojumder",
      "photoUrl": "https://lh3.googleusercontent.com/a-/AOh14GhvIFkqfjNMZMouxdCqgJk7ozy-5bF5ETN19nsBjA=s64",
      "userId": "01710067307887133491"
     },
     "user_tz": -360
    },
    "id": "naked-visitor"
   },
   "outputs": [],
   "source": [
    "df_master['weekday'] = weekday"
   ]
  },
  {
   "cell_type": "code",
   "execution_count": 11,
   "id": "heavy-symposium",
   "metadata": {
    "executionInfo": {
     "elapsed": 677,
     "status": "ok",
     "timestamp": 1626602887314,
     "user": {
      "displayName": "Pritom Mojumder",
      "photoUrl": "https://lh3.googleusercontent.com/a-/AOh14GhvIFkqfjNMZMouxdCqgJk7ozy-5bF5ETN19nsBjA=s64",
      "userId": "01710067307887133491"
     },
     "user_tz": -360
    },
    "id": "heavy-symposium"
   },
   "outputs": [],
   "source": [
    "df_master['season'] = season\n",
    "df_master['season'] = df_master.apply(lambda x:int(x['season']),axis=1) # to keep it integer\n",
    "df_master['festival'] = festival"
   ]
  },
  {
   "cell_type": "code",
   "execution_count": 12,
   "id": "infectious-senior",
   "metadata": {},
   "outputs": [],
   "source": [
    "#normalising demand with peak value\n",
    "MAX_DEMAND = max(df_master.demand)\n",
    "\n",
    "df_master['demand'] = df_master.demand/MAX_DEMAND"
   ]
  },
  {
   "cell_type": "code",
   "execution_count": 13,
   "id": "solar-standard",
   "metadata": {},
   "outputs": [],
   "source": [
    "dates = df_master.date.unique()"
   ]
  },
  {
   "cell_type": "code",
   "execution_count": 14,
   "id": "regional-decline",
   "metadata": {},
   "outputs": [
    {
     "name": "stderr",
     "output_type": "stream",
     "text": [
      "100%|██████████| 4324/4324 [00:36<00:00, 118.78it/s]\n"
     ]
    },
    {
     "data": {
      "text/plain": [
       "26"
      ]
     },
     "execution_count": 14,
     "metadata": {},
     "output_type": "execute_result"
    }
   ],
   "source": [
    "#taking daywise demands and temparatures\n",
    "day_demands = []\n",
    "day_temperatures = []\n",
    "for date in tqdm(dates):\n",
    "    temp = df_master[df_master.date==date] #temporary dataset\n",
    "    demands = temp.demand.tolist()\n",
    "    temperatures = temp.temperature.tolist()\n",
    "    day_demands.append(demands)\n",
    "    day_temperatures.append(temperatures)\n",
    "\n",
    "del temp\n",
    "gc.collect()"
   ]
  },
  {
   "cell_type": "code",
   "execution_count": 45,
   "id": "dominican-investment",
   "metadata": {},
   "outputs": [],
   "source": [
    "df_daily = pd.DataFrame({\n",
    "    'date':dates,\n",
    "    'demands':day_demands,\n",
    "    'temparatures':day_temperatures\n",
    "})"
   ]
  },
  {
   "cell_type": "code",
   "execution_count": 46,
   "id": "neutral-curve",
   "metadata": {},
   "outputs": [],
   "source": [
    "df_daily = df_daily.merge(df_master[['date','month','weekday','season','festival']].drop_duplicates('date'),on='date',how='left')"
   ]
  },
  {
   "cell_type": "code",
   "execution_count": 47,
   "id": "present-wildlife",
   "metadata": {},
   "outputs": [],
   "source": [
    "df_daily['prev_1day_demands'] = df_daily['demands'].shift(1)\n",
    "df_daily['prev_2day_demands'] = df_daily['demands'].shift(2)\n",
    "df_daily['prev_3day_demands'] = df_daily['demands'].shift(3)\n",
    "df_daily['prev_4day_demands'] = df_daily['demands'].shift(4)\n",
    "df_daily['prev_5day_demands'] = df_daily['demands'].shift(5)\n",
    "df_daily['prev_6day_demands'] = df_daily['demands'].shift(6)\n",
    "df_daily['prev_7day_demands'] = df_daily['demands'].shift(7)\n",
    "\n",
    "df_daily['prev_month_demands'] = df_daily['demands'].shift(28)"
   ]
  },
  {
   "cell_type": "code",
   "execution_count": 48,
   "id": "younger-orchestra",
   "metadata": {},
   "outputs": [
    {
     "data": {
      "text/html": [
       "<div>\n",
       "<style scoped>\n",
       "    .dataframe tbody tr th:only-of-type {\n",
       "        vertical-align: middle;\n",
       "    }\n",
       "\n",
       "    .dataframe tbody tr th {\n",
       "        vertical-align: top;\n",
       "    }\n",
       "\n",
       "    .dataframe thead th {\n",
       "        text-align: right;\n",
       "    }\n",
       "</style>\n",
       "<table border=\"1\" class=\"dataframe\">\n",
       "  <thead>\n",
       "    <tr style=\"text-align: right;\">\n",
       "      <th></th>\n",
       "      <th>date</th>\n",
       "      <th>demands</th>\n",
       "      <th>temparatures</th>\n",
       "      <th>month</th>\n",
       "      <th>weekday</th>\n",
       "      <th>season</th>\n",
       "      <th>festival</th>\n",
       "      <th>prev_1day_demands</th>\n",
       "      <th>prev_2day_demands</th>\n",
       "      <th>prev_3day_demands</th>\n",
       "      <th>prev_4day_demands</th>\n",
       "      <th>prev_5day_demands</th>\n",
       "      <th>prev_6day_demands</th>\n",
       "      <th>prev_7day_demands</th>\n",
       "      <th>prev_month_demands</th>\n",
       "    </tr>\n",
       "  </thead>\n",
       "  <tbody>\n",
       "    <tr>\n",
       "      <th>0</th>\n",
       "      <td>2003/3/1</td>\n",
       "      <td>[0.4656795308087756, 0.44851929621316344, 0.44...</td>\n",
       "      <td>[23, 22, 21, 21, 22, 21, 22, 22, 24, 27, 30, 3...</td>\n",
       "      <td>3</td>\n",
       "      <td>0.0</td>\n",
       "      <td>3</td>\n",
       "      <td>0.0</td>\n",
       "      <td>NaN</td>\n",
       "      <td>NaN</td>\n",
       "      <td>NaN</td>\n",
       "      <td>NaN</td>\n",
       "      <td>NaN</td>\n",
       "      <td>NaN</td>\n",
       "      <td>NaN</td>\n",
       "      <td>NaN</td>\n",
       "    </tr>\n",
       "    <tr>\n",
       "      <th>1</th>\n",
       "      <td>2003/3/2</td>\n",
       "      <td>[0.42940409818260805, 0.4117370212149736, 0.40...</td>\n",
       "      <td>[32, 32, 32, 32, 32, 33, 33, 33, 34, 34, 34, 3...</td>\n",
       "      <td>3</td>\n",
       "      <td>0.0</td>\n",
       "      <td>3</td>\n",
       "      <td>0.0</td>\n",
       "      <td>[0.4656795308087756, 0.44851929621316344, 0.44...</td>\n",
       "      <td>NaN</td>\n",
       "      <td>NaN</td>\n",
       "      <td>NaN</td>\n",
       "      <td>NaN</td>\n",
       "      <td>NaN</td>\n",
       "      <td>NaN</td>\n",
       "      <td>NaN</td>\n",
       "    </tr>\n",
       "    <tr>\n",
       "      <th>2</th>\n",
       "      <td>2003/3/3</td>\n",
       "      <td>[0.4220186807617117, 0.41119397581637823, 0.40...</td>\n",
       "      <td>[35, 34, 31, 28, 23, 18, 14, 10, 8, 7, 8, 9, 1...</td>\n",
       "      <td>3</td>\n",
       "      <td>1.0</td>\n",
       "      <td>3</td>\n",
       "      <td>0.0</td>\n",
       "      <td>[0.42940409818260805, 0.4117370212149736, 0.40...</td>\n",
       "      <td>[0.4656795308087756, 0.44851929621316344, 0.44...</td>\n",
       "      <td>NaN</td>\n",
       "      <td>NaN</td>\n",
       "      <td>NaN</td>\n",
       "      <td>NaN</td>\n",
       "      <td>NaN</td>\n",
       "      <td>NaN</td>\n",
       "    </tr>\n",
       "    <tr>\n",
       "      <th>3</th>\n",
       "      <td>2003/3/4</td>\n",
       "      <td>[0.5148794439215119, 0.5021359785678082, 0.497...</td>\n",
       "      <td>[6, 5, 4, 4, 4, 4, 4, 6, 8, 12, 16, 20, 24, 27...</td>\n",
       "      <td>3</td>\n",
       "      <td>1.0</td>\n",
       "      <td>3</td>\n",
       "      <td>0.0</td>\n",
       "      <td>[0.4220186807617117, 0.41119397581637823, 0.40...</td>\n",
       "      <td>[0.42940409818260805, 0.4117370212149736, 0.40...</td>\n",
       "      <td>[0.4656795308087756, 0.44851929621316344, 0.44...</td>\n",
       "      <td>NaN</td>\n",
       "      <td>NaN</td>\n",
       "      <td>NaN</td>\n",
       "      <td>NaN</td>\n",
       "      <td>NaN</td>\n",
       "    </tr>\n",
       "    <tr>\n",
       "      <th>4</th>\n",
       "      <td>2003/3/5</td>\n",
       "      <td>[0.4575338498298458, 0.44109767576569403, 0.43...</td>\n",
       "      <td>[31, 31, 31, 31, 32, 32, 33, 33, 34, 35, 37, 3...</td>\n",
       "      <td>3</td>\n",
       "      <td>1.0</td>\n",
       "      <td>3</td>\n",
       "      <td>0.0</td>\n",
       "      <td>[0.5148794439215119, 0.5021359785678082, 0.497...</td>\n",
       "      <td>[0.4220186807617117, 0.41119397581637823, 0.40...</td>\n",
       "      <td>[0.42940409818260805, 0.4117370212149736, 0.40...</td>\n",
       "      <td>[0.4656795308087756, 0.44851929621316344, 0.44...</td>\n",
       "      <td>NaN</td>\n",
       "      <td>NaN</td>\n",
       "      <td>NaN</td>\n",
       "      <td>NaN</td>\n",
       "    </tr>\n",
       "    <tr>\n",
       "      <th>5</th>\n",
       "      <td>2003/3/6</td>\n",
       "      <td>[0.43338643110564046, 0.4200637173267685, 0.41...</td>\n",
       "      <td>[37, 36, 35, 33, 31, 30, 29, 28, 28, 27, 27, 2...</td>\n",
       "      <td>3</td>\n",
       "      <td>1.0</td>\n",
       "      <td>3</td>\n",
       "      <td>0.0</td>\n",
       "      <td>[0.4575338498298458, 0.44109767576569403, 0.43...</td>\n",
       "      <td>[0.5148794439215119, 0.5021359785678082, 0.497...</td>\n",
       "      <td>[0.4220186807617117, 0.41119397581637823, 0.40...</td>\n",
       "      <td>[0.42940409818260805, 0.4117370212149736, 0.40...</td>\n",
       "      <td>[0.4656795308087756, 0.44851929621316344, 0.44...</td>\n",
       "      <td>NaN</td>\n",
       "      <td>NaN</td>\n",
       "      <td>NaN</td>\n",
       "    </tr>\n",
       "    <tr>\n",
       "      <th>6</th>\n",
       "      <td>2003/3/7</td>\n",
       "      <td>[0.48942871624067774, 0.4771920932589965, 0.47...</td>\n",
       "      <td>[12, 10, 9, 6, 6, 5, 3, 5, 9, 13, 17, 20, 22, ...</td>\n",
       "      <td>3</td>\n",
       "      <td>1.0</td>\n",
       "      <td>3</td>\n",
       "      <td>0.0</td>\n",
       "      <td>[0.43338643110564046, 0.4200637173267685, 0.41...</td>\n",
       "      <td>[0.4575338498298458, 0.44109767576569403, 0.43...</td>\n",
       "      <td>[0.5148794439215119, 0.5021359785678082, 0.497...</td>\n",
       "      <td>[0.4220186807617117, 0.41119397581637823, 0.40...</td>\n",
       "      <td>[0.42940409818260805, 0.4117370212149736, 0.40...</td>\n",
       "      <td>[0.4656795308087756, 0.44851929621316344, 0.44...</td>\n",
       "      <td>NaN</td>\n",
       "      <td>NaN</td>\n",
       "    </tr>\n",
       "    <tr>\n",
       "      <th>7</th>\n",
       "      <td>2003/3/8</td>\n",
       "      <td>[0.462964303815799, 0.4435232785460865, 0.4334...</td>\n",
       "      <td>[25, 26, 27, 27, 27, 26, 26, 24, 28, 31, 35, 3...</td>\n",
       "      <td>3</td>\n",
       "      <td>0.0</td>\n",
       "      <td>0</td>\n",
       "      <td>0.0</td>\n",
       "      <td>[0.48942871624067774, 0.4771920932589965, 0.47...</td>\n",
       "      <td>[0.43338643110564046, 0.4200637173267685, 0.41...</td>\n",
       "      <td>[0.4575338498298458, 0.44109767576569403, 0.43...</td>\n",
       "      <td>[0.5148794439215119, 0.5021359785678082, 0.497...</td>\n",
       "      <td>[0.4220186807617117, 0.41119397581637823, 0.40...</td>\n",
       "      <td>[0.42940409818260805, 0.4117370212149736, 0.40...</td>\n",
       "      <td>[0.4656795308087756, 0.44851929621316344, 0.44...</td>\n",
       "      <td>NaN</td>\n",
       "    </tr>\n",
       "    <tr>\n",
       "      <th>8</th>\n",
       "      <td>2003/3/9</td>\n",
       "      <td>[0.4234305987980595, 0.4041705886612121, 0.394...</td>\n",
       "      <td>[36, 36, 37, 37, 38, 39, 39, 39, 40, 42, 42, 4...</td>\n",
       "      <td>3</td>\n",
       "      <td>0.0</td>\n",
       "      <td>0</td>\n",
       "      <td>0.0</td>\n",
       "      <td>[0.462964303815799, 0.4435232785460865, 0.4334...</td>\n",
       "      <td>[0.48942871624067774, 0.4771920932589965, 0.47...</td>\n",
       "      <td>[0.43338643110564046, 0.4200637173267685, 0.41...</td>\n",
       "      <td>[0.4575338498298458, 0.44109767576569403, 0.43...</td>\n",
       "      <td>[0.5148794439215119, 0.5021359785678082, 0.497...</td>\n",
       "      <td>[0.4220186807617117, 0.41119397581637823, 0.40...</td>\n",
       "      <td>[0.42940409818260805, 0.4117370212149736, 0.40...</td>\n",
       "      <td>NaN</td>\n",
       "    </tr>\n",
       "    <tr>\n",
       "      <th>9</th>\n",
       "      <td>2003/3/10</td>\n",
       "      <td>[0.45058286872782566, 0.4417855332705814, 0.43...</td>\n",
       "      <td>[17, 16, 15, 14, 13, 12, 12, 12, 14, 17, 19, 2...</td>\n",
       "      <td>3</td>\n",
       "      <td>1.0</td>\n",
       "      <td>0</td>\n",
       "      <td>0.0</td>\n",
       "      <td>[0.4234305987980595, 0.4041705886612121, 0.394...</td>\n",
       "      <td>[0.462964303815799, 0.4435232785460865, 0.4334...</td>\n",
       "      <td>[0.48942871624067774, 0.4771920932589965, 0.47...</td>\n",
       "      <td>[0.43338643110564046, 0.4200637173267685, 0.41...</td>\n",
       "      <td>[0.4575338498298458, 0.44109767576569403, 0.43...</td>\n",
       "      <td>[0.5148794439215119, 0.5021359785678082, 0.497...</td>\n",
       "      <td>[0.4220186807617117, 0.41119397581637823, 0.40...</td>\n",
       "      <td>NaN</td>\n",
       "    </tr>\n",
       "  </tbody>\n",
       "</table>\n",
       "</div>"
      ],
      "text/plain": [
       "        date                                            demands  \\\n",
       "0   2003/3/1  [0.4656795308087756, 0.44851929621316344, 0.44...   \n",
       "1   2003/3/2  [0.42940409818260805, 0.4117370212149736, 0.40...   \n",
       "2   2003/3/3  [0.4220186807617117, 0.41119397581637823, 0.40...   \n",
       "3   2003/3/4  [0.5148794439215119, 0.5021359785678082, 0.497...   \n",
       "4   2003/3/5  [0.4575338498298458, 0.44109767576569403, 0.43...   \n",
       "5   2003/3/6  [0.43338643110564046, 0.4200637173267685, 0.41...   \n",
       "6   2003/3/7  [0.48942871624067774, 0.4771920932589965, 0.47...   \n",
       "7   2003/3/8  [0.462964303815799, 0.4435232785460865, 0.4334...   \n",
       "8   2003/3/9  [0.4234305987980595, 0.4041705886612121, 0.394...   \n",
       "9  2003/3/10  [0.45058286872782566, 0.4417855332705814, 0.43...   \n",
       "\n",
       "                                        temparatures  month  weekday  season  \\\n",
       "0  [23, 22, 21, 21, 22, 21, 22, 22, 24, 27, 30, 3...      3      0.0       3   \n",
       "1  [32, 32, 32, 32, 32, 33, 33, 33, 34, 34, 34, 3...      3      0.0       3   \n",
       "2  [35, 34, 31, 28, 23, 18, 14, 10, 8, 7, 8, 9, 1...      3      1.0       3   \n",
       "3  [6, 5, 4, 4, 4, 4, 4, 6, 8, 12, 16, 20, 24, 27...      3      1.0       3   \n",
       "4  [31, 31, 31, 31, 32, 32, 33, 33, 34, 35, 37, 3...      3      1.0       3   \n",
       "5  [37, 36, 35, 33, 31, 30, 29, 28, 28, 27, 27, 2...      3      1.0       3   \n",
       "6  [12, 10, 9, 6, 6, 5, 3, 5, 9, 13, 17, 20, 22, ...      3      1.0       3   \n",
       "7  [25, 26, 27, 27, 27, 26, 26, 24, 28, 31, 35, 3...      3      0.0       0   \n",
       "8  [36, 36, 37, 37, 38, 39, 39, 39, 40, 42, 42, 4...      3      0.0       0   \n",
       "9  [17, 16, 15, 14, 13, 12, 12, 12, 14, 17, 19, 2...      3      1.0       0   \n",
       "\n",
       "   festival                                  prev_1day_demands  \\\n",
       "0       0.0                                                NaN   \n",
       "1       0.0  [0.4656795308087756, 0.44851929621316344, 0.44...   \n",
       "2       0.0  [0.42940409818260805, 0.4117370212149736, 0.40...   \n",
       "3       0.0  [0.4220186807617117, 0.41119397581637823, 0.40...   \n",
       "4       0.0  [0.5148794439215119, 0.5021359785678082, 0.497...   \n",
       "5       0.0  [0.4575338498298458, 0.44109767576569403, 0.43...   \n",
       "6       0.0  [0.43338643110564046, 0.4200637173267685, 0.41...   \n",
       "7       0.0  [0.48942871624067774, 0.4771920932589965, 0.47...   \n",
       "8       0.0  [0.462964303815799, 0.4435232785460865, 0.4334...   \n",
       "9       0.0  [0.4234305987980595, 0.4041705886612121, 0.394...   \n",
       "\n",
       "                                   prev_2day_demands  \\\n",
       "0                                                NaN   \n",
       "1                                                NaN   \n",
       "2  [0.4656795308087756, 0.44851929621316344, 0.44...   \n",
       "3  [0.42940409818260805, 0.4117370212149736, 0.40...   \n",
       "4  [0.4220186807617117, 0.41119397581637823, 0.40...   \n",
       "5  [0.5148794439215119, 0.5021359785678082, 0.497...   \n",
       "6  [0.4575338498298458, 0.44109767576569403, 0.43...   \n",
       "7  [0.43338643110564046, 0.4200637173267685, 0.41...   \n",
       "8  [0.48942871624067774, 0.4771920932589965, 0.47...   \n",
       "9  [0.462964303815799, 0.4435232785460865, 0.4334...   \n",
       "\n",
       "                                   prev_3day_demands  \\\n",
       "0                                                NaN   \n",
       "1                                                NaN   \n",
       "2                                                NaN   \n",
       "3  [0.4656795308087756, 0.44851929621316344, 0.44...   \n",
       "4  [0.42940409818260805, 0.4117370212149736, 0.40...   \n",
       "5  [0.4220186807617117, 0.41119397581637823, 0.40...   \n",
       "6  [0.5148794439215119, 0.5021359785678082, 0.497...   \n",
       "7  [0.4575338498298458, 0.44109767576569403, 0.43...   \n",
       "8  [0.43338643110564046, 0.4200637173267685, 0.41...   \n",
       "9  [0.48942871624067774, 0.4771920932589965, 0.47...   \n",
       "\n",
       "                                   prev_4day_demands  \\\n",
       "0                                                NaN   \n",
       "1                                                NaN   \n",
       "2                                                NaN   \n",
       "3                                                NaN   \n",
       "4  [0.4656795308087756, 0.44851929621316344, 0.44...   \n",
       "5  [0.42940409818260805, 0.4117370212149736, 0.40...   \n",
       "6  [0.4220186807617117, 0.41119397581637823, 0.40...   \n",
       "7  [0.5148794439215119, 0.5021359785678082, 0.497...   \n",
       "8  [0.4575338498298458, 0.44109767576569403, 0.43...   \n",
       "9  [0.43338643110564046, 0.4200637173267685, 0.41...   \n",
       "\n",
       "                                   prev_5day_demands  \\\n",
       "0                                                NaN   \n",
       "1                                                NaN   \n",
       "2                                                NaN   \n",
       "3                                                NaN   \n",
       "4                                                NaN   \n",
       "5  [0.4656795308087756, 0.44851929621316344, 0.44...   \n",
       "6  [0.42940409818260805, 0.4117370212149736, 0.40...   \n",
       "7  [0.4220186807617117, 0.41119397581637823, 0.40...   \n",
       "8  [0.5148794439215119, 0.5021359785678082, 0.497...   \n",
       "9  [0.4575338498298458, 0.44109767576569403, 0.43...   \n",
       "\n",
       "                                   prev_6day_demands  \\\n",
       "0                                                NaN   \n",
       "1                                                NaN   \n",
       "2                                                NaN   \n",
       "3                                                NaN   \n",
       "4                                                NaN   \n",
       "5                                                NaN   \n",
       "6  [0.4656795308087756, 0.44851929621316344, 0.44...   \n",
       "7  [0.42940409818260805, 0.4117370212149736, 0.40...   \n",
       "8  [0.4220186807617117, 0.41119397581637823, 0.40...   \n",
       "9  [0.5148794439215119, 0.5021359785678082, 0.497...   \n",
       "\n",
       "                                   prev_7day_demands prev_month_demands  \n",
       "0                                                NaN                NaN  \n",
       "1                                                NaN                NaN  \n",
       "2                                                NaN                NaN  \n",
       "3                                                NaN                NaN  \n",
       "4                                                NaN                NaN  \n",
       "5                                                NaN                NaN  \n",
       "6                                                NaN                NaN  \n",
       "7  [0.4656795308087756, 0.44851929621316344, 0.44...                NaN  \n",
       "8  [0.42940409818260805, 0.4117370212149736, 0.40...                NaN  \n",
       "9  [0.4220186807617117, 0.41119397581637823, 0.40...                NaN  "
      ]
     },
     "execution_count": 48,
     "metadata": {},
     "output_type": "execute_result"
    }
   ],
   "source": [
    "df_daily.head(10)"
   ]
  },
  {
   "cell_type": "code",
   "execution_count": 49,
   "id": "cutting-dublin",
   "metadata": {},
   "outputs": [],
   "source": [
    "#filling NaN values\n",
    "zeros_list = [0]*24\n",
    "\n",
    "#previous month\n",
    "for row in df_daily.loc[df_daily.prev_month_demands.isnull(), 'prev_month_demands'].index:\n",
    "    df_daily.at[row, 'prev_month_demands'] = zeros_list\n",
    "\n",
    "\n",
    "#previous 7 days\n",
    "for row in df_daily.loc[df_daily.prev_1day_demands.isnull(), 'prev_1day_demands'].index:\n",
    "    df_daily.at[row, 'prev_1day_demands'] = zeros_list\n",
    "\n",
    "for row in df_daily.loc[df_daily.prev_2day_demands.isnull(), 'prev_2day_demands'].index:\n",
    "    df_daily.at[row, 'prev_2day_demands'] = zeros_list\n",
    "\n",
    "for row in df_daily.loc[df_daily.prev_3day_demands.isnull(), 'prev_3day_demands'].index:\n",
    "    df_daily.at[row, 'prev_3day_demands'] = zeros_list\n",
    "\n",
    "for row in df_daily.loc[df_daily.prev_4day_demands.isnull(), 'prev_4day_demands'].index:\n",
    "    df_daily.at[row, 'prev_4day_demands'] = zeros_list\n",
    "\n",
    "for row in df_daily.loc[df_daily.prev_5day_demands.isnull(), 'prev_5day_demands'].index:\n",
    "    df_daily.at[row, 'prev_5day_demands'] = zeros_list\n",
    "\n",
    "for row in df_daily.loc[df_daily.prev_6day_demands.isnull(), 'prev_6day_demands'].index:\n",
    "    df_daily.at[row, 'prev_6day_demands'] = zeros_list\n",
    "\n",
    "for row in df_daily.loc[df_daily.prev_7day_demands.isnull(), 'prev_7day_demands'].index:\n",
    "    df_daily.at[row, 'prev_7day_demands'] = zeros_list\n"
   ]
  },
  {
   "cell_type": "markdown",
   "id": "ahead-colon",
   "metadata": {},
   "source": [
    "## Data Processing\n",
    "Before fitting data into neural networks model we will do some processing here. In this work demand values are normalized by peak demand value. Season and Month values are one-hot encodded.\n",
    "\n",
    "List of freatures and their size are shown bellow.\n",
    "### Features\n",
    "* dh_x = demand of the $h^{th}$ hour of the day - size 24\n",
    "* Th_x = temparature of the $h^{th}$ hour of the day - size 24\n",
    "* prevDn_dh_x = demand of the $h^{th}$ hour of the previous $n^{th}$ day - size 24*7 = 168\n",
    "* prevM_dh_x = demand of the $h^{th}$ hour of the previous month - size 24\n",
    "\n",
    "* M - month (one-hot-encoded) - size 12\n",
    "* W = weekday = 0 or 1 - size 1\n",
    "* S = Season = 4 (one-hot-encoded) - size 4\n",
    "* F = festival = 0 or 1 - size 1\n",
    "\n",
    "Total feature size 258"
   ]
  },
  {
   "cell_type": "code",
   "execution_count": 50,
   "id": "challenging-alexandria",
   "metadata": {},
   "outputs": [],
   "source": [
    "df_daily = df_daily.assign(**pd.DataFrame(df_daily.demands.values.tolist()).add_prefix('dh_'))\n",
    "df_daily = df_daily.assign(**pd.DataFrame(df_daily.temparatures.values.tolist()).add_prefix('Th_'))\n",
    "df_daily = df_daily.assign(**pd.DataFrame(df_daily.prev_1day_demands.values.tolist()).add_prefix('prevD1_dh_'))\n",
    "df_daily = df_daily.assign(**pd.DataFrame(df_daily.prev_2day_demands.values.tolist()).add_prefix('prevD2_dh_'))\n",
    "df_daily = df_daily.assign(**pd.DataFrame(df_daily.prev_3day_demands.values.tolist()).add_prefix('prevD3_dh_'))\n",
    "df_daily = df_daily.assign(**pd.DataFrame(df_daily.prev_4day_demands.values.tolist()).add_prefix('prevD4_dh_'))\n",
    "df_daily = df_daily.assign(**pd.DataFrame(df_daily.prev_5day_demands.values.tolist()).add_prefix('prevD5_dh_'))\n",
    "df_daily = df_daily.assign(**pd.DataFrame(df_daily.prev_6day_demands.values.tolist()).add_prefix('prevD6_dh_'))\n",
    "df_daily = df_daily.assign(**pd.DataFrame(df_daily.prev_7day_demands.values.tolist()).add_prefix('prevD7_dh_'))\n",
    "df_daily = df_daily.assign(**pd.DataFrame(df_daily.prev_month_demands.values.tolist()).add_prefix('prevM_dh_'))"
   ]
  },
  {
   "cell_type": "code",
   "execution_count": 51,
   "id": "photographic-australian",
   "metadata": {},
   "outputs": [],
   "source": [
    "del df_daily['demands']\n",
    "del df_daily['temparatures']\n",
    "del df_daily['prev_1day_demands']\n",
    "del df_daily['prev_2day_demands']\n",
    "del df_daily['prev_3day_demands']\n",
    "del df_daily['prev_4day_demands']\n",
    "del df_daily['prev_5day_demands']\n",
    "del df_daily['prev_6day_demands']\n",
    "del df_daily['prev_7day_demands']\n",
    "del df_daily['prev_month_demands']\n"
   ]
  },
  {
   "cell_type": "code",
   "execution_count": 52,
   "id": "animal-sussex",
   "metadata": {
    "executionInfo": {
     "elapsed": 378,
     "status": "ok",
     "timestamp": 1626602910043,
     "user": {
      "displayName": "Pritom Mojumder",
      "photoUrl": "https://lh3.googleusercontent.com/a-/AOh14GhvIFkqfjNMZMouxdCqgJk7ozy-5bF5ETN19nsBjA=s64",
      "userId": "01710067307887133491"
     },
     "user_tz": -360
    },
    "id": "animal-sussex"
   },
   "outputs": [],
   "source": [
    "df_onehot = pd.get_dummies(df_daily,columns=[\"month\",\"season\"],prefix=[\"month\",\"season\"])"
   ]
  },
  {
   "cell_type": "code",
   "execution_count": 53,
   "id": "hollywood-fishing",
   "metadata": {},
   "outputs": [
    {
     "data": {
      "text/html": [
       "<div>\n",
       "<style scoped>\n",
       "    .dataframe tbody tr th:only-of-type {\n",
       "        vertical-align: middle;\n",
       "    }\n",
       "\n",
       "    .dataframe tbody tr th {\n",
       "        vertical-align: top;\n",
       "    }\n",
       "\n",
       "    .dataframe thead th {\n",
       "        text-align: right;\n",
       "    }\n",
       "</style>\n",
       "<table border=\"1\" class=\"dataframe\">\n",
       "  <thead>\n",
       "    <tr style=\"text-align: right;\">\n",
       "      <th></th>\n",
       "      <th>date</th>\n",
       "      <th>weekday</th>\n",
       "      <th>festival</th>\n",
       "      <th>dh_0</th>\n",
       "      <th>dh_1</th>\n",
       "      <th>dh_2</th>\n",
       "      <th>dh_3</th>\n",
       "      <th>dh_4</th>\n",
       "      <th>dh_5</th>\n",
       "      <th>dh_6</th>\n",
       "      <th>...</th>\n",
       "      <th>month_7</th>\n",
       "      <th>month_8</th>\n",
       "      <th>month_9</th>\n",
       "      <th>month_10</th>\n",
       "      <th>month_11</th>\n",
       "      <th>month_12</th>\n",
       "      <th>season_0</th>\n",
       "      <th>season_1</th>\n",
       "      <th>season_2</th>\n",
       "      <th>season_3</th>\n",
       "    </tr>\n",
       "  </thead>\n",
       "  <tbody>\n",
       "    <tr>\n",
       "      <th>0</th>\n",
       "      <td>2003/3/1</td>\n",
       "      <td>0.0</td>\n",
       "      <td>0.0</td>\n",
       "      <td>0.465680</td>\n",
       "      <td>0.448519</td>\n",
       "      <td>0.440048</td>\n",
       "      <td>0.437043</td>\n",
       "      <td>0.440229</td>\n",
       "      <td>0.455000</td>\n",
       "      <td>0.479183</td>\n",
       "      <td>...</td>\n",
       "      <td>0</td>\n",
       "      <td>0</td>\n",
       "      <td>0</td>\n",
       "      <td>0</td>\n",
       "      <td>0</td>\n",
       "      <td>0</td>\n",
       "      <td>0</td>\n",
       "      <td>0</td>\n",
       "      <td>0</td>\n",
       "      <td>1</td>\n",
       "    </tr>\n",
       "    <tr>\n",
       "      <th>1</th>\n",
       "      <td>2003/3/2</td>\n",
       "      <td>0.0</td>\n",
       "      <td>0.0</td>\n",
       "      <td>0.429404</td>\n",
       "      <td>0.411737</td>\n",
       "      <td>0.401311</td>\n",
       "      <td>0.394794</td>\n",
       "      <td>0.395699</td>\n",
       "      <td>0.404279</td>\n",
       "      <td>0.420100</td>\n",
       "      <td>...</td>\n",
       "      <td>0</td>\n",
       "      <td>0</td>\n",
       "      <td>0</td>\n",
       "      <td>0</td>\n",
       "      <td>0</td>\n",
       "      <td>0</td>\n",
       "      <td>0</td>\n",
       "      <td>0</td>\n",
       "      <td>0</td>\n",
       "      <td>1</td>\n",
       "    </tr>\n",
       "  </tbody>\n",
       "</table>\n",
       "<p>2 rows × 259 columns</p>\n",
       "</div>"
      ],
      "text/plain": [
       "       date  weekday  festival      dh_0      dh_1      dh_2      dh_3  \\\n",
       "0  2003/3/1      0.0       0.0  0.465680  0.448519  0.440048  0.437043   \n",
       "1  2003/3/2      0.0       0.0  0.429404  0.411737  0.401311  0.394794   \n",
       "\n",
       "       dh_4      dh_5      dh_6  ...  month_7  month_8  month_9  month_10  \\\n",
       "0  0.440229  0.455000  0.479183  ...        0        0        0         0   \n",
       "1  0.395699  0.404279  0.420100  ...        0        0        0         0   \n",
       "\n",
       "   month_11  month_12  season_0  season_1  season_2  season_3  \n",
       "0         0         0         0         0         0         1  \n",
       "1         0         0         0         0         0         1  \n",
       "\n",
       "[2 rows x 259 columns]"
      ]
     },
     "execution_count": 53,
     "metadata": {},
     "output_type": "execute_result"
    }
   ],
   "source": [
    "df_onehot.head(2)"
   ]
  },
  {
   "cell_type": "code",
   "execution_count": 54,
   "id": "mechanical-visitor",
   "metadata": {
    "executionInfo": {
     "elapsed": 3,
     "status": "ok",
     "timestamp": 1626602911517,
     "user": {
      "displayName": "Pritom Mojumder",
      "photoUrl": "https://lh3.googleusercontent.com/a-/AOh14GhvIFkqfjNMZMouxdCqgJk7ozy-5bF5ETN19nsBjA=s64",
      "userId": "01710067307887133491"
     },
     "user_tz": -360
    },
    "id": "mechanical-visitor"
   },
   "outputs": [],
   "source": [
    "FECOLS = ['weekday', 'festival', 'dh_0', 'dh_1', 'dh_2', 'dh_3', 'dh_4', 'dh_5', 'dh_6',\n",
    "          'dh_7', 'dh_8', 'dh_9', 'dh_10', 'dh_11', 'dh_12', 'dh_13', 'dh_14', 'dh_15',\n",
    "          'dh_16', 'dh_17', 'dh_18', 'dh_19', 'dh_20', 'dh_21', 'dh_22', 'dh_23', 'Th_0',\n",
    "          'Th_1', 'Th_2', 'Th_3', 'Th_4', 'Th_5', 'Th_6', 'Th_7', 'Th_8', 'Th_9', 'Th_10', \n",
    "          'Th_11', 'Th_12', 'Th_13', 'Th_14', 'Th_15', 'Th_16', 'Th_17', 'Th_18', 'Th_19',\n",
    "          'Th_20', 'Th_21', 'Th_22', 'Th_23', 'prevD1_dh_0', 'prevD1_dh_1', 'prevD1_dh_2',\n",
    "          'prevD1_dh_3', 'prevD1_dh_4', 'prevD1_dh_5', 'prevD1_dh_6', 'prevD1_dh_7', 'prevD1_dh_8',\n",
    "          'prevD1_dh_9', 'prevD1_dh_10', 'prevD1_dh_11', 'prevD1_dh_12', 'prevD1_dh_13',\n",
    "          'prevD1_dh_14', 'prevD1_dh_15', 'prevD1_dh_16', 'prevD1_dh_17', 'prevD1_dh_18',\n",
    "          'prevD1_dh_19', 'prevD1_dh_20', 'prevD1_dh_21', 'prevD1_dh_22', 'prevD1_dh_23',\n",
    "          'prevD2_dh_0', 'prevD2_dh_1', 'prevD2_dh_2', 'prevD2_dh_3', 'prevD2_dh_4', 'prevD2_dh_5',\n",
    "          'prevD2_dh_6', 'prevD2_dh_7', 'prevD2_dh_8', 'prevD2_dh_9', 'prevD2_dh_10', 'prevD2_dh_11',\n",
    "          'prevD2_dh_12', 'prevD2_dh_13', 'prevD2_dh_14', 'prevD2_dh_15', 'prevD2_dh_16', 'prevD2_dh_17',\n",
    "          'prevD2_dh_18', 'prevD2_dh_19', 'prevD2_dh_20', 'prevD2_dh_21', 'prevD2_dh_22', 'prevD2_dh_23',\n",
    "          'prevD3_dh_0', 'prevD3_dh_1', 'prevD3_dh_2', 'prevD3_dh_3', 'prevD3_dh_4', 'prevD3_dh_5',\n",
    "          'prevD3_dh_6', 'prevD3_dh_7', 'prevD3_dh_8', 'prevD3_dh_9', 'prevD3_dh_10', 'prevD3_dh_11',\n",
    "          'prevD3_dh_12', 'prevD3_dh_13', 'prevD3_dh_14', 'prevD3_dh_15', 'prevD3_dh_16', 'prevD3_dh_17',\n",
    "          'prevD3_dh_18', 'prevD3_dh_19', 'prevD3_dh_20', 'prevD3_dh_21', 'prevD3_dh_22', 'prevD3_dh_23',\n",
    "          'prevD4_dh_0', 'prevD4_dh_1', 'prevD4_dh_2', 'prevD4_dh_3', 'prevD4_dh_4', 'prevD4_dh_5',\n",
    "          'prevD4_dh_6', 'prevD4_dh_7', 'prevD4_dh_8', 'prevD4_dh_9', 'prevD4_dh_10', 'prevD4_dh_11',\n",
    "          'prevD4_dh_12', 'prevD4_dh_13', 'prevD4_dh_14', 'prevD4_dh_15', 'prevD4_dh_16', 'prevD4_dh_17',\n",
    "          'prevD4_dh_18', 'prevD4_dh_19', 'prevD4_dh_20', 'prevD4_dh_21', 'prevD4_dh_22', 'prevD4_dh_23',\n",
    "          'prevD5_dh_0', 'prevD5_dh_1', 'prevD5_dh_2', 'prevD5_dh_3', 'prevD5_dh_4', 'prevD5_dh_5', \n",
    "          'prevD5_dh_6', 'prevD5_dh_7', 'prevD5_dh_8', 'prevD5_dh_9', 'prevD5_dh_10', 'prevD5_dh_11',\n",
    "          'prevD5_dh_12', 'prevD5_dh_13', 'prevD5_dh_14', 'prevD5_dh_15', 'prevD5_dh_16', 'prevD5_dh_17',\n",
    "          'prevD5_dh_18', 'prevD5_dh_19', 'prevD5_dh_20', 'prevD5_dh_21', 'prevD5_dh_22', 'prevD5_dh_23',\n",
    "          'prevD6_dh_0', 'prevD6_dh_1', 'prevD6_dh_2', 'prevD6_dh_3', 'prevD6_dh_4', 'prevD6_dh_5', \n",
    "          'prevD6_dh_6', 'prevD6_dh_7', 'prevD6_dh_8', 'prevD6_dh_9', 'prevD6_dh_10', 'prevD6_dh_11', \n",
    "          'prevD6_dh_12', 'prevD6_dh_13', 'prevD6_dh_14', 'prevD6_dh_15', 'prevD6_dh_16', 'prevD6_dh_17',\n",
    "          'prevD6_dh_18', 'prevD6_dh_19', 'prevD6_dh_20', 'prevD6_dh_21', 'prevD6_dh_22', 'prevD6_dh_23',\n",
    "          'prevD7_dh_0', 'prevD7_dh_1', 'prevD7_dh_2', 'prevD7_dh_3', 'prevD7_dh_4', 'prevD7_dh_5',\n",
    "          'prevD7_dh_6', 'prevD7_dh_7', 'prevD7_dh_8', 'prevD7_dh_9', 'prevD7_dh_10', 'prevD7_dh_11',\n",
    "          'prevD7_dh_12', 'prevD7_dh_13', 'prevD7_dh_14', 'prevD7_dh_15', 'prevD7_dh_16', 'prevD7_dh_17',\n",
    "          'prevD7_dh_18', 'prevD7_dh_19', 'prevD7_dh_20', 'prevD7_dh_21', 'prevD7_dh_22', 'prevD7_dh_23',\n",
    "          'prevM_dh_0', 'prevM_dh_1', 'prevM_dh_2', 'prevM_dh_3', 'prevM_dh_4', 'prevM_dh_5', 'prevM_dh_6',\n",
    "          'prevM_dh_7', 'prevM_dh_8', 'prevM_dh_9', 'prevM_dh_10', 'prevM_dh_11', 'prevM_dh_12',\n",
    "          'prevM_dh_13', 'prevM_dh_14', 'prevM_dh_15', 'prevM_dh_16', 'prevM_dh_17', 'prevM_dh_18',\n",
    "          'prevM_dh_19', 'prevM_dh_20', 'prevM_dh_21', 'prevM_dh_22', 'prevM_dh_23', 'month_1',\n",
    "          'month_2', 'month_3', 'month_4', 'month_5', 'month_6', 'month_7', 'month_8', 'month_9',\n",
    "          'month_10', 'month_11', 'month_12', 'season_0', 'season_1', 'season_2', 'season_3']\n",
    "\n",
    "\n",
    "\n",
    "TGCOL = ['dh_0', 'dh_1', 'dh_2', 'dh_3',\n",
    "       'dh_4', 'dh_5', 'dh_6', 'dh_7', 'dh_8', 'dh_9', 'dh_10', 'dh_11',\n",
    "       'dh_12', 'dh_13', 'dh_14', 'dh_15', 'dh_16', 'dh_17', 'dh_18', 'dh_19',\n",
    "       'dh_20', 'dh_21', 'dh_22', 'dh_23']"
   ]
  },
  {
   "cell_type": "code",
   "execution_count": 55,
   "id": "contemporary-princess",
   "metadata": {},
   "outputs": [],
   "source": [
    "df_onehot.fillna(0,inplace=True)"
   ]
  },
  {
   "cell_type": "code",
   "execution_count": 56,
   "id": "attached-complex",
   "metadata": {
    "executionInfo": {
     "elapsed": 3,
     "status": "ok",
     "timestamp": 1626602918791,
     "user": {
      "displayName": "Pritom Mojumder",
      "photoUrl": "https://lh3.googleusercontent.com/a-/AOh14GhvIFkqfjNMZMouxdCqgJk7ozy-5bF5ETN19nsBjA=s64",
      "userId": "01710067307887133491"
     },
     "user_tz": -360
    },
    "id": "attached-complex"
   },
   "outputs": [],
   "source": [
    "X_temp = df_onehot[FECOLS].values\n",
    "Y_temp = df_onehot[TGCOL].values"
   ]
  },
  {
   "cell_type": "code",
   "execution_count": 57,
   "id": "historic-vienna",
   "metadata": {
    "colab": {
     "base_uri": "https://localhost:8080/"
    },
    "executionInfo": {
     "elapsed": 4,
     "status": "ok",
     "timestamp": 1626602921313,
     "user": {
      "displayName": "Pritom Mojumder",
      "photoUrl": "https://lh3.googleusercontent.com/a-/AOh14GhvIFkqfjNMZMouxdCqgJk7ozy-5bF5ETN19nsBjA=s64",
      "userId": "01710067307887133491"
     },
     "user_tz": -360
    },
    "id": "historic-vienna",
    "outputId": "f8adf503-ca59-4590-d419-da989a17e866"
   },
   "outputs": [
    {
     "name": "stdout",
     "output_type": "stream",
     "text": [
      "(4323, 1, 258) (4324, 24)\n"
     ]
    }
   ],
   "source": [
    "print(X.shape,y.shape)"
   ]
  },
  {
   "cell_type": "code",
   "execution_count": 58,
   "id": "threatened-campus",
   "metadata": {},
   "outputs": [],
   "source": [
    "X = X_temp[0:X_temp.shape[0]-1]\n",
    "Y = Y_temp[1:Y_temp.shape[0]]"
   ]
  },
  {
   "cell_type": "code",
   "execution_count": 59,
   "id": "smart-length",
   "metadata": {
    "colab": {
     "base_uri": "https://localhost:8080/"
    },
    "executionInfo": {
     "elapsed": 3,
     "status": "ok",
     "timestamp": 1626602921863,
     "user": {
      "displayName": "Pritom Mojumder",
      "photoUrl": "https://lh3.googleusercontent.com/a-/AOh14GhvIFkqfjNMZMouxdCqgJk7ozy-5bF5ETN19nsBjA=s64",
      "userId": "01710067307887133491"
     },
     "user_tz": -360
    },
    "id": "smart-length",
    "outputId": "2894f01a-8362-4d25-e960-e10ad9578f49"
   },
   "outputs": [
    {
     "data": {
      "text/plain": [
       "(4323, 1, 258)"
      ]
     },
     "execution_count": 59,
     "metadata": {},
     "output_type": "execute_result"
    }
   ],
   "source": [
    "#reshaping to train on LSTM\n",
    "X = np.reshape(X,(X.shape[0],1,X.shape[1]))\n",
    "X.shape"
   ]
  },
  {
   "cell_type": "code",
   "execution_count": null,
   "id": "pending-panel",
   "metadata": {},
   "outputs": [],
   "source": []
  },
  {
   "cell_type": "markdown",
   "id": "possible-optics",
   "metadata": {},
   "source": [
    "## Train-Val-Test Split"
   ]
  },
  {
   "cell_type": "code",
   "execution_count": 60,
   "id": "afraid-ireland",
   "metadata": {},
   "outputs": [],
   "source": [
    "from sklearn.model_selection import train_test_split\n",
    "\n",
    "#dataset splitted into train,val,test as 64%,16%,20%\n",
    "X_train,X_test,Y_train,Y_test = train_test_split( X,Y,test_size=0.2, random_state=42)\n",
    "X_train,X_val,Y_train,Y_val = train_test_split( X_train,Y_train,test_size=0.2, random_state=42)"
   ]
  },
  {
   "cell_type": "markdown",
   "id": "several-designation",
   "metadata": {
    "id": "several-designation"
   },
   "source": [
    "## Model Loading and Analysis\n",
    "\n",
    "In this section we will analyze the performance of trained neural network models."
   ]
  },
  {
   "cell_type": "code",
   "execution_count": 61,
   "id": "apart-brass",
   "metadata": {
    "executionInfo": {
     "elapsed": 377,
     "status": "ok",
     "timestamp": 1626603498245,
     "user": {
      "displayName": "Pritom Mojumder",
      "photoUrl": "https://lh3.googleusercontent.com/a-/AOh14GhvIFkqfjNMZMouxdCqgJk7ozy-5bF5ETN19nsBjA=s64",
      "userId": "01710067307887133491"
     },
     "user_tz": -360
    },
    "id": "apart-brass"
   },
   "outputs": [],
   "source": [
    "from tensorflow.keras.layers import Dense,LSTM,Dropout, Concatenate\n",
    "from tensorflow.keras import Sequential,Input, optimizers, losses, models, callbacks"
   ]
  },
  {
   "cell_type": "code",
   "execution_count": 62,
   "id": "given-means",
   "metadata": {},
   "outputs": [],
   "source": [
    "from saveweights2 import model_functions as models"
   ]
  },
  {
   "cell_type": "markdown",
   "id": "sudden-lingerie",
   "metadata": {},
   "source": [
    "### LSTM-DENSE Model\n",
    "\n",
    "Like ANN this model is also consists of 6 hidden layers. However, first 2 layers are replaced by LSTM layers and subsequent 4 layers are Dense layers. Activation function for dense layers is `selu`. "
   ]
  },
  {
   "cell_type": "code",
   "execution_count": 63,
   "id": "naughty-mills",
   "metadata": {},
   "outputs": [],
   "source": [
    "model1 = models.get_lstm_model((1,258))\n",
    "# model1.summary()"
   ]
  },
  {
   "cell_type": "code",
   "execution_count": 64,
   "id": "advance-correction",
   "metadata": {},
   "outputs": [
    {
     "data": {
      "text/plain": [
       "<tensorflow.python.training.tracking.util.CheckpointLoadStatus at 0x2b50d5c2a60>"
      ]
     },
     "execution_count": 64,
     "metadata": {},
     "output_type": "execute_result"
    }
   ],
   "source": [
    "model1.load_weights('saveweights2/model_lstm_dense/'+model1.name)"
   ]
  },
  {
   "cell_type": "code",
   "execution_count": 66,
   "id": "better-despite",
   "metadata": {},
   "outputs": [],
   "source": [
    "# model1.evaluate(X_test,Y_test)"
   ]
  },
  {
   "cell_type": "markdown",
   "id": "inside-homeless",
   "metadata": {},
   "source": [
    "### LSTM-DENSE Ensemble\n",
    "\n",
    "4 different LSTM-Dense model is parallaly trained and concatenated to make the prediction. 4 models are internally different.\n",
    "\n",
    "First model:\n",
    "* consist of `selu` activation fucntion for dense layers.  kernel_initializer=`glorot_uniform`,\n",
    "\n",
    "Second model: \n",
    "* consist of `elu` activation fucntion for dense layers.  kernel_initializer=`glorot_uniform`,\n",
    "\n",
    "Third model: \n",
    "* consist of `gelu` activation fucntion for dense layers.  kernel_initializer=`random_normal`,\n",
    "\n",
    "Forth model: \n",
    "* consist of `softplus` activation fucntion for dense layers.  kernel_initializer=`random_normal`,\n",
    "\n",
    "Finally, the last layers of these models are concatenated and pass it to the final layer to make predictions. The main idea is that these 4 models will learn input features differently so that the model as a whole can gain better generalization capability.\n"
   ]
  },
  {
   "cell_type": "code",
   "execution_count": 67,
   "id": "enhanced-dinner",
   "metadata": {},
   "outputs": [],
   "source": [
    "model2 = models.get_lstm_model_ensemble((1,258))\n",
    "# model2.summary()"
   ]
  },
  {
   "cell_type": "code",
   "execution_count": 68,
   "id": "beginning-venice",
   "metadata": {},
   "outputs": [
    {
     "data": {
      "text/plain": [
       "<tensorflow.python.training.tracking.util.CheckpointLoadStatus at 0x2b50d400130>"
      ]
     },
     "execution_count": 68,
     "metadata": {},
     "output_type": "execute_result"
    }
   ],
   "source": [
    "model2.load_weights('saveweights2/model_lstm_dense_ensemble/'+model2.name)"
   ]
  },
  {
   "cell_type": "markdown",
   "id": "gAv44bJ6KyD5",
   "metadata": {
    "id": "gAv44bJ6KyD5"
   },
   "source": [
    "### Performance Summary \n",
    "\n",
    "We have performed a range of experiments for this task with changing layers, activation functions, hyperparameters tuning, etc. The finnal models output are summarized bellow. \n",
    "\n",
    "\n",
    "LSTM-DENSE (with dropout) n_h==200\n",
    "\n",
    "* 1200 Epochs | Best at 1148 loss: 2.9478 - val_loss: 2.9557 | TEST MAPE : 3.0818\n",
    "\n",
    "LSTM-DENSE-ENSEMBLE\n",
    "\n",
    "* 1200 Epochs | Best at 1161 loss: 2.7795 - val_loss: 2.8414\n",
    " | TEST MAPE : 2.9440\n",
    "\n"
   ]
  },
  {
   "cell_type": "code",
   "execution_count": 69,
   "id": "later-swedish",
   "metadata": {},
   "outputs": [],
   "source": [
    "import json"
   ]
  },
  {
   "cell_type": "code",
   "execution_count": 70,
   "id": "present-complement",
   "metadata": {},
   "outputs": [],
   "source": [
    "#loading training history of the models \n",
    "\n",
    "\n",
    "\n",
    "f = open('saveweights2/model_lstm_dense/history.json')\n",
    "lstm_dense_history = json.load(f)\n",
    "\n",
    "f = open('saveweights2/model_lstm_dense_ensemble//history.json')\n",
    "lstm_dense_ensemble_history = json.load(f)\n"
   ]
  },
  {
   "cell_type": "code",
   "execution_count": 71,
   "id": "passing-nickel",
   "metadata": {
    "id": "passing-nickel"
   },
   "outputs": [],
   "source": [
    "lstm_loss = lstm_dense_history['loss']\n",
    "lstm_val_loss = lstm_dense_history['val_loss']\n",
    "\n",
    "lstm_ensemble_loss=  lstm_dense_ensemble_history['loss']\n",
    "lstm_ensemble_val_loss=  lstm_dense_ensemble_history['val_loss']"
   ]
  },
  {
   "cell_type": "code",
   "execution_count": 72,
   "id": "lesser-cream",
   "metadata": {
    "colab": {
     "base_uri": "https://localhost:8080/",
     "height": 285
    },
    "executionInfo": {
     "elapsed": 9,
     "status": "ok",
     "timestamp": 1626523185538,
     "user": {
      "displayName": "Pritom Mojumder",
      "photoUrl": "https://lh3.googleusercontent.com/a-/AOh14GhvIFkqfjNMZMouxdCqgJk7ozy-5bF5ETN19nsBjA=s64",
      "userId": "01710067307887133491"
     },
     "user_tz": -360
    },
    "id": "lesser-cream",
    "outputId": "83c8fd9f-f8f1-4f4d-d02f-f79d473f4293"
   },
   "outputs": [
    {
     "data": {
      "text/plain": [
       "<matplotlib.legend.Legend at 0x2b51a443f70>"
      ]
     },
     "execution_count": 72,
     "metadata": {},
     "output_type": "execute_result"
    },
    {
     "data": {
      "image/png": "[encoded data removed]",
      "text/plain": [
       "<Figure size 432x288 with 1 Axes>"
      ]
     },
     "metadata": {},
     "output_type": "display_data"
    }
   ],
   "source": [
    "plt.figure()\n",
    "plt.title('Comparison of Training Loss')\n",
    "plt.plot(lstm_loss)\n",
    "plt.plot(lstm_ensemble_loss)\n",
    "plt.legend(['LSTM-DENSE','LSTM-DENSE-ENSEMBLE'])"
   ]
  },
  {
   "cell_type": "code",
   "execution_count": 73,
   "id": "destroyed-alpha",
   "metadata": {},
   "outputs": [
    {
     "data": {
      "text/plain": [
       "<matplotlib.legend.Legend at 0x2b50f058d00>"
      ]
     },
     "execution_count": 73,
     "metadata": {},
     "output_type": "execute_result"
    },
    {
     "data": {
      "image/png": "[encoded data removed]",
      "text/plain": [
       "<Figure size 432x288 with 1 Axes>"
      ]
     },
     "metadata": {},
     "output_type": "display_data"
    }
   ],
   "source": [
    "plt.figure()\n",
    "plt.title('Comparison of Validation Loss')\n",
    "plt.plot(lstm_val_loss)\n",
    "plt.plot(lstm_ensemble_val_loss)\n",
    "plt.legend(['LSTM-DENSE','LSTM-DENSE-ENSEMBLE'])"
   ]
  },
  {
   "cell_type": "code",
   "execution_count": 74,
   "id": "peaceful-bundle",
   "metadata": {},
   "outputs": [
    {
     "data": {
      "text/plain": [
       "<matplotlib.legend.Legend at 0x2b58dfca250>"
      ]
     },
     "execution_count": 74,
     "metadata": {},
     "output_type": "execute_result"
    },
    {
     "data": {
      "image/png": "[encoded data removed]",
      "text/plain": [
       "<Figure size 432x288 with 1 Axes>"
      ]
     },
     "metadata": {},
     "output_type": "display_data"
    }
   ],
   "source": [
    "plt.figure()\n",
    "plt.title('LSTM-DENSE - Training Loss and Validation Loss')\n",
    "plt.plot(lstm_loss)\n",
    "plt.plot(lstm_val_loss)\n",
    "plt.legend(['train','vaidation'])"
   ]
  },
  {
   "cell_type": "code",
   "execution_count": 75,
   "id": "racial-ghana",
   "metadata": {},
   "outputs": [
    {
     "data": {
      "text/plain": [
       "<matplotlib.legend.Legend at 0x2b58d73f9a0>"
      ]
     },
     "execution_count": 75,
     "metadata": {},
     "output_type": "execute_result"
    },
    {
     "data": {
      "image/png": "[encoded data removed]",
      "text/plain": [
       "<Figure size 432x288 with 1 Axes>"
      ]
     },
     "metadata": {},
     "output_type": "display_data"
    }
   ],
   "source": [
    "plt.figure()\n",
    "plt.title('LSTM-DENSE-Ensemble - Training Loss and Validation Loss')\n",
    "plt.plot(lstm_ensemble_loss)\n",
    "plt.plot(lstm_ensemble_val_loss)\n",
    "plt.legend(['train','vaidation'])"
   ]
  },
  {
   "cell_type": "markdown",
   "id": "X7IKrmH9WdpE",
   "metadata": {
    "id": "X7IKrmH9WdpE"
   },
   "source": [
    "## Visualization\n"
   ]
  },
  {
   "cell_type": "code",
   "execution_count": 84,
   "id": "dt_gOubefPDb",
   "metadata": {
    "id": "dt_gOubefPDb"
   },
   "outputs": [],
   "source": [
    "def visualize_day(df_onehot,date,nextday,model=None,dense_only=False):\n",
    "    #extracting data for the given date\n",
    "    temp = df_onehot[df_onehot.date==date]\n",
    "    temp_next = df_onehot[df_onehot.date==nextday]\n",
    "    temp_x = temp[FECOLS].values #input features\n",
    "    temp_y = temp_next[TGCOL].values * MAX_DEMAND #true demands\n",
    "    temp_x = np.reshape(temp_x,(temp_x.shape[0],1,temp_x.shape[1]))\n",
    "\n",
    "    #prediction\n",
    "    preds = model.predict(temp_x)\n",
    "    if dense_only:\n",
    "        preds = np.reshape(preds,(24,1))\n",
    "\n",
    "    y_preds = preds * MAX_DEMAND #predicted demands\n",
    "    plt.figure()\n",
    "    plt.plot(temp_y[0])\n",
    "    plt.plot(y_preds[0])\n",
    "    plt.legend([\"actual\",\"predicted\"])\n",
    "    plt.title(date)"
   ]
  },
  {
   "cell_type": "markdown",
   "id": "finnish-perry",
   "metadata": {},
   "source": [
    "## LSTM-DENSE"
   ]
  },
  {
   "cell_type": "code",
   "execution_count": 80,
   "id": "exposed-photographer",
   "metadata": {},
   "outputs": [],
   "source": [
    "import datetime"
   ]
  },
  {
   "cell_type": "code",
   "execution_count": 83,
   "id": "adolescent-longer",
   "metadata": {},
   "outputs": [
    {
     "ename": "TypeError",
     "evalue": "an integer is required (got type str)",
     "output_type": "error",
     "traceback": [
      "\u001b[1;31m---------------------------------------------------------------------------\u001b[0m",
      "\u001b[1;31mTypeError\u001b[0m                                 Traceback (most recent call last)",
      "\u001b[1;32m<ipython-input-83-6fc29c9a4c4d>\u001b[0m in \u001b[0;36m<module>\u001b[1;34m\u001b[0m\n\u001b[1;32m----> 1\u001b[1;33m \u001b[0mdate\u001b[0m\u001b[1;33m=\u001b[0m\u001b[0mdatetime\u001b[0m\u001b[1;33m.\u001b[0m\u001b[0mdatetime\u001b[0m\u001b[1;33m(\u001b[0m\u001b[1;34m'2003/7/1'\u001b[0m\u001b[1;33m)\u001b[0m\u001b[1;33m\u001b[0m\u001b[1;33m\u001b[0m\u001b[0m\n\u001b[0m\u001b[0;32m      2\u001b[0m \u001b[1;33m\u001b[0m\u001b[0m\n\u001b[0;32m      3\u001b[0m \u001b[0mdate\u001b[0m \u001b[1;33m+=\u001b[0m \u001b[0mdatetime\u001b[0m\u001b[1;33m.\u001b[0m\u001b[0mtimedelta\u001b[0m\u001b[1;33m(\u001b[0m\u001b[0mdays\u001b[0m\u001b[1;33m=\u001b[0m\u001b[1;36m1\u001b[0m\u001b[1;33m)\u001b[0m\u001b[1;33m\u001b[0m\u001b[1;33m\u001b[0m\u001b[0m\n\u001b[0;32m      4\u001b[0m \u001b[0mdate\u001b[0m\u001b[1;33m\u001b[0m\u001b[1;33m\u001b[0m\u001b[0m\n",
      "\u001b[1;31mTypeError\u001b[0m: an integer is required (got type str)"
     ]
    }
   ],
   "source": [
    "date=datetime.datetime('2003/7/1')\n",
    "\n",
    "date += datetime.timedelta(days=1)\n",
    "date"
   ]
  },
  {
   "cell_type": "code",
   "execution_count": 85,
   "id": "mPk8J-96g2yk",
   "metadata": {
    "colab": {
     "base_uri": "https://localhost:8080/",
     "height": 551
    },
    "executionInfo": {
     "elapsed": 1506,
     "status": "ok",
     "timestamp": 1626523274188,
     "user": {
      "displayName": "Pritom Mojumder",
      "photoUrl": "https://lh3.googleusercontent.com/a-/AOh14GhvIFkqfjNMZMouxdCqgJk7ozy-5bF5ETN19nsBjA=s64",
      "userId": "01710067307887133491"
     },
     "user_tz": -360
    },
    "id": "mPk8J-96g2yk",
    "outputId": "ccc6df7a-7ac1-444e-a48e-7cda1728d903"
   },
   "outputs": [
    {
     "data": {
      "image/png": "[encoded data removed]",
      "text/plain": [
       "<Figure size 432x288 with 1 Axes>"
      ]
     },
     "metadata": {},
     "output_type": "display_data"
    },
    {
     "data": {
      "image/png": "[encoded data removed]",
      "text/plain": [
       "<Figure size 432x288 with 1 Axes>"
      ]
     },
     "metadata": {},
     "output_type": "display_data"
    }
   ],
   "source": [
    "visualize_day(df_onehot,date='2003/7/1',nextday='2014/7/2',model=model1)\n",
    "visualize_day(df_onehot,date='2014/7/2',nextday='2014/7/3',model=model1)"
   ]
  },
  {
   "cell_type": "markdown",
   "id": "adjusted-prince",
   "metadata": {},
   "source": [
    "## LSTM-DENSE Ensemble"
   ]
  },
  {
   "cell_type": "code",
   "execution_count": 84,
   "id": "tough-aluminum",
   "metadata": {},
   "outputs": [
    {
     "data": {
      "image/png": "[encoded data removed]",
      "text/plain": [
       "<Figure size 432x288 with 1 Axes>"
      ]
     },
     "metadata": {},
     "output_type": "display_data"
    },
    {
     "data": {
      "image/png": "[encoded data removed]",
      "text/plain": [
       "<Figure size 432x288 with 1 Axes>"
      ]
     },
     "metadata": {},
     "output_type": "display_data"
    }
   ],
   "source": [
    "visualize_day(df_onehot,date='2003/7/2',model=model2)\n",
    "visualize_day(df_onehot,date='2014/7/2',model=model2)"
   ]
  },
  {
   "cell_type": "markdown",
   "id": "private-purple",
   "metadata": {},
   "source": [
    "## Visualization for 1 week"
   ]
  },
  {
   "cell_type": "code",
   "execution_count": 118,
   "id": "official-jackson",
   "metadata": {},
   "outputs": [],
   "source": [
    "df_onehot['date'] = pd.to_datetime(df_onehot['date'])"
   ]
  },
  {
   "cell_type": "code",
   "execution_count": 119,
   "id": "endless-friendly",
   "metadata": {},
   "outputs": [],
   "source": [
    "df_onehot['year'] = df_onehot['date'].dt.year"
   ]
  },
  {
   "cell_type": "code",
   "execution_count": 120,
   "id": "hindu-tolerance",
   "metadata": {},
   "outputs": [
    {
     "data": {
      "text/html": [
       "<div>\n",
       "<style scoped>\n",
       "    .dataframe tbody tr th:only-of-type {\n",
       "        vertical-align: middle;\n",
       "    }\n",
       "\n",
       "    .dataframe tbody tr th {\n",
       "        vertical-align: top;\n",
       "    }\n",
       "\n",
       "    .dataframe thead th {\n",
       "        text-align: right;\n",
       "    }\n",
       "</style>\n",
       "<table border=\"1\" class=\"dataframe\">\n",
       "  <thead>\n",
       "    <tr style=\"text-align: right;\">\n",
       "      <th></th>\n",
       "      <th>date</th>\n",
       "      <th>weekday</th>\n",
       "      <th>festival</th>\n",
       "      <th>dh_0</th>\n",
       "      <th>dh_1</th>\n",
       "      <th>dh_2</th>\n",
       "      <th>dh_3</th>\n",
       "      <th>dh_4</th>\n",
       "      <th>dh_5</th>\n",
       "      <th>dh_6</th>\n",
       "      <th>...</th>\n",
       "      <th>month_8</th>\n",
       "      <th>month_9</th>\n",
       "      <th>month_10</th>\n",
       "      <th>month_11</th>\n",
       "      <th>month_12</th>\n",
       "      <th>season_0</th>\n",
       "      <th>season_1</th>\n",
       "      <th>season_2</th>\n",
       "      <th>season_3</th>\n",
       "      <th>year</th>\n",
       "    </tr>\n",
       "  </thead>\n",
       "  <tbody>\n",
       "    <tr>\n",
       "      <th>0</th>\n",
       "      <td>2003-03-01</td>\n",
       "      <td>0.0</td>\n",
       "      <td>0.0</td>\n",
       "      <td>0.465680</td>\n",
       "      <td>0.448519</td>\n",
       "      <td>0.440048</td>\n",
       "      <td>0.437043</td>\n",
       "      <td>0.440229</td>\n",
       "      <td>0.455000</td>\n",
       "      <td>0.479183</td>\n",
       "      <td>...</td>\n",
       "      <td>0</td>\n",
       "      <td>0</td>\n",
       "      <td>0</td>\n",
       "      <td>0</td>\n",
       "      <td>0</td>\n",
       "      <td>0</td>\n",
       "      <td>0</td>\n",
       "      <td>0</td>\n",
       "      <td>1</td>\n",
       "      <td>2003</td>\n",
       "    </tr>\n",
       "    <tr>\n",
       "      <th>1</th>\n",
       "      <td>2003-03-02</td>\n",
       "      <td>0.0</td>\n",
       "      <td>0.0</td>\n",
       "      <td>0.429404</td>\n",
       "      <td>0.411737</td>\n",
       "      <td>0.401311</td>\n",
       "      <td>0.394794</td>\n",
       "      <td>0.395699</td>\n",
       "      <td>0.404279</td>\n",
       "      <td>0.420100</td>\n",
       "      <td>...</td>\n",
       "      <td>0</td>\n",
       "      <td>0</td>\n",
       "      <td>0</td>\n",
       "      <td>0</td>\n",
       "      <td>0</td>\n",
       "      <td>0</td>\n",
       "      <td>0</td>\n",
       "      <td>0</td>\n",
       "      <td>1</td>\n",
       "      <td>2003</td>\n",
       "    </tr>\n",
       "  </tbody>\n",
       "</table>\n",
       "<p>2 rows × 260 columns</p>\n",
       "</div>"
      ],
      "text/plain": [
       "        date  weekday  festival      dh_0      dh_1      dh_2      dh_3  \\\n",
       "0 2003-03-01      0.0       0.0  0.465680  0.448519  0.440048  0.437043   \n",
       "1 2003-03-02      0.0       0.0  0.429404  0.411737  0.401311  0.394794   \n",
       "\n",
       "       dh_4      dh_5      dh_6  ...  month_8  month_9  month_10  month_11  \\\n",
       "0  0.440229  0.455000  0.479183  ...        0        0         0         0   \n",
       "1  0.395699  0.404279  0.420100  ...        0        0         0         0   \n",
       "\n",
       "   month_12  season_0  season_1  season_2  season_3  year  \n",
       "0         0         0         0         0         1  2003  \n",
       "1         0         0         0         0         1  2003  \n",
       "\n",
       "[2 rows x 260 columns]"
      ]
     },
     "execution_count": 120,
     "metadata": {},
     "output_type": "execute_result"
    }
   ],
   "source": [
    "df_onehot.head(2)"
   ]
  },
  {
   "cell_type": "code",
   "execution_count": 142,
   "id": "every-portal",
   "metadata": {},
   "outputs": [
    {
     "name": "stderr",
     "output_type": "stream",
     "text": [
      "<ipython-input-142-1e080a87f79c>:2: UserWarning: Boolean Series key will be reindexed to match DataFrame index.\n",
      "  temp = df_onehot[df_onehot.year==2014][df_onehot.month_1==1]\n"
     ]
    }
   ],
   "source": [
    "#extracting 1 week data for the given year and month\n",
    "temp = df_onehot[df_onehot.year==2014][df_onehot.month_1==1]\n",
    "\n",
    "\n",
    "temp_x = temp[FECOLS].values #input features\n",
    "temp_y = temp[TGCOL].values\n",
    "temp_x = np.reshape(temp_x,(temp_x.shape[0],1,temp_x.shape[1]))\n"
   ]
  },
  {
   "cell_type": "markdown",
   "id": "southern-assessment",
   "metadata": {},
   "source": [
    "## LSTM-DENSE"
   ]
  },
  {
   "cell_type": "code",
   "execution_count": 148,
   "id": "statewide-division",
   "metadata": {},
   "outputs": [],
   "source": [
    "#prediction\n",
    "preds = model1.predict(temp_x)"
   ]
  },
  {
   "cell_type": "code",
   "execution_count": 149,
   "id": "inside-group",
   "metadata": {},
   "outputs": [],
   "source": [
    "y_truth = temp_y[0:7] * MAX_DEMAND\n",
    "y_preds = abs(preds[0:7]) * MAX_DEMAND"
   ]
  },
  {
   "cell_type": "code",
   "execution_count": 150,
   "id": "overhead-sweet",
   "metadata": {},
   "outputs": [],
   "source": [
    "y_preds = np.reshape(y_preds,(24*7))\n",
    "y_truth = np.reshape(y_truth,(24*7))"
   ]
  },
  {
   "cell_type": "code",
   "execution_count": 152,
   "id": "foster-lindsay",
   "metadata": {},
   "outputs": [
    {
     "data": {
      "text/plain": [
       "Text(0.5, 1.0, '2014 January')"
      ]
     },
     "execution_count": 152,
     "metadata": {},
     "output_type": "execute_result"
    },
    {
     "data": {
      "image/png": "[encoded data removed]",
      "text/plain": [
       "<Figure size 432x288 with 1 Axes>"
      ]
     },
     "metadata": {},
     "output_type": "display_data"
    }
   ],
   "source": [
    "plt.figure()\n",
    "plt.plot(y_truth)\n",
    "plt.plot(y_preds)\n",
    "plt.legend([\"actual\",\"predicted\"])\n",
    "plt.title('2014 January')"
   ]
  },
  {
   "cell_type": "markdown",
   "id": "stopped-species",
   "metadata": {},
   "source": [
    "## LSTM-DENSE Ensemble"
   ]
  },
  {
   "cell_type": "code",
   "execution_count": 174,
   "id": "regulated-concern",
   "metadata": {},
   "outputs": [],
   "source": [
    "#prediction\n",
    "preds = model2.predict(temp_x)"
   ]
  },
  {
   "cell_type": "code",
   "execution_count": 175,
   "id": "ahead-indonesian",
   "metadata": {},
   "outputs": [],
   "source": [
    "y_preds = abs(preds[0:7]) * MAX_DEMAND\n",
    "y_preds = np.reshape(y_preds,(24*7))"
   ]
  },
  {
   "cell_type": "code",
   "execution_count": 176,
   "id": "global-vacation",
   "metadata": {},
   "outputs": [
    {
     "data": {
      "text/plain": [
       "Text(0.5, 1.0, '2014 January')"
      ]
     },
     "execution_count": 176,
     "metadata": {},
     "output_type": "execute_result"
    },
    {
     "data": {
      "image/png": "[encoded data removed]",
      "text/plain": [
       "<Figure size 432x288 with 1 Axes>"
      ]
     },
     "metadata": {},
     "output_type": "display_data"
    }
   ],
   "source": [
    "plt.figure()\n",
    "plt.plot(y_truth)\n",
    "plt.plot(y_preds)\n",
    "plt.legend([\"actual\",\"predicted\"])\n",
    "plt.title('2014 January')"
   ]
  },
  {
   "cell_type": "markdown",
   "id": "domestic-college",
   "metadata": {},
   "source": [
    "## Performance Analysis\n",
    "\n",
    "Here we will visualise 95$\\%$ confidence interval for 2 models. "
   ]
  },
  {
   "cell_type": "code",
   "execution_count": 197,
   "id": "gothic-mountain",
   "metadata": {},
   "outputs": [
    {
     "name": "stderr",
     "output_type": "stream",
     "text": [
      "<ipython-input-197-469edaa302a0>:1: UserWarning: Boolean Series key will be reindexed to match DataFrame index.\n",
      "  temp_2014_january = df_onehot[df_onehot.year==2014][df_onehot.month_1==1]\n"
     ]
    }
   ],
   "source": [
    "temp_2014_january = df_onehot[df_onehot.year==2014][df_onehot.month_1==1]"
   ]
  },
  {
   "cell_type": "code",
   "execution_count": 198,
   "id": "guilty-workshop",
   "metadata": {},
   "outputs": [],
   "source": [
    "temp_x = temp_2014_january[FECOLS].values #input features\n",
    "temp_y = temp_2014_january[TGCOL].values #true demands\n",
    "temp_x = np.reshape(temp_x,(temp_x.shape[0],1,temp_x.shape[1]))"
   ]
  },
  {
   "cell_type": "markdown",
   "id": "pacific-precipitation",
   "metadata": {},
   "source": [
    "## LSTM-DENSE"
   ]
  },
  {
   "cell_type": "code",
   "execution_count": 199,
   "id": "diverse-allowance",
   "metadata": {},
   "outputs": [],
   "source": [
    "preds = model1.predict(temp_x)"
   ]
  },
  {
   "cell_type": "code",
   "execution_count": 204,
   "id": "seasonal-superior",
   "metadata": {},
   "outputs": [],
   "source": [
    "preds = np.reshape(preds,(31*24))"
   ]
  },
  {
   "cell_type": "code",
   "execution_count": 227,
   "id": "transparent-transformation",
   "metadata": {},
   "outputs": [],
   "source": [
    "hours = [i for i in range(1,32) for i in range(0,24)]"
   ]
  },
  {
   "cell_type": "code",
   "execution_count": 230,
   "id": "functional-india",
   "metadata": {},
   "outputs": [],
   "source": [
    "temp_df = pd.DataFrame({\n",
    "    'hour':hours,\n",
    "    'predicted':preds\n",
    "})"
   ]
  },
  {
   "cell_type": "code",
   "execution_count": 231,
   "id": "welcome-silicon",
   "metadata": {},
   "outputs": [
    {
     "data": {
      "text/plain": [
       "Text(0.5, 1.0, 'Actual load and 95% prediction intervals for January 2014')"
      ]
     },
     "execution_count": 231,
     "metadata": {},
     "output_type": "execute_result"
    },
    {
     "data": {
      "image/png": "[encoded data removed]",
      "text/plain": [
       "<Figure size 432x288 with 1 Axes>"
      ]
     },
     "metadata": {},
     "output_type": "display_data"
    }
   ],
   "source": [
    "sns.lineplot(x='hour',y='predicted',data=temp_df,ci=95)\n",
    "plt.title('Actual load and 95% prediction intervals for January 2014')"
   ]
  },
  {
   "cell_type": "markdown",
   "id": "homeless-motion",
   "metadata": {},
   "source": [
    "## LSTM-DENSE-ENSEMBLE"
   ]
  },
  {
   "cell_type": "code",
   "execution_count": 235,
   "id": "formal-detector",
   "metadata": {},
   "outputs": [],
   "source": [
    "preds = model2.predict(temp_x)\n",
    "preds = np.reshape(preds,(31*24))"
   ]
  },
  {
   "cell_type": "code",
   "execution_count": 236,
   "id": "synthetic-cache",
   "metadata": {},
   "outputs": [],
   "source": [
    "temp_df = pd.DataFrame({\n",
    "    'hour':hours,\n",
    "    'predicted':preds\n",
    "})"
   ]
  },
  {
   "cell_type": "code",
   "execution_count": 237,
   "id": "african-maker",
   "metadata": {},
   "outputs": [
    {
     "data": {
      "text/plain": [
       "Text(0.5, 1.0, 'Actual load and 95% prediction intervals for January 2014')"
      ]
     },
     "execution_count": 237,
     "metadata": {},
     "output_type": "execute_result"
    },
    {
     "data": {
      "image/png": "[encoded data removed]",
      "text/plain": [
       "<Figure size 432x288 with 1 Axes>"
      ]
     },
     "metadata": {},
     "output_type": "display_data"
    }
   ],
   "source": [
    "sns.lineplot(x='hour',y='predicted',data=temp_df,ci=95)\n",
    "plt.title('Actual load and 95% prediction intervals for January 2014')"
   ]
  },
  {
   "cell_type": "markdown",
   "id": "subject-background",
   "metadata": {},
   "source": [
    "## Extrapolate for Different Duration "
   ]
  },
  {
   "cell_type": "markdown",
   "id": "postal-dominant",
   "metadata": {},
   "source": [
    "#### Extrapolation Analysis for 2014"
   ]
  },
  {
   "cell_type": "code",
   "execution_count": 188,
   "id": "continental-agreement",
   "metadata": {},
   "outputs": [],
   "source": [
    "# temp = df_onehot[df_onehot.year==2014]\n",
    "# temp.reset_index(drop=True,inplace=True)\n",
    "# temp[['hour','prev_hour_1', 'prev_hour_2',\n",
    "#           'prev_hour_3', 'prev_hour_4','prev_hour_5', 'prev_hour_6']].head()"
   ]
  },
  {
   "cell_type": "code",
   "execution_count": 189,
   "id": "egyptian-deviation",
   "metadata": {},
   "outputs": [],
   "source": [
    "# temp_x = temp[FECOLS].values\n",
    "# temp_y = temp[TGCOL].values"
   ]
  },
  {
   "cell_type": "code",
   "execution_count": 190,
   "id": "stuck-tulsa",
   "metadata": {},
   "outputs": [],
   "source": [
    "# temp_x = np.reshape(temp_x,(temp_x.shape[0],1,temp_x.shape[1]))"
   ]
  },
  {
   "cell_type": "code",
   "execution_count": 191,
   "id": "authorized-proportion",
   "metadata": {},
   "outputs": [],
   "source": [
    "# df_extrapolate = temp.copy()\n",
    "# start_prev_1 = df_extrapolate.iloc[0].prev_hour_1\n",
    "# start_prev_2 = df_extrapolate.iloc[0].prev_hour_2\n",
    "# start_prev_3 = df_extrapolate.iloc[0].prev_hour_3\n",
    "# start_prev_4 = df_extrapolate.iloc[0].prev_hour_4\n",
    "# start_prev_5 = df_extrapolate.iloc[0].prev_hour_5\n",
    "# start_prev_6 = df_extrapolate.iloc[0].prev_hour_6"
   ]
  },
  {
   "cell_type": "code",
   "execution_count": 192,
   "id": "global-contamination",
   "metadata": {},
   "outputs": [],
   "source": [
    "# df_extrapolate['prev_hour_1'] = 0\n",
    "# df_extrapolate['prev_hour_2'] = 0\n",
    "# df_extrapolate['prev_hour_3'] = 0\n",
    "# df_extrapolate['prev_hour_4'] = 0\n",
    "# df_extrapolate['prev_hour_5'] = 0\n",
    "# df_extrapolate['prev_hour_6'] = 0\n",
    "# df_extrapolate['predicted'] = 0\n",
    "\n",
    "# df_extrapolate.loc[0,'prev_hour_1'] = start_prev_1\n",
    "# df_extrapolate.loc[0,'prev_hour_2'] = start_prev_2\n",
    "# df_extrapolate.loc[0,'prev_hour_3'] = start_prev_3\n",
    "# df_extrapolate.loc[0,'prev_hour_4'] = start_prev_4\n",
    "# df_extrapolate.loc[0,'prev_hour_5'] = start_prev_5\n",
    "# df_extrapolate.loc[0,'prev_hour_6'] = start_prev_6\n",
    "\n",
    "# df_master['prev_hour_1'] = df_master['demand'].shift(1)\n",
    "# df_master['prev_hour_2'] = df_master['demand'].shift(2)\n",
    "# df_master['prev_hour_3'] = df_master['demand'].shift(3)\n",
    "# df_master['prev_hour_4'] = df_master['demand'].shift(4)\n",
    "# df_master['prev_hour_5'] = df_master['demand'].shift(5)\n",
    "# df_master['prev_hour_6'] = df_master['demand'].shift(6)"
   ]
  },
  {
   "cell_type": "code",
   "execution_count": 186,
   "id": "equivalent-thanksgiving",
   "metadata": {},
   "outputs": [],
   "source": [
    "# df_extrapolate.head()"
   ]
  },
  {
   "cell_type": "code",
   "execution_count": 187,
   "id": "historical-priest",
   "metadata": {},
   "outputs": [],
   "source": [
    "# from tqdm import tqdm"
   ]
  },
  {
   "cell_type": "code",
   "execution_count": 184,
   "id": "unauthorized-coach",
   "metadata": {},
   "outputs": [],
   "source": [
    "# for index in tqdm(range(df_extrapolate.shape[0])):\n",
    "#     sample = df_extrapolate[index:index+1]\n",
    "#     X = sample[FECOLS].values\n",
    "#     X = np.reshape(X,(X.shape[0],1,X.shape[1]))\n",
    "    \n",
    "#     pred = model2.predict(X)\n",
    "    \n",
    "#     #storing values in dataframe\n",
    "#     df_extrapolate.loc[index,'predicted'] = pred.tolist()[0][0]\n",
    "#     df_extrapolate.loc[index+1,'prev_hour_1'] = pred.tolist()[0][0]\n",
    "#     df_extrapolate.loc[index+1,'prev_hour_2'] = df_extrapolate.loc[index,'prev_hour_1']\n",
    "#     df_extrapolate.loc[index+1,'prev_hour_3'] = df_extrapolate.loc[index,'prev_hour_2']\n",
    "#     df_extrapolate.loc[index+1,'prev_hour_4'] = df_extrapolate.loc[index,'prev_hour_3']\n",
    "#     df_extrapolate.loc[index+1,'prev_hour_5'] = df_extrapolate.loc[index,'prev_hour_4']\n",
    "#     df_extrapolate.loc[index+1,'prev_hour_6'] = df_extrapolate.loc[index,'prev_hour_5']\n",
    "    "
   ]
  },
  {
   "cell_type": "code",
   "execution_count": 148,
   "id": "confirmed-freight",
   "metadata": {},
   "outputs": [
    {
     "data": {
      "text/html": [
       "<div>\n",
       "<style scoped>\n",
       "    .dataframe tbody tr th:only-of-type {\n",
       "        vertical-align: middle;\n",
       "    }\n",
       "\n",
       "    .dataframe tbody tr th {\n",
       "        vertical-align: top;\n",
       "    }\n",
       "\n",
       "    .dataframe thead th {\n",
       "        text-align: right;\n",
       "    }\n",
       "</style>\n",
       "<table border=\"1\" class=\"dataframe\">\n",
       "  <thead>\n",
       "    <tr style=\"text-align: right;\">\n",
       "      <th></th>\n",
       "      <th>hour</th>\n",
       "      <th>prev_hour_1</th>\n",
       "      <th>prev_hour_2</th>\n",
       "      <th>prev_hour_3</th>\n",
       "      <th>prev_hour_4</th>\n",
       "      <th>prev_hour_5</th>\n",
       "      <th>prev_hour_6</th>\n",
       "    </tr>\n",
       "  </thead>\n",
       "  <tbody>\n",
       "    <tr>\n",
       "      <th>0</th>\n",
       "      <td>1.0</td>\n",
       "      <td>0.528745</td>\n",
       "      <td>0.555897</td>\n",
       "      <td>0.585475</td>\n",
       "      <td>0.613207</td>\n",
       "      <td>0.641192</td>\n",
       "      <td>0.671132</td>\n",
       "    </tr>\n",
       "    <tr>\n",
       "      <th>1</th>\n",
       "      <td>2.0</td>\n",
       "      <td>0.499941</td>\n",
       "      <td>0.528745</td>\n",
       "      <td>0.555897</td>\n",
       "      <td>0.585475</td>\n",
       "      <td>0.613207</td>\n",
       "      <td>0.641192</td>\n",
       "    </tr>\n",
       "    <tr>\n",
       "      <th>2</th>\n",
       "      <td>3.0</td>\n",
       "      <td>0.486926</td>\n",
       "      <td>0.499941</td>\n",
       "      <td>0.528745</td>\n",
       "      <td>0.555897</td>\n",
       "      <td>0.585475</td>\n",
       "      <td>0.613207</td>\n",
       "    </tr>\n",
       "    <tr>\n",
       "      <th>3</th>\n",
       "      <td>4.0</td>\n",
       "      <td>0.480748</td>\n",
       "      <td>0.486926</td>\n",
       "      <td>0.499941</td>\n",
       "      <td>0.528745</td>\n",
       "      <td>0.555897</td>\n",
       "      <td>0.585475</td>\n",
       "    </tr>\n",
       "    <tr>\n",
       "      <th>4</th>\n",
       "      <td>5.0</td>\n",
       "      <td>0.481034</td>\n",
       "      <td>0.480748</td>\n",
       "      <td>0.486926</td>\n",
       "      <td>0.499941</td>\n",
       "      <td>0.528745</td>\n",
       "      <td>0.555897</td>\n",
       "    </tr>\n",
       "  </tbody>\n",
       "</table>\n",
       "</div>"
      ],
      "text/plain": [
       "   hour  prev_hour_1  prev_hour_2  prev_hour_3  prev_hour_4  prev_hour_5  \\\n",
       "0   1.0     0.528745     0.555897     0.585475     0.613207     0.641192   \n",
       "1   2.0     0.499941     0.528745     0.555897     0.585475     0.613207   \n",
       "2   3.0     0.486926     0.499941     0.528745     0.555897     0.585475   \n",
       "3   4.0     0.480748     0.486926     0.499941     0.528745     0.555897   \n",
       "4   5.0     0.481034     0.480748     0.486926     0.499941     0.528745   \n",
       "\n",
       "   prev_hour_6  \n",
       "0     0.671132  \n",
       "1     0.641192  \n",
       "2     0.613207  \n",
       "3     0.585475  \n",
       "4     0.555897  "
      ]
     },
     "execution_count": 148,
     "metadata": {},
     "output_type": "execute_result"
    }
   ],
   "source": [
    "# df_extrapolate[['hour','prev_hour_1', 'prev_hour_2',\n",
    "#           'prev_hour_3', 'prev_hour_4','prev_hour_5', 'prev_hour_6']].head()"
   ]
  },
  {
   "cell_type": "code",
   "execution_count": 149,
   "id": "rolled-composite",
   "metadata": {},
   "outputs": [
    {
     "data": {
      "text/plain": [
       "182593"
      ]
     },
     "execution_count": 149,
     "metadata": {},
     "output_type": "execute_result"
    }
   ],
   "source": [
    "# gc.collect()"
   ]
  },
  {
   "cell_type": "code",
   "execution_count": 150,
   "id": "golden-congo",
   "metadata": {},
   "outputs": [],
   "source": [
    "# from tensorflow.keras.losses import MeanAbsolutePercentageError as mape"
   ]
  },
  {
   "cell_type": "code",
   "execution_count": 151,
   "id": "interim-length",
   "metadata": {},
   "outputs": [],
   "source": [
    "# loss_object = mape()"
   ]
  },
  {
   "cell_type": "markdown",
   "id": "arranged-problem",
   "metadata": {},
   "source": [
    "### A Day Ahead"
   ]
  },
  {
   "cell_type": "code",
   "execution_count": 171,
   "id": "reasonable-patrol",
   "metadata": {},
   "outputs": [],
   "source": [
    "# day = df_extrapolate[0:24]\n",
    "\n",
    "# y_true = day['demand'].dropna()\n",
    "# y_pred = day['predicted'].dropna()"
   ]
  },
  {
   "cell_type": "code",
   "execution_count": 172,
   "id": "detected-temple",
   "metadata": {},
   "outputs": [
    {
     "data": {
      "text/plain": [
       "10.87806224822998"
      ]
     },
     "execution_count": 172,
     "metadata": {},
     "output_type": "execute_result"
    }
   ],
   "source": [
    "# loss = loss_object(y_true,y_pred)\n",
    "# loss.numpy()"
   ]
  },
  {
   "cell_type": "markdown",
   "id": "bottom-holmes",
   "metadata": {},
   "source": [
    "### A Week Ahead"
   ]
  },
  {
   "cell_type": "code",
   "execution_count": 152,
   "id": "above-charm",
   "metadata": {},
   "outputs": [],
   "source": [
    "# week = df_extrapolate[0:7*24]"
   ]
  },
  {
   "cell_type": "code",
   "execution_count": 153,
   "id": "pressing-grove",
   "metadata": {},
   "outputs": [],
   "source": [
    "# y_true = week['demand'].dropna()\n",
    "# y_pred = week['predicted'].dropna()"
   ]
  },
  {
   "cell_type": "code",
   "execution_count": 154,
   "id": "thermal-despite",
   "metadata": {},
   "outputs": [
    {
     "data": {
      "text/plain": [
       "4.041378974914551"
      ]
     },
     "execution_count": 154,
     "metadata": {},
     "output_type": "execute_result"
    }
   ],
   "source": [
    "# loss = loss_object(y_true,y_pred)\n",
    "# loss.numpy()"
   ]
  },
  {
   "cell_type": "markdown",
   "id": "crude-marker",
   "metadata": {},
   "source": [
    "### A Month Ahead"
   ]
  },
  {
   "cell_type": "code",
   "execution_count": 155,
   "id": "based-brook",
   "metadata": {},
   "outputs": [],
   "source": [
    "# month = df_extrapolate[0:30*24]"
   ]
  },
  {
   "cell_type": "code",
   "execution_count": 156,
   "id": "existing-botswana",
   "metadata": {},
   "outputs": [],
   "source": [
    "# y_true = month['demand'].dropna()\n",
    "# y_pred = month['predicted'].dropna()"
   ]
  },
  {
   "cell_type": "code",
   "execution_count": 157,
   "id": "protective-disney",
   "metadata": {},
   "outputs": [
    {
     "data": {
      "text/plain": [
       "2.387392044067383"
      ]
     },
     "execution_count": 157,
     "metadata": {},
     "output_type": "execute_result"
    }
   ],
   "source": [
    "# loss = loss_object(y_true,y_pred)\n",
    "# loss.numpy()"
   ]
  },
  {
   "cell_type": "markdown",
   "id": "brown-mathematics",
   "metadata": {},
   "source": [
    "### A Year Ahead"
   ]
  },
  {
   "cell_type": "code",
   "execution_count": 158,
   "id": "revised-death",
   "metadata": {},
   "outputs": [],
   "source": [
    "# y_true = df_extrapolate['demand'].dropna()\n",
    "# y_pred = df_extrapolate['predicted'].dropna()"
   ]
  },
  {
   "cell_type": "code",
   "execution_count": 159,
   "id": "federal-evolution",
   "metadata": {},
   "outputs": [
    {
     "data": {
      "text/plain": [
       "4.248743057250977"
      ]
     },
     "execution_count": 159,
     "metadata": {},
     "output_type": "execute_result"
    }
   ],
   "source": [
    "# loss = loss_object(y_true,y_pred)\n",
    "# loss.numpy()"
   ]
  },
  {
   "cell_type": "code",
   "execution_count": 181,
   "id": "permanent-offering",
   "metadata": {},
   "outputs": [],
   "source": [
    "# plt.figure(figsize=(16,8))\n",
    "# plt.plot(y_true[0:504])\n",
    "# plt.plot(y_pred[0:504])\n",
    "# plt.legend(['Actual','Predicted'])"
   ]
  },
  {
   "cell_type": "code",
   "execution_count": 182,
   "id": "negative-multimedia",
   "metadata": {},
   "outputs": [],
   "source": [
    "# losses = []\n",
    "# for i in range(1,13):\n",
    "#     m_str = \"month_\"+str(i)\n",
    "#     y_true = df_extrapolate[df_extrapolate[m_str]==1]['demand'].dropna()\n",
    "#     y_pred = df_extrapolate[df_extrapolate[m_str]==1]['predicted'].dropna()\n",
    "#     loss = loss_object(y_true,y_pred)\n",
    "#     losses.append(loss.numpy())"
   ]
  },
  {
   "cell_type": "code",
   "execution_count": 183,
   "id": "suspended-dealing",
   "metadata": {},
   "outputs": [],
   "source": [
    "# best = 100\n",
    "# for i,loss in enumerate(lstm_loss,1):\n",
    "#     if best>lstm_val_loss[i]:\n",
    "#         best =lstm_val_loss[i]\n",
    "#         best_at = i\n",
    "#     print('Epoch:',i)\n",
    "#     print(f'Best at {best_at} loss: {lstm_loss[i]} - val_loss: {lstm_val_loss[i]}\\n',)\n",
    "    "
   ]
  },
  {
   "cell_type": "code",
   "execution_count": null,
   "id": "enormous-piece",
   "metadata": {},
   "outputs": [],
   "source": []
  },
  {
   "cell_type": "code",
   "execution_count": null,
   "id": "placed-manner",
   "metadata": {},
   "outputs": [],
   "source": []
  }
 ],
 "metadata": {
  "accelerator": "GPU",
  "colab": {
   "collapsed_sections": [],
   "name": "Short Term Load Forecasting Experiment (hourly).ipynb",
   "provenance": []
  },
  "kernelspec": {
   "display_name": "Python 3",
   "language": "python",
   "name": "python3"
  },
  "language_info": {
   "codemirror_mode": {
    "name": "ipython",
    "version": 3
   },
   "file_extension": ".py",
   "mimetype": "text/x-python",
   "name": "python",
   "nbconvert_exporter": "python",
   "pygments_lexer": "ipython3",
   "version": "3.8.8"
  },
  "toc": {
   "base_numbering": 1,
   "nav_menu": {},
   "number_sections": true,
   "sideBar": true,
   "skip_h1_title": false,
   "title_cell": "Table of Contents",
   "title_sidebar": "Contents",
   "toc_cell": false,
   "toc_position": {},
   "toc_section_display": true,
   "toc_window_display": false
  }
 },
 "nbformat": 4,
 "nbformat_minor": 5
}
