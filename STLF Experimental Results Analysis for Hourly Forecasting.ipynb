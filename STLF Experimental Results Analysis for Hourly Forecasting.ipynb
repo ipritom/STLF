{
 "cells": [
  {
   "cell_type": "markdown",
   "id": "facial-campbell",
   "metadata": {
    "id": "facial-campbell"
   },
   "source": [
    "# Short Term Load Forecasting (Hourly)\n",
    "\n",
    "A range of ML based experiments have been done for hourly load forcasting for given parameters (or features)."
   ]
  },
  {
   "cell_type": "code",
   "execution_count": 85,
   "id": "basic-korean",
   "metadata": {
    "executionInfo": {
     "elapsed": 23,
     "status": "ok",
     "timestamp": 1626602586287,
     "user": {
      "displayName": "Pritom Mojumder",
      "photoUrl": "https://lh3.googleusercontent.com/a-/AOh14GhvIFkqfjNMZMouxdCqgJk7ozy-5bF5ETN19nsBjA=s64",
      "userId": "01710067307887133491"
     },
     "user_tz": -360
    },
    "id": "basic-korean"
   },
   "outputs": [],
   "source": [
    "import h5py\n",
    "import matplotlib.pyplot as plt\n",
    "import seaborn as sns\n",
    "sns.set()\n",
    "import numpy as np\n",
    "import pandas as pd\n",
    "import time\n",
    "import gc"
   ]
  },
  {
   "cell_type": "markdown",
   "id": "nzfV7Y_v_O5a",
   "metadata": {
    "id": "nzfV7Y_v_O5a"
   },
   "source": [
    "**Colab Config**"
   ]
  },
  {
   "cell_type": "code",
   "execution_count": 86,
   "id": "CBp9xDLm_ScS",
   "metadata": {
    "colab": {
     "base_uri": "https://localhost:8080/"
    },
    "executionInfo": {
     "elapsed": 63607,
     "status": "ok",
     "timestamp": 1626602649874,
     "user": {
      "displayName": "Pritom Mojumder",
      "photoUrl": "https://lh3.googleusercontent.com/a-/AOh14GhvIFkqfjNMZMouxdCqgJk7ozy-5bF5ETN19nsBjA=s64",
      "userId": "01710067307887133491"
     },
     "user_tz": -360
    },
    "id": "CBp9xDLm_ScS",
    "outputId": "eff3a08d-dea8-4c1b-b781-535fa94cb5d1"
   },
   "outputs": [],
   "source": [
    "# from google.colab import drive \n",
    "# drive.mount (\"/content/drive/\")"
   ]
  },
  {
   "cell_type": "markdown",
   "id": "brilliant-blake",
   "metadata": {},
   "source": [
    "## Architecture of the Work \n",
    "\n",
    "$ \\fbox{Load Datasets} -->  \\fbox{Feature Engineering}  --> \\fbox{Data Processing} --> \\fbox{Train-Val-Test Split} --> \\fbox{Model Training} --> \\fbox{Prediction}$ \n",
    "\n"
   ]
  },
  {
   "cell_type": "markdown",
   "id": "-jfU1XjrVS0F",
   "metadata": {
    "id": "-jfU1XjrVS0F"
   },
   "source": [
    "## Load Dataset\n",
    "\n",
    "In this work ISO-NE dataset has been considered. Dataset is taken from this work:\n",
    "https://github.com/yalickj/load-forecasting-resnet"
   ]
  },
  {
   "cell_type": "code",
   "execution_count": 87,
   "id": "imported-contest",
   "metadata": {
    "executionInfo": {
     "elapsed": 987,
     "status": "ok",
     "timestamp": 1626602871688,
     "user": {
      "displayName": "Pritom Mojumder",
      "photoUrl": "https://lh3.googleusercontent.com/a-/AOh14GhvIFkqfjNMZMouxdCqgJk7ozy-5bF5ETN19nsBjA=s64",
      "userId": "01710067307887133491"
     },
     "user_tz": -360
    },
    "id": "imported-contest"
   },
   "outputs": [],
   "source": [
    "df_master = pd.read_csv('dataset/selected_data_ISONE.csv') #in laptop\n",
    "# df_master = pd.read_csv('/content/drive/MyDrive/selected_data_ISONE.csv') #in colab"
   ]
  },
  {
   "cell_type": "code",
   "execution_count": 88,
   "id": "intense-whole",
   "metadata": {
    "colab": {
     "base_uri": "https://localhost:8080/",
     "height": 203
    },
    "executionInfo": {
     "elapsed": 405,
     "status": "ok",
     "timestamp": 1626602873681,
     "user": {
      "displayName": "Pritom Mojumder",
      "photoUrl": "https://lh3.googleusercontent.com/a-/AOh14GhvIFkqfjNMZMouxdCqgJk7ozy-5bF5ETN19nsBjA=s64",
      "userId": "01710067307887133491"
     },
     "user_tz": -360
    },
    "id": "intense-whole",
    "outputId": "a49f86eb-344a-46cb-b65e-30ec00dec8c1"
   },
   "outputs": [
    {
     "data": {
      "text/html": [
       "<div>\n",
       "<style scoped>\n",
       "    .dataframe tbody tr th:only-of-type {\n",
       "        vertical-align: middle;\n",
       "    }\n",
       "\n",
       "    .dataframe tbody tr th {\n",
       "        vertical-align: top;\n",
       "    }\n",
       "\n",
       "    .dataframe thead th {\n",
       "        text-align: right;\n",
       "    }\n",
       "</style>\n",
       "<table border=\"1\" class=\"dataframe\">\n",
       "  <thead>\n",
       "    <tr style=\"text-align: right;\">\n",
       "      <th></th>\n",
       "      <th>date</th>\n",
       "      <th>year</th>\n",
       "      <th>month</th>\n",
       "      <th>day</th>\n",
       "      <th>weekday</th>\n",
       "      <th>hour</th>\n",
       "      <th>demand</th>\n",
       "      <th>temperature</th>\n",
       "    </tr>\n",
       "  </thead>\n",
       "  <tbody>\n",
       "    <tr>\n",
       "      <th>0</th>\n",
       "      <td>2003/3/1</td>\n",
       "      <td>2003</td>\n",
       "      <td>3</td>\n",
       "      <td>1</td>\n",
       "      <td>7</td>\n",
       "      <td>1</td>\n",
       "      <td>12863.0</td>\n",
       "      <td>23</td>\n",
       "    </tr>\n",
       "    <tr>\n",
       "      <th>1</th>\n",
       "      <td>2003/3/1</td>\n",
       "      <td>2003</td>\n",
       "      <td>3</td>\n",
       "      <td>1</td>\n",
       "      <td>7</td>\n",
       "      <td>2</td>\n",
       "      <td>12389.0</td>\n",
       "      <td>22</td>\n",
       "    </tr>\n",
       "    <tr>\n",
       "      <th>2</th>\n",
       "      <td>2003/3/1</td>\n",
       "      <td>2003</td>\n",
       "      <td>3</td>\n",
       "      <td>1</td>\n",
       "      <td>7</td>\n",
       "      <td>3</td>\n",
       "      <td>12155.0</td>\n",
       "      <td>21</td>\n",
       "    </tr>\n",
       "    <tr>\n",
       "      <th>3</th>\n",
       "      <td>2003/3/1</td>\n",
       "      <td>2003</td>\n",
       "      <td>3</td>\n",
       "      <td>1</td>\n",
       "      <td>7</td>\n",
       "      <td>4</td>\n",
       "      <td>12072.0</td>\n",
       "      <td>21</td>\n",
       "    </tr>\n",
       "    <tr>\n",
       "      <th>4</th>\n",
       "      <td>2003/3/1</td>\n",
       "      <td>2003</td>\n",
       "      <td>3</td>\n",
       "      <td>1</td>\n",
       "      <td>7</td>\n",
       "      <td>5</td>\n",
       "      <td>12160.0</td>\n",
       "      <td>22</td>\n",
       "    </tr>\n",
       "  </tbody>\n",
       "</table>\n",
       "</div>"
      ],
      "text/plain": [
       "       date  year  month  day  weekday  hour   demand  temperature\n",
       "0  2003/3/1  2003      3    1        7     1  12863.0           23\n",
       "1  2003/3/1  2003      3    1        7     2  12389.0           22\n",
       "2  2003/3/1  2003      3    1        7     3  12155.0           21\n",
       "3  2003/3/1  2003      3    1        7     4  12072.0           21\n",
       "4  2003/3/1  2003      3    1        7     5  12160.0           22"
      ]
     },
     "execution_count": 88,
     "metadata": {},
     "output_type": "execute_result"
    }
   ],
   "source": [
    "df_master.head()"
   ]
  },
  {
   "cell_type": "code",
   "execution_count": 89,
   "id": "labeled-prize",
   "metadata": {
    "colab": {
     "base_uri": "https://localhost:8080/"
    },
    "executionInfo": {
     "elapsed": 4,
     "status": "ok",
     "timestamp": 1626602875102,
     "user": {
      "displayName": "Pritom Mojumder",
      "photoUrl": "https://lh3.googleusercontent.com/a-/AOh14GhvIFkqfjNMZMouxdCqgJk7ozy-5bF5ETN19nsBjA=s64",
      "userId": "01710067307887133491"
     },
     "user_tz": -360
    },
    "id": "labeled-prize",
    "outputId": "c2328563-40a9-424f-8a7d-3f6c34971e45"
   },
   "outputs": [
    {
     "name": "stdout",
     "output_type": "stream",
     "text": [
      "Number of Samples: 103776\n",
      "Number of Days: 4324\n"
     ]
    }
   ],
   "source": [
    "print(\"Number of Samples:\",df_master.shape[0])\n",
    "print(\"Number of Days:\" ,len(df_master.date.unique()))"
   ]
  },
  {
   "cell_type": "markdown",
   "id": "gross-minimum",
   "metadata": {},
   "source": [
    "### Data Analysis"
   ]
  },
  {
   "cell_type": "code",
   "execution_count": 90,
   "id": "trained-watershed",
   "metadata": {},
   "outputs": [],
   "source": [
    "df_temp_2014 = df_master[df_master.year==2014]"
   ]
  },
  {
   "cell_type": "code",
   "execution_count": 91,
   "id": "understood-hardware",
   "metadata": {},
   "outputs": [
    {
     "data": {
      "text/html": [
       "<div>\n",
       "<style scoped>\n",
       "    .dataframe tbody tr th:only-of-type {\n",
       "        vertical-align: middle;\n",
       "    }\n",
       "\n",
       "    .dataframe tbody tr th {\n",
       "        vertical-align: top;\n",
       "    }\n",
       "\n",
       "    .dataframe thead th {\n",
       "        text-align: right;\n",
       "    }\n",
       "</style>\n",
       "<table border=\"1\" class=\"dataframe\">\n",
       "  <thead>\n",
       "    <tr style=\"text-align: right;\">\n",
       "      <th></th>\n",
       "      <th>date</th>\n",
       "      <th>year</th>\n",
       "      <th>month</th>\n",
       "      <th>day</th>\n",
       "      <th>weekday</th>\n",
       "      <th>hour</th>\n",
       "      <th>demand</th>\n",
       "      <th>temperature</th>\n",
       "    </tr>\n",
       "  </thead>\n",
       "  <tbody>\n",
       "    <tr>\n",
       "      <th>95016</th>\n",
       "      <td>2014/1/1</td>\n",
       "      <td>2014</td>\n",
       "      <td>1</td>\n",
       "      <td>1</td>\n",
       "      <td>4</td>\n",
       "      <td>1</td>\n",
       "      <td>13821.0</td>\n",
       "      <td>20</td>\n",
       "    </tr>\n",
       "    <tr>\n",
       "      <th>95017</th>\n",
       "      <td>2014/1/1</td>\n",
       "      <td>2014</td>\n",
       "      <td>1</td>\n",
       "      <td>1</td>\n",
       "      <td>4</td>\n",
       "      <td>2</td>\n",
       "      <td>13280.0</td>\n",
       "      <td>19</td>\n",
       "    </tr>\n",
       "    <tr>\n",
       "      <th>95018</th>\n",
       "      <td>2014/1/1</td>\n",
       "      <td>2014</td>\n",
       "      <td>1</td>\n",
       "      <td>1</td>\n",
       "      <td>4</td>\n",
       "      <td>3</td>\n",
       "      <td>12885.0</td>\n",
       "      <td>17</td>\n",
       "    </tr>\n",
       "    <tr>\n",
       "      <th>95019</th>\n",
       "      <td>2014/1/1</td>\n",
       "      <td>2014</td>\n",
       "      <td>1</td>\n",
       "      <td>1</td>\n",
       "      <td>4</td>\n",
       "      <td>4</td>\n",
       "      <td>12729.0</td>\n",
       "      <td>17</td>\n",
       "    </tr>\n",
       "    <tr>\n",
       "      <th>95020</th>\n",
       "      <td>2014/1/1</td>\n",
       "      <td>2014</td>\n",
       "      <td>1</td>\n",
       "      <td>1</td>\n",
       "      <td>4</td>\n",
       "      <td>5</td>\n",
       "      <td>12779.0</td>\n",
       "      <td>17</td>\n",
       "    </tr>\n",
       "    <tr>\n",
       "      <th>...</th>\n",
       "      <td>...</td>\n",
       "      <td>...</td>\n",
       "      <td>...</td>\n",
       "      <td>...</td>\n",
       "      <td>...</td>\n",
       "      <td>...</td>\n",
       "      <td>...</td>\n",
       "      <td>...</td>\n",
       "    </tr>\n",
       "    <tr>\n",
       "      <th>103771</th>\n",
       "      <td>2014/12/31</td>\n",
       "      <td>2014</td>\n",
       "      <td>12</td>\n",
       "      <td>31</td>\n",
       "      <td>4</td>\n",
       "      <td>20</td>\n",
       "      <td>16955.0</td>\n",
       "      <td>22</td>\n",
       "    </tr>\n",
       "    <tr>\n",
       "      <th>103772</th>\n",
       "      <td>2014/12/31</td>\n",
       "      <td>2014</td>\n",
       "      <td>12</td>\n",
       "      <td>31</td>\n",
       "      <td>4</td>\n",
       "      <td>21</td>\n",
       "      <td>16243.0</td>\n",
       "      <td>21</td>\n",
       "    </tr>\n",
       "    <tr>\n",
       "      <th>103773</th>\n",
       "      <td>2014/12/31</td>\n",
       "      <td>2014</td>\n",
       "      <td>12</td>\n",
       "      <td>31</td>\n",
       "      <td>4</td>\n",
       "      <td>22</td>\n",
       "      <td>15525.0</td>\n",
       "      <td>21</td>\n",
       "    </tr>\n",
       "    <tr>\n",
       "      <th>103774</th>\n",
       "      <td>2014/12/31</td>\n",
       "      <td>2014</td>\n",
       "      <td>12</td>\n",
       "      <td>31</td>\n",
       "      <td>4</td>\n",
       "      <td>23</td>\n",
       "      <td>14759.0</td>\n",
       "      <td>18</td>\n",
       "    </tr>\n",
       "    <tr>\n",
       "      <th>103775</th>\n",
       "      <td>2014/12/31</td>\n",
       "      <td>2014</td>\n",
       "      <td>12</td>\n",
       "      <td>31</td>\n",
       "      <td>4</td>\n",
       "      <td>24</td>\n",
       "      <td>14071.0</td>\n",
       "      <td>19</td>\n",
       "    </tr>\n",
       "  </tbody>\n",
       "</table>\n",
       "<p>8760 rows × 8 columns</p>\n",
       "</div>"
      ],
      "text/plain": [
       "              date  year  month  day  weekday  hour   demand  temperature\n",
       "95016     2014/1/1  2014      1    1        4     1  13821.0           20\n",
       "95017     2014/1/1  2014      1    1        4     2  13280.0           19\n",
       "95018     2014/1/1  2014      1    1        4     3  12885.0           17\n",
       "95019     2014/1/1  2014      1    1        4     4  12729.0           17\n",
       "95020     2014/1/1  2014      1    1        4     5  12779.0           17\n",
       "...            ...   ...    ...  ...      ...   ...      ...          ...\n",
       "103771  2014/12/31  2014     12   31        4    20  16955.0           22\n",
       "103772  2014/12/31  2014     12   31        4    21  16243.0           21\n",
       "103773  2014/12/31  2014     12   31        4    22  15525.0           21\n",
       "103774  2014/12/31  2014     12   31        4    23  14759.0           18\n",
       "103775  2014/12/31  2014     12   31        4    24  14071.0           19\n",
       "\n",
       "[8760 rows x 8 columns]"
      ]
     },
     "execution_count": 91,
     "metadata": {},
     "output_type": "execute_result"
    }
   ],
   "source": [
    "df_temp_2014"
   ]
  },
  {
   "cell_type": "code",
   "execution_count": 92,
   "id": "outer-strip",
   "metadata": {},
   "outputs": [
    {
     "data": {
      "text/plain": [
       "<AxesSubplot:>"
      ]
     },
     "execution_count": 92,
     "metadata": {},
     "output_type": "execute_result"
    },
    {
     "data": {
      "image/png": "[encoded data removed]",
      "text/plain": [
       "<Figure size 432x288 with 1 Axes>"
      ]
     },
     "metadata": {},
     "output_type": "display_data"
    }
   ],
   "source": [
    "df_temp_2014.demand.hist() #histogram of samples"
   ]
  },
  {
   "cell_type": "code",
   "execution_count": 93,
   "id": "angry-program",
   "metadata": {},
   "outputs": [
    {
     "data": {
      "text/plain": [
       "<AxesSubplot:>"
      ]
     },
     "execution_count": 93,
     "metadata": {},
     "output_type": "execute_result"
    },
    {
     "data": {
      "image/png": "[encoded data removed]",
      "text/plain": [
       "<Figure size 432x288 with 1 Axes>"
      ]
     },
     "metadata": {},
     "output_type": "display_data"
    }
   ],
   "source": [
    "df_temp_2014.demand.hist(density=True) #probability density function"
   ]
  },
  {
   "cell_type": "markdown",
   "id": "french-minutes",
   "metadata": {},
   "source": [
    "## Feature Engineering\n",
    "\n",
    "The given dataset contains *year, month, day, weekday, hour, demand* and *temperature*. We are going to add *weekday, season* and *festival* into the dataset. We will consider previous 6 hours' load demand as an input."
   ]
  },
  {
   "cell_type": "code",
   "execution_count": 94,
   "id": "hollow-simple",
   "metadata": {
    "executionInfo": {
     "elapsed": 8,
     "status": "ok",
     "timestamp": 1626602879940,
     "user": {
      "displayName": "Pritom Mojumder",
      "photoUrl": "https://lh3.googleusercontent.com/a-/AOh14GhvIFkqfjNMZMouxdCqgJk7ozy-5bF5ETN19nsBjA=s64",
      "userId": "01710067307887133491"
     },
     "user_tz": -360
    },
    "id": "hollow-simple"
   },
   "outputs": [],
   "source": [
    "df = df_master.copy()"
   ]
  },
  {
   "cell_type": "code",
   "execution_count": 95,
   "id": "champion-worcester",
   "metadata": {
    "executionInfo": {
     "elapsed": 4,
     "status": "ok",
     "timestamp": 1626602882480,
     "user": {
      "displayName": "Pritom Mojumder",
      "photoUrl": "https://lh3.googleusercontent.com/a-/AOh14GhvIFkqfjNMZMouxdCqgJk7ozy-5bF5ETN19nsBjA=s64",
      "userId": "01710067307887133491"
     },
     "user_tz": -360
    },
    "id": "champion-worcester"
   },
   "outputs": [],
   "source": [
    "# add weekday info to the dataset\n",
    "# the initial value for iter_weekday corresponds to the first day of the dataset\n",
    "iter_weekday = 6\n",
    "weekday = np.zeros((24*4324,))\n",
    "for i in range(4324):\n",
    "    mod = np.mod(iter_weekday, 7)\n",
    "    for j in range(24):\n",
    "        if (mod == 6) or (mod == 0):\n",
    "            weekday[i*24 + j] = 0\n",
    "        else:\n",
    "            weekday[i*24 + j] = 1\n",
    "    iter_weekday += 1"
   ]
  },
  {
   "cell_type": "code",
   "execution_count": 96,
   "id": "unable-exercise",
   "metadata": {
    "executionInfo": {
     "elapsed": 3,
     "status": "ok",
     "timestamp": 1626602883867,
     "user": {
      "displayName": "Pritom Mojumder",
      "photoUrl": "https://lh3.googleusercontent.com/a-/AOh14GhvIFkqfjNMZMouxdCqgJk7ozy-5bF5ETN19nsBjA=s64",
      "userId": "01710067307887133491"
     },
     "user_tz": -360
    },
    "id": "unable-exercise"
   },
   "outputs": [],
   "source": [
    "# add season and festival info to the dataset\n",
    "import datetime\n",
    "iter_date = datetime.date(2003, 3, 1)\n",
    "season = np.zeros((24*4324,))\n",
    "festival = np.zeros((24*4324,))\n",
    "for i in range(4324):\n",
    "    month = iter_date.month\n",
    "    day = iter_date.day\n",
    "    for j in range(24):\n",
    "        if (month==4) | (month==5) | ((month==3) and (day>7)) | ((month==6) and (day<8)):\n",
    "            season[i*24 + j] = 0 #spring\n",
    "        elif (month==7) | (month==8) | ((month==6) and (day>7)) | ((month==9) and (day<8)):\n",
    "            season[i*24 + j] = 1 #summer\n",
    "        elif (month==10) | (month==11) | ((month==9) and (day>7)) | ((month==12) and (day<8)):\n",
    "            season[i*24 + j] = 2 #autumn\n",
    "        elif (month==1) | (month==2) | ((month==12) and (day>7)) | ((month==3) and (day<8)):\n",
    "            season[i*24 + j] = 3 #winter\n",
    "\n",
    "        if (month == 7) and (day == 4):\n",
    "            festival[i*24 + j] = 1\n",
    "        if (month == 11) and (iter_date.weekday() == 4) and (day + 7 > 30):\n",
    "            festival[i*24 + j] = 1\n",
    "        if (month == 12) and (day == 25):\n",
    "            festival[i*24 + j] = 1\n",
    "    iter_date = iter_date + datetime.timedelta(1)"
   ]
  },
  {
   "cell_type": "code",
   "execution_count": 97,
   "id": "naked-visitor",
   "metadata": {
    "executionInfo": {
     "elapsed": 3,
     "status": "ok",
     "timestamp": 1626602884865,
     "user": {
      "displayName": "Pritom Mojumder",
      "photoUrl": "https://lh3.googleusercontent.com/a-/AOh14GhvIFkqfjNMZMouxdCqgJk7ozy-5bF5ETN19nsBjA=s64",
      "userId": "01710067307887133491"
     },
     "user_tz": -360
    },
    "id": "naked-visitor"
   },
   "outputs": [],
   "source": [
    "df_master['weekday'] = weekday"
   ]
  },
  {
   "cell_type": "code",
   "execution_count": 98,
   "id": "heavy-symposium",
   "metadata": {
    "executionInfo": {
     "elapsed": 677,
     "status": "ok",
     "timestamp": 1626602887314,
     "user": {
      "displayName": "Pritom Mojumder",
      "photoUrl": "https://lh3.googleusercontent.com/a-/AOh14GhvIFkqfjNMZMouxdCqgJk7ozy-5bF5ETN19nsBjA=s64",
      "userId": "01710067307887133491"
     },
     "user_tz": -360
    },
    "id": "heavy-symposium"
   },
   "outputs": [],
   "source": [
    "df_master['season'] = season\n",
    "df_master['season'] = df_master.apply(lambda x:int(x['season']),axis=1) # to keep it integer\n",
    "df_master['festival'] = festival"
   ]
  },
  {
   "cell_type": "code",
   "execution_count": 99,
   "id": "obvious-latino",
   "metadata": {},
   "outputs": [],
   "source": [
    "#normalising demand with peak value\n",
    "MAX_DEMAND = max(df_master.demand)\n",
    "\n",
    "df_master['demand'] = df_master.demand/MAX_DEMAND"
   ]
  },
  {
   "cell_type": "code",
   "execution_count": 100,
   "id": "statutory-output",
   "metadata": {},
   "outputs": [],
   "source": [
    "df_master['prev_hour_1'] = df_master['demand'].shift(1)\n",
    "df_master['prev_hour_2'] = df_master['demand'].shift(2)\n",
    "df_master['prev_hour_3'] = df_master['demand'].shift(3)\n",
    "df_master['prev_hour_4'] = df_master['demand'].shift(4)\n",
    "df_master['prev_hour_5'] = df_master['demand'].shift(5)\n",
    "df_master['prev_hour_6'] = df_master['demand'].shift(6)"
   ]
  },
  {
   "cell_type": "markdown",
   "id": "ahead-colon",
   "metadata": {},
   "source": [
    "## Data Processing\n",
    "Before fitting data into neural networks model we will do some processing here. In this work demand values are normalized by peak demand value. Season and Month values are one-hot encodded.\n",
    "\n",
    "List of freatures and their size are shown bellow.\n",
    "### Features\n",
    "* M - month = 1 to 12 (one-hot-encoded) - size 12\n",
    "* W - weekday = 0 or 1 - size 1\n",
    "* H - hour = 1 to 24  - size 1\n",
    "* S - Season = 4 (one-hot-encoded) - size 4\n",
    "* T - temp - size 1\n",
    "* F - festival = 0 or 1 - size 1\n",
    "* prev_hour_x - demand at previous $h^{th}$ hour - size 6\n",
    "\n",
    "Total Feature Size 26"
   ]
  },
  {
   "cell_type": "code",
   "execution_count": 101,
   "id": "animal-sussex",
   "metadata": {
    "executionInfo": {
     "elapsed": 378,
     "status": "ok",
     "timestamp": 1626602910043,
     "user": {
      "displayName": "Pritom Mojumder",
      "photoUrl": "https://lh3.googleusercontent.com/a-/AOh14GhvIFkqfjNMZMouxdCqgJk7ozy-5bF5ETN19nsBjA=s64",
      "userId": "01710067307887133491"
     },
     "user_tz": -360
    },
    "id": "animal-sussex"
   },
   "outputs": [],
   "source": [
    "df_onehot = pd.get_dummies(df_master,columns=[\"month\",\"season\"],prefix=[\"month\",\"season\"])"
   ]
  },
  {
   "cell_type": "code",
   "execution_count": 102,
   "id": "hollywood-fishing",
   "metadata": {},
   "outputs": [
    {
     "data": {
      "text/html": [
       "<div>\n",
       "<style scoped>\n",
       "    .dataframe tbody tr th:only-of-type {\n",
       "        vertical-align: middle;\n",
       "    }\n",
       "\n",
       "    .dataframe tbody tr th {\n",
       "        vertical-align: top;\n",
       "    }\n",
       "\n",
       "    .dataframe thead th {\n",
       "        text-align: right;\n",
       "    }\n",
       "</style>\n",
       "<table border=\"1\" class=\"dataframe\">\n",
       "  <thead>\n",
       "    <tr style=\"text-align: right;\">\n",
       "      <th></th>\n",
       "      <th>date</th>\n",
       "      <th>year</th>\n",
       "      <th>day</th>\n",
       "      <th>weekday</th>\n",
       "      <th>hour</th>\n",
       "      <th>demand</th>\n",
       "      <th>temperature</th>\n",
       "      <th>festival</th>\n",
       "      <th>prev_hour_1</th>\n",
       "      <th>prev_hour_2</th>\n",
       "      <th>...</th>\n",
       "      <th>month_7</th>\n",
       "      <th>month_8</th>\n",
       "      <th>month_9</th>\n",
       "      <th>month_10</th>\n",
       "      <th>month_11</th>\n",
       "      <th>month_12</th>\n",
       "      <th>season_0</th>\n",
       "      <th>season_1</th>\n",
       "      <th>season_2</th>\n",
       "      <th>season_3</th>\n",
       "    </tr>\n",
       "  </thead>\n",
       "  <tbody>\n",
       "    <tr>\n",
       "      <th>0</th>\n",
       "      <td>2003/3/1</td>\n",
       "      <td>2003</td>\n",
       "      <td>1</td>\n",
       "      <td>0.0</td>\n",
       "      <td>1</td>\n",
       "      <td>0.465680</td>\n",
       "      <td>23</td>\n",
       "      <td>0.0</td>\n",
       "      <td>NaN</td>\n",
       "      <td>NaN</td>\n",
       "      <td>...</td>\n",
       "      <td>0</td>\n",
       "      <td>0</td>\n",
       "      <td>0</td>\n",
       "      <td>0</td>\n",
       "      <td>0</td>\n",
       "      <td>0</td>\n",
       "      <td>0</td>\n",
       "      <td>0</td>\n",
       "      <td>0</td>\n",
       "      <td>1</td>\n",
       "    </tr>\n",
       "    <tr>\n",
       "      <th>1</th>\n",
       "      <td>2003/3/1</td>\n",
       "      <td>2003</td>\n",
       "      <td>1</td>\n",
       "      <td>0.0</td>\n",
       "      <td>2</td>\n",
       "      <td>0.448519</td>\n",
       "      <td>22</td>\n",
       "      <td>0.0</td>\n",
       "      <td>0.46568</td>\n",
       "      <td>NaN</td>\n",
       "      <td>...</td>\n",
       "      <td>0</td>\n",
       "      <td>0</td>\n",
       "      <td>0</td>\n",
       "      <td>0</td>\n",
       "      <td>0</td>\n",
       "      <td>0</td>\n",
       "      <td>0</td>\n",
       "      <td>0</td>\n",
       "      <td>0</td>\n",
       "      <td>1</td>\n",
       "    </tr>\n",
       "  </tbody>\n",
       "</table>\n",
       "<p>2 rows × 30 columns</p>\n",
       "</div>"
      ],
      "text/plain": [
       "       date  year  day  weekday  hour    demand  temperature  festival  \\\n",
       "0  2003/3/1  2003    1      0.0     1  0.465680           23       0.0   \n",
       "1  2003/3/1  2003    1      0.0     2  0.448519           22       0.0   \n",
       "\n",
       "   prev_hour_1  prev_hour_2  ...  month_7  month_8  month_9  month_10  \\\n",
       "0          NaN          NaN  ...        0        0        0         0   \n",
       "1      0.46568          NaN  ...        0        0        0         0   \n",
       "\n",
       "   month_11  month_12  season_0  season_1  season_2  season_3  \n",
       "0         0         0         0         0         0         1  \n",
       "1         0         0         0         0         0         1  \n",
       "\n",
       "[2 rows x 30 columns]"
      ]
     },
     "execution_count": 102,
     "metadata": {},
     "output_type": "execute_result"
    }
   ],
   "source": [
    "df_onehot.head(2)"
   ]
  },
  {
   "cell_type": "code",
   "execution_count": 103,
   "id": "mechanical-visitor",
   "metadata": {
    "executionInfo": {
     "elapsed": 3,
     "status": "ok",
     "timestamp": 1626602911517,
     "user": {
      "displayName": "Pritom Mojumder",
      "photoUrl": "https://lh3.googleusercontent.com/a-/AOh14GhvIFkqfjNMZMouxdCqgJk7ozy-5bF5ETN19nsBjA=s64",
      "userId": "01710067307887133491"
     },
     "user_tz": -360
    },
    "id": "mechanical-visitor"
   },
   "outputs": [],
   "source": [
    "FECOLS = ['month_1', 'month_2', 'month_3', 'month_4', \n",
    "          'month_5','month_6', 'month_7', 'month_8',\n",
    "          'month_9', 'month_10','month_11','month_12',\n",
    "          \"weekday\",\"hour\",'prev_hour_1', 'prev_hour_2',\n",
    "          'prev_hour_3', 'prev_hour_4','prev_hour_5', 'prev_hour_6',\n",
    "          'season_0', 'season_1','season_2', 'season_3',\n",
    "          \"festival\",\"temperature\"]\n",
    "TGCOL = [\"demand\"]"
   ]
  },
  {
   "cell_type": "code",
   "execution_count": 104,
   "id": "coordinate-retrieval",
   "metadata": {},
   "outputs": [],
   "source": [
    "df_onehot.fillna(0,inplace=True)"
   ]
  },
  {
   "cell_type": "code",
   "execution_count": 105,
   "id": "attached-complex",
   "metadata": {
    "executionInfo": {
     "elapsed": 3,
     "status": "ok",
     "timestamp": 1626602918791,
     "user": {
      "displayName": "Pritom Mojumder",
      "photoUrl": "https://lh3.googleusercontent.com/a-/AOh14GhvIFkqfjNMZMouxdCqgJk7ozy-5bF5ETN19nsBjA=s64",
      "userId": "01710067307887133491"
     },
     "user_tz": -360
    },
    "id": "attached-complex"
   },
   "outputs": [],
   "source": [
    "X = df_onehot[FECOLS].values\n",
    "y = df_onehot[TGCOL].values"
   ]
  },
  {
   "cell_type": "code",
   "execution_count": 106,
   "id": "historic-vienna",
   "metadata": {
    "colab": {
     "base_uri": "https://localhost:8080/"
    },
    "executionInfo": {
     "elapsed": 4,
     "status": "ok",
     "timestamp": 1626602921313,
     "user": {
      "displayName": "Pritom Mojumder",
      "photoUrl": "https://lh3.googleusercontent.com/a-/AOh14GhvIFkqfjNMZMouxdCqgJk7ozy-5bF5ETN19nsBjA=s64",
      "userId": "01710067307887133491"
     },
     "user_tz": -360
    },
    "id": "historic-vienna",
    "outputId": "f8adf503-ca59-4590-d419-da989a17e866"
   },
   "outputs": [
    {
     "name": "stdout",
     "output_type": "stream",
     "text": [
      "(103776, 26) (103776, 1)\n"
     ]
    }
   ],
   "source": [
    "print(X.shape,y.shape)"
   ]
  },
  {
   "cell_type": "code",
   "execution_count": 107,
   "id": "smart-length",
   "metadata": {
    "colab": {
     "base_uri": "https://localhost:8080/"
    },
    "executionInfo": {
     "elapsed": 3,
     "status": "ok",
     "timestamp": 1626602921863,
     "user": {
      "displayName": "Pritom Mojumder",
      "photoUrl": "https://lh3.googleusercontent.com/a-/AOh14GhvIFkqfjNMZMouxdCqgJk7ozy-5bF5ETN19nsBjA=s64",
      "userId": "01710067307887133491"
     },
     "user_tz": -360
    },
    "id": "smart-length",
    "outputId": "2894f01a-8362-4d25-e960-e10ad9578f49"
   },
   "outputs": [
    {
     "data": {
      "text/plain": [
       "(103776, 1, 26)"
      ]
     },
     "execution_count": 107,
     "metadata": {},
     "output_type": "execute_result"
    }
   ],
   "source": [
    "#reshaping to train on LSTM\n",
    "X = np.reshape(X,(X.shape[0],1,X.shape[1]))\n",
    "X.shape"
   ]
  },
  {
   "cell_type": "markdown",
   "id": "possible-optics",
   "metadata": {},
   "source": [
    "## Train-Val-Test Split"
   ]
  },
  {
   "cell_type": "code",
   "execution_count": 108,
   "id": "afraid-ireland",
   "metadata": {},
   "outputs": [],
   "source": [
    "from sklearn.model_selection import train_test_split\n",
    "\n",
    "#dataset splitted into train,val,test as 64%,16%,20%\n",
    "X_train,X_test,Y_train,Y_test = train_test_split( X,y,test_size=0.2, random_state=42)\n",
    "X_train,X_val,Y_train,Y_val = train_test_split( X_train,Y_train,test_size=0.2, random_state=42)"
   ]
  },
  {
   "cell_type": "markdown",
   "id": "several-designation",
   "metadata": {
    "id": "several-designation"
   },
   "source": [
    "## Model Loading and Analysis\n",
    "\n",
    "In this section we will analyze the performance of trained neural network models."
   ]
  },
  {
   "cell_type": "code",
   "execution_count": 109,
   "id": "apart-brass",
   "metadata": {
    "executionInfo": {
     "elapsed": 377,
     "status": "ok",
     "timestamp": 1626603498245,
     "user": {
      "displayName": "Pritom Mojumder",
      "photoUrl": "https://lh3.googleusercontent.com/a-/AOh14GhvIFkqfjNMZMouxdCqgJk7ozy-5bF5ETN19nsBjA=s64",
      "userId": "01710067307887133491"
     },
     "user_tz": -360
    },
    "id": "apart-brass"
   },
   "outputs": [],
   "source": [
    "from tensorflow.keras.layers import Dense,LSTM,Dropout, Concatenate\n",
    "from tensorflow.keras import Sequential,Input, optimizers, losses, models, callbacks"
   ]
  },
  {
   "cell_type": "code",
   "execution_count": 110,
   "id": "given-means",
   "metadata": {},
   "outputs": [],
   "source": [
    "from saveweights import model_functions as models"
   ]
  },
  {
   "cell_type": "markdown",
   "id": "sudden-lingerie",
   "metadata": {},
   "source": [
    "### LSTM-DENSE Model\n",
    "\n",
    "Like ANN this model is also consists of 6 hidden layers. However, first 2 layers are replaced by LSTM layers and subsequent 4 layers are Dense layers. Activation function for dense layers is `selu`. "
   ]
  },
  {
   "cell_type": "code",
   "execution_count": 111,
   "id": "naughty-mills",
   "metadata": {},
   "outputs": [
    {
     "name": "stdout",
     "output_type": "stream",
     "text": [
      "Model: \"LSTM_DENSE\"\n",
      "_________________________________________________________________\n",
      "Layer (type)                 Output Shape              Param #   \n",
      "=================================================================\n",
      "input_3 (InputLayer)         [(None, 1, 26)]           0         \n",
      "_________________________________________________________________\n",
      "lstm_10 (LSTM)               (None, 1, 20)             3760      \n",
      "_________________________________________________________________\n",
      "lstm_11 (LSTM)               (None, 20)                3280      \n",
      "_________________________________________________________________\n",
      "dense_22 (Dense)             (None, 20)                420       \n",
      "_________________________________________________________________\n",
      "dense_23 (Dense)             (None, 20)                420       \n",
      "_________________________________________________________________\n",
      "dense_24 (Dense)             (None, 20)                420       \n",
      "_________________________________________________________________\n",
      "dense_25 (Dense)             (None, 20)                420       \n",
      "_________________________________________________________________\n",
      "dense_26 (Dense)             (None, 1)                 21        \n",
      "=================================================================\n",
      "Total params: 8,741\n",
      "Trainable params: 8,741\n",
      "Non-trainable params: 0\n",
      "_________________________________________________________________\n"
     ]
    }
   ],
   "source": [
    "model1 = models.get_lstm_model((1,26))\n",
    "model1.summary()"
   ]
  },
  {
   "cell_type": "code",
   "execution_count": 112,
   "id": "advance-correction",
   "metadata": {},
   "outputs": [
    {
     "data": {
      "text/plain": [
       "<tensorflow.python.training.tracking.util.CheckpointLoadStatus at 0x206badd0310>"
      ]
     },
     "execution_count": 112,
     "metadata": {},
     "output_type": "execute_result"
    }
   ],
   "source": [
    "model1.load_weights('saveweights/model_lstm_dense/'+model1.name)"
   ]
  },
  {
   "cell_type": "code",
   "execution_count": null,
   "id": "aquatic-poker",
   "metadata": {},
   "outputs": [],
   "source": [
    "scores = model1.evaluate(X_test, Y_test)\n",
    "print(\"TEST MAPE :\",scores)"
   ]
  },
  {
   "cell_type": "markdown",
   "id": "inside-homeless",
   "metadata": {},
   "source": [
    "### LSTM-DENSE Ensemble\n",
    "\n",
    "4 different LSTM-Dense model is parallaly trained and concatenated to make the prediction. 4 models are internally different.\n",
    "\n",
    "First model:\n",
    "* consist of `selu` activation fucntion for dense layers.  kernel_initializer=`glorot_uniform`,\n",
    "\n",
    "Second model: \n",
    "* consist of `elu` activation fucntion for dense layers.  kernel_initializer=`glorot_uniform`,\n",
    "\n",
    "Third model: \n",
    "* consist of `gelu` activation fucntion for dense layers.  kernel_initializer=`random_normal`,\n",
    "\n",
    "Forth model: \n",
    "* consist of `softplus` activation fucntion for dense layers.  kernel_initializer=`random_normal`,\n",
    "\n",
    "Finally, the last layers of these models are concatenated and pass it to the final layer to make predictions. The main idea is that these 4 models will learn input features differently so that the model as a whole can gain better generalization capability.\n"
   ]
  },
  {
   "cell_type": "code",
   "execution_count": 114,
   "id": "enhanced-dinner",
   "metadata": {},
   "outputs": [],
   "source": [
    "model2 = models.get_lstm_model_ensemble((1,26))\n",
    "# model2.summary()"
   ]
  },
  {
   "cell_type": "code",
   "execution_count": 115,
   "id": "beginning-venice",
   "metadata": {},
   "outputs": [
    {
     "data": {
      "text/plain": [
       "<tensorflow.python.training.tracking.util.CheckpointLoadStatus at 0x20613f360d0>"
      ]
     },
     "execution_count": 115,
     "metadata": {},
     "output_type": "execute_result"
    }
   ],
   "source": [
    "model2.load_weights('saveweights/model_lstm_dense_ensemble/'+model2.name)"
   ]
  },
  {
   "cell_type": "markdown",
   "id": "gAv44bJ6KyD5",
   "metadata": {
    "id": "gAv44bJ6KyD5"
   },
   "source": [
    "### Performance Summary \n",
    "\n",
    "We have performed a range of experiments for this task with changing layers, activation functions, hyperparameters tuning, etc. The finnal models output are summarized bellow. \n",
    "\n",
    "\n",
    "LSTM-DENSE\n",
    "\n",
    "* 300 Epochs | Best at 286 loss: 0.7590 - val_loss: 0.6342 | TEST MAPE : 0.6130\n",
    "\n",
    "LSTM-DENSE-ENSEMBLE \n",
    "* 300 Epochs | Best at 295 loss: 0.7452 - val_loss: 0.5885 | TEST MAPE : 0.5723\n",
    "\n"
   ]
  },
  {
   "cell_type": "code",
   "execution_count": 116,
   "id": "later-swedish",
   "metadata": {},
   "outputs": [],
   "source": [
    "import json"
   ]
  },
  {
   "cell_type": "code",
   "execution_count": 117,
   "id": "present-complement",
   "metadata": {},
   "outputs": [],
   "source": [
    "#loading training history of the models \n",
    "\n",
    "\n",
    "\n",
    "f = open('saveweights/model_lstm_dense/history.json')\n",
    "lstm_dense_history = json.load(f)\n",
    "\n",
    "f = open('saveweights/model_lstm_dense_ensemble//history.json')\n",
    "lstm_dense_ensemble_history = json.load(f)\n"
   ]
  },
  {
   "cell_type": "code",
   "execution_count": 118,
   "id": "passing-nickel",
   "metadata": {
    "id": "passing-nickel"
   },
   "outputs": [],
   "source": [
    "lstm_loss = lstm_dense_history['loss']\n",
    "lstm_val_loss = lstm_dense_history['val_loss']\n",
    "\n",
    "lstm_ensemble_loss=  lstm_dense_ensemble_history['loss']\n",
    "lstm_ensemble_val_loss=  lstm_dense_ensemble_history['val_loss']"
   ]
  },
  {
   "cell_type": "code",
   "execution_count": 119,
   "id": "lesser-cream",
   "metadata": {
    "colab": {
     "base_uri": "https://localhost:8080/",
     "height": 285
    },
    "executionInfo": {
     "elapsed": 9,
     "status": "ok",
     "timestamp": 1626523185538,
     "user": {
      "displayName": "Pritom Mojumder",
      "photoUrl": "https://lh3.googleusercontent.com/a-/AOh14GhvIFkqfjNMZMouxdCqgJk7ozy-5bF5ETN19nsBjA=s64",
      "userId": "01710067307887133491"
     },
     "user_tz": -360
    },
    "id": "lesser-cream",
    "outputId": "83c8fd9f-f8f1-4f4d-d02f-f79d473f4293"
   },
   "outputs": [
    {
     "data": {
      "text/plain": [
       "<matplotlib.legend.Legend at 0x20613f72040>"
      ]
     },
     "execution_count": 119,
     "metadata": {},
     "output_type": "execute_result"
    },
    {
     "data": {
      "image/png": "[encoded data removed]",
      "text/plain": [
       "<Figure size 432x288 with 1 Axes>"
      ]
     },
     "metadata": {},
     "output_type": "display_data"
    }
   ],
   "source": [
    "plt.figure()\n",
    "plt.title('Comparison of Training Loss')\n",
    "plt.plot(lstm_loss)\n",
    "plt.plot(lstm_ensemble_loss)\n",
    "plt.legend(['LSTM-DENSE','LSTM-DENSE-ENSEMBLE'])"
   ]
  },
  {
   "cell_type": "code",
   "execution_count": 120,
   "id": "destroyed-alpha",
   "metadata": {},
   "outputs": [
    {
     "data": {
      "text/plain": [
       "<matplotlib.legend.Legend at 0x20613d82520>"
      ]
     },
     "execution_count": 120,
     "metadata": {},
     "output_type": "execute_result"
    },
    {
     "data": {
      "image/png": "[encoded data removed]",
      "text/plain": [
       "<Figure size 432x288 with 1 Axes>"
      ]
     },
     "metadata": {},
     "output_type": "display_data"
    }
   ],
   "source": [
    "plt.figure()\n",
    "plt.title('Comparison of Validation Loss')\n",
    "plt.plot(lstm_val_loss)\n",
    "plt.plot(lstm_ensemble_val_loss)\n",
    "plt.legend(['LSTM-DENSE','LSTM-DENSE-ENSEMBLE'])"
   ]
  },
  {
   "cell_type": "code",
   "execution_count": 121,
   "id": "peaceful-bundle",
   "metadata": {},
   "outputs": [
    {
     "data": {
      "text/plain": [
       "<matplotlib.legend.Legend at 0x20613de3ee0>"
      ]
     },
     "execution_count": 121,
     "metadata": {},
     "output_type": "execute_result"
    },
    {
     "data": {
      "image/png": "[encoded data removed]",
      "text/plain": [
       "<Figure size 432x288 with 1 Axes>"
      ]
     },
     "metadata": {},
     "output_type": "display_data"
    }
   ],
   "source": [
    "plt.figure()\n",
    "plt.title('LSTM-DENSE - Training Loss and Validation Loss')\n",
    "plt.plot(lstm_loss)\n",
    "plt.plot(lstm_val_loss)\n",
    "plt.legend(['train','vaidation'])"
   ]
  },
  {
   "cell_type": "code",
   "execution_count": 122,
   "id": "racial-ghana",
   "metadata": {},
   "outputs": [
    {
     "data": {
      "text/plain": [
       "<matplotlib.legend.Legend at 0x20613e4f280>"
      ]
     },
     "execution_count": 122,
     "metadata": {},
     "output_type": "execute_result"
    },
    {
     "data": {
      "image/png": "[encoded data removed]",
      "text/plain": [
       "<Figure size 432x288 with 1 Axes>"
      ]
     },
     "metadata": {},
     "output_type": "display_data"
    }
   ],
   "source": [
    "plt.figure()\n",
    "plt.title('LSTM-DENSE-Ensemble - Training Loss and Validation Loss')\n",
    "plt.plot(lstm_ensemble_loss)\n",
    "plt.plot(lstm_ensemble_val_loss)\n",
    "plt.legend(['train','vaidation'])"
   ]
  },
  {
   "cell_type": "markdown",
   "id": "X7IKrmH9WdpE",
   "metadata": {
    "id": "X7IKrmH9WdpE"
   },
   "source": [
    "## Visualization\n"
   ]
  },
  {
   "cell_type": "code",
   "execution_count": 123,
   "id": "dt_gOubefPDb",
   "metadata": {
    "id": "dt_gOubefPDb"
   },
   "outputs": [],
   "source": [
    "def visualize_day(df_onehot,date,model=None,dense_only=False):\n",
    "    #extracting data for the given date\n",
    "    temp = df_onehot[df_onehot.date==date]\n",
    "    temp_x = temp[FECOLS].values #input features\n",
    "    temp_y = temp[TGCOL].values * MAX_DEMAND #true demands\n",
    "    temp_x = np.reshape(temp_x,(temp_x.shape[0],1,temp_x.shape[1]))\n",
    "\n",
    "    #prediction\n",
    "    preds = model.predict(temp_x)\n",
    "    if dense_only:\n",
    "        preds = np.reshape(preds,(24,1))\n",
    "\n",
    "    y_preds = preds * MAX_DEMAND #predicted demands\n",
    "    plt.figure()\n",
    "    plt.plot(temp_y)\n",
    "    plt.plot(y_preds)\n",
    "    plt.legend([\"actual\",\"predicted\"])\n",
    "    plt.title(date)"
   ]
  },
  {
   "cell_type": "markdown",
   "id": "finnish-perry",
   "metadata": {},
   "source": [
    "## LSTM-DENSE"
   ]
  },
  {
   "cell_type": "code",
   "execution_count": 124,
   "id": "mPk8J-96g2yk",
   "metadata": {
    "colab": {
     "base_uri": "https://localhost:8080/",
     "height": 551
    },
    "executionInfo": {
     "elapsed": 1506,
     "status": "ok",
     "timestamp": 1626523274188,
     "user": {
      "displayName": "Pritom Mojumder",
      "photoUrl": "https://lh3.googleusercontent.com/a-/AOh14GhvIFkqfjNMZMouxdCqgJk7ozy-5bF5ETN19nsBjA=s64",
      "userId": "01710067307887133491"
     },
     "user_tz": -360
    },
    "id": "mPk8J-96g2yk",
    "outputId": "ccc6df7a-7ac1-444e-a48e-7cda1728d903"
   },
   "outputs": [
    {
     "data": {
      "image/png": "[encoded data removed]",
      "text/plain": [
       "<Figure size 432x288 with 1 Axes>"
      ]
     },
     "metadata": {},
     "output_type": "display_data"
    },
    {
     "data": {
      "image/png": "[encoded data removed]",
      "text/plain": [
       "<Figure size 432x288 with 1 Axes>"
      ]
     },
     "metadata": {},
     "output_type": "display_data"
    }
   ],
   "source": [
    "visualize_day(df_onehot,date='2007/7/2',model=model1)\n",
    "visualize_day(df_onehot,date='2014/7/2',model=model1)"
   ]
  },
  {
   "cell_type": "markdown",
   "id": "adjusted-prince",
   "metadata": {},
   "source": [
    "## LSTM-DENSE Ensemble"
   ]
  },
  {
   "cell_type": "code",
   "execution_count": 125,
   "id": "tough-aluminum",
   "metadata": {},
   "outputs": [
    {
     "data": {
      "image/png": "[encoded data removed]",
      "text/plain": [
       "<Figure size 432x288 with 1 Axes>"
      ]
     },
     "metadata": {},
     "output_type": "display_data"
    },
    {
     "data": {
      "image/png": "[encoded data removed]",
      "text/plain": [
       "<Figure size 432x288 with 1 Axes>"
      ]
     },
     "metadata": {},
     "output_type": "display_data"
    }
   ],
   "source": [
    "visualize_day(df_onehot,date='2007/7/2',model=model2)\n",
    "visualize_day(df_onehot,date='2014/7/2',model=model2)"
   ]
  },
  {
   "cell_type": "markdown",
   "id": "private-purple",
   "metadata": {},
   "source": [
    "## Visualization for 1 week"
   ]
  },
  {
   "cell_type": "code",
   "execution_count": 126,
   "id": "every-portal",
   "metadata": {},
   "outputs": [
    {
     "name": "stderr",
     "output_type": "stream",
     "text": [
      "<ipython-input-126-c33c1a1d9667>:2: UserWarning: Boolean Series key will be reindexed to match DataFrame index.\n",
      "  temp = df_onehot[df_onehot.year==2014][df_onehot.month_1==1]\n"
     ]
    }
   ],
   "source": [
    "#extracting 1 week data for the given year and month\n",
    "temp = df_onehot[df_onehot.year==2014][df_onehot.month_1==1]\n",
    "temp = temp[0:168]\n",
    "\n",
    "temp_x = temp[FECOLS].values #input features\n",
    "temp_y = temp[TGCOL].values * MAX_DEMAND #true demands\n",
    "temp_x = np.reshape(temp_x,(temp_x.shape[0],1,temp_x.shape[1]))\n"
   ]
  },
  {
   "cell_type": "markdown",
   "id": "southern-assessment",
   "metadata": {},
   "source": [
    "## LSTM-DENSE"
   ]
  },
  {
   "cell_type": "code",
   "execution_count": 127,
   "id": "statewide-division",
   "metadata": {},
   "outputs": [],
   "source": [
    "#prediction\n",
    "preds = model1.predict(temp_x)\n",
    "y_preds = abs(preds) * MAX_DEMAND #predicted demands"
   ]
  },
  {
   "cell_type": "code",
   "execution_count": 128,
   "id": "foster-lindsay",
   "metadata": {},
   "outputs": [
    {
     "data": {
      "text/plain": [
       "Text(0.5, 1.0, '2014 January')"
      ]
     },
     "execution_count": 128,
     "metadata": {},
     "output_type": "execute_result"
    },
    {
     "data": {
      "image/png": "[encoded data removed]",
      "text/plain": [
       "<Figure size 432x288 with 1 Axes>"
      ]
     },
     "metadata": {},
     "output_type": "display_data"
    }
   ],
   "source": [
    "plt.figure()\n",
    "plt.plot(temp_y)\n",
    "plt.plot(y_preds)\n",
    "plt.legend([\"actual\",\"predicted\"])\n",
    "plt.title('2014 January')"
   ]
  },
  {
   "cell_type": "markdown",
   "id": "stopped-species",
   "metadata": {},
   "source": [
    "## LSTM-DENSE Ensemble"
   ]
  },
  {
   "cell_type": "code",
   "execution_count": 129,
   "id": "regulated-concern",
   "metadata": {},
   "outputs": [],
   "source": [
    "#prediction\n",
    "preds = model2.predict(temp_x)\n",
    "y_preds = abs(preds) * MAX_DEMAND #predicted demands"
   ]
  },
  {
   "cell_type": "code",
   "execution_count": 130,
   "id": "greenhouse-second",
   "metadata": {},
   "outputs": [
    {
     "data": {
      "text/plain": [
       "Text(0.5, 1.0, '2014 January')"
      ]
     },
     "execution_count": 130,
     "metadata": {},
     "output_type": "execute_result"
    },
    {
     "data": {
      "image/png": "[encoded data removed]",
      "text/plain": [
       "<Figure size 432x288 with 1 Axes>"
      ]
     },
     "metadata": {},
     "output_type": "display_data"
    }
   ],
   "source": [
    "plt.figure()\n",
    "plt.plot(temp_y)\n",
    "plt.plot(y_preds)\n",
    "plt.legend([\"actual\",\"predicted\"])\n",
    "plt.title('2014 January')"
   ]
  },
  {
   "cell_type": "markdown",
   "id": "domestic-college",
   "metadata": {},
   "source": [
    "## Performance Analysis\n",
    "\n",
    "Here we will visualise 95$\\%$ confidence interval for the best model (LSTM-DENSE-ENSEMBLE)."
   ]
  },
  {
   "cell_type": "code",
   "execution_count": 175,
   "id": "gothic-mountain",
   "metadata": {},
   "outputs": [
    {
     "name": "stderr",
     "output_type": "stream",
     "text": [
      "<ipython-input-175-469edaa302a0>:1: UserWarning: Boolean Series key will be reindexed to match DataFrame index.\n",
      "  temp_2014_january = df_onehot[df_onehot.year==2014][df_onehot.month_1==1]\n"
     ]
    }
   ],
   "source": [
    "temp_2014_january = df_onehot[df_onehot.year==2014][df_onehot.month_1==1]"
   ]
  },
  {
   "cell_type": "code",
   "execution_count": 176,
   "id": "guilty-workshop",
   "metadata": {},
   "outputs": [],
   "source": [
    "temp_x = temp_2014_january[FECOLS].values #input features\n",
    "temp_y = temp_2014_january[TGCOL].values * MAX_DEMAND #true demands\n",
    "temp_x = np.reshape(temp_x,(temp_x.shape[0],1,temp_x.shape[1]))"
   ]
  },
  {
   "cell_type": "markdown",
   "id": "favorite-newsletter",
   "metadata": {},
   "source": [
    "### LSTM-DENSE"
   ]
  },
  {
   "cell_type": "code",
   "execution_count": 177,
   "id": "original-majority",
   "metadata": {},
   "outputs": [],
   "source": [
    "preds = model1.predict(temp_x)"
   ]
  },
  {
   "cell_type": "code",
   "execution_count": 178,
   "id": "previous-grace",
   "metadata": {},
   "outputs": [],
   "source": [
    "temp_2014_january['predicted_model1'] = preds"
   ]
  },
  {
   "cell_type": "code",
   "execution_count": 179,
   "id": "phantom-engine",
   "metadata": {},
   "outputs": [
    {
     "data": {
      "text/html": [
       "<div>\n",
       "<style scoped>\n",
       "    .dataframe tbody tr th:only-of-type {\n",
       "        vertical-align: middle;\n",
       "    }\n",
       "\n",
       "    .dataframe tbody tr th {\n",
       "        vertical-align: top;\n",
       "    }\n",
       "\n",
       "    .dataframe thead th {\n",
       "        text-align: right;\n",
       "    }\n",
       "</style>\n",
       "<table border=\"1\" class=\"dataframe\">\n",
       "  <thead>\n",
       "    <tr style=\"text-align: right;\">\n",
       "      <th></th>\n",
       "      <th>date</th>\n",
       "      <th>year</th>\n",
       "      <th>day</th>\n",
       "      <th>weekday</th>\n",
       "      <th>hour</th>\n",
       "      <th>demand</th>\n",
       "      <th>temperature</th>\n",
       "      <th>festival</th>\n",
       "      <th>prev_hour_1</th>\n",
       "      <th>prev_hour_2</th>\n",
       "      <th>...</th>\n",
       "      <th>month_8</th>\n",
       "      <th>month_9</th>\n",
       "      <th>month_10</th>\n",
       "      <th>month_11</th>\n",
       "      <th>month_12</th>\n",
       "      <th>season_0</th>\n",
       "      <th>season_1</th>\n",
       "      <th>season_2</th>\n",
       "      <th>season_3</th>\n",
       "      <th>predicted_model1</th>\n",
       "    </tr>\n",
       "  </thead>\n",
       "  <tbody>\n",
       "    <tr>\n",
       "      <th>95016</th>\n",
       "      <td>2014/1/1</td>\n",
       "      <td>2014</td>\n",
       "      <td>1</td>\n",
       "      <td>1.0</td>\n",
       "      <td>1</td>\n",
       "      <td>0.500362</td>\n",
       "      <td>20</td>\n",
       "      <td>0.0</td>\n",
       "      <td>0.528745</td>\n",
       "      <td>0.555897</td>\n",
       "      <td>...</td>\n",
       "      <td>0</td>\n",
       "      <td>0</td>\n",
       "      <td>0</td>\n",
       "      <td>0</td>\n",
       "      <td>0</td>\n",
       "      <td>0</td>\n",
       "      <td>0</td>\n",
       "      <td>0</td>\n",
       "      <td>1</td>\n",
       "      <td>0.498504</td>\n",
       "    </tr>\n",
       "    <tr>\n",
       "      <th>95017</th>\n",
       "      <td>2014/1/1</td>\n",
       "      <td>2014</td>\n",
       "      <td>1</td>\n",
       "      <td>1.0</td>\n",
       "      <td>2</td>\n",
       "      <td>0.480776</td>\n",
       "      <td>19</td>\n",
       "      <td>0.0</td>\n",
       "      <td>0.500362</td>\n",
       "      <td>0.528745</td>\n",
       "      <td>...</td>\n",
       "      <td>0</td>\n",
       "      <td>0</td>\n",
       "      <td>0</td>\n",
       "      <td>0</td>\n",
       "      <td>0</td>\n",
       "      <td>0</td>\n",
       "      <td>0</td>\n",
       "      <td>0</td>\n",
       "      <td>1</td>\n",
       "      <td>0.484531</td>\n",
       "    </tr>\n",
       "    <tr>\n",
       "      <th>95018</th>\n",
       "      <td>2014/1/1</td>\n",
       "      <td>2014</td>\n",
       "      <td>1</td>\n",
       "      <td>1.0</td>\n",
       "      <td>3</td>\n",
       "      <td>0.466476</td>\n",
       "      <td>17</td>\n",
       "      <td>0.0</td>\n",
       "      <td>0.480776</td>\n",
       "      <td>0.500362</td>\n",
       "      <td>...</td>\n",
       "      <td>0</td>\n",
       "      <td>0</td>\n",
       "      <td>0</td>\n",
       "      <td>0</td>\n",
       "      <td>0</td>\n",
       "      <td>0</td>\n",
       "      <td>0</td>\n",
       "      <td>0</td>\n",
       "      <td>1</td>\n",
       "      <td>0.474238</td>\n",
       "    </tr>\n",
       "    <tr>\n",
       "      <th>95019</th>\n",
       "      <td>2014/1/1</td>\n",
       "      <td>2014</td>\n",
       "      <td>1</td>\n",
       "      <td>1.0</td>\n",
       "      <td>4</td>\n",
       "      <td>0.460828</td>\n",
       "      <td>17</td>\n",
       "      <td>0.0</td>\n",
       "      <td>0.466476</td>\n",
       "      <td>0.480776</td>\n",
       "      <td>...</td>\n",
       "      <td>0</td>\n",
       "      <td>0</td>\n",
       "      <td>0</td>\n",
       "      <td>0</td>\n",
       "      <td>0</td>\n",
       "      <td>0</td>\n",
       "      <td>0</td>\n",
       "      <td>0</td>\n",
       "      <td>1</td>\n",
       "      <td>0.465797</td>\n",
       "    </tr>\n",
       "    <tr>\n",
       "      <th>95020</th>\n",
       "      <td>2014/1/1</td>\n",
       "      <td>2014</td>\n",
       "      <td>1</td>\n",
       "      <td>1.0</td>\n",
       "      <td>5</td>\n",
       "      <td>0.462638</td>\n",
       "      <td>17</td>\n",
       "      <td>0.0</td>\n",
       "      <td>0.460828</td>\n",
       "      <td>0.466476</td>\n",
       "      <td>...</td>\n",
       "      <td>0</td>\n",
       "      <td>0</td>\n",
       "      <td>0</td>\n",
       "      <td>0</td>\n",
       "      <td>0</td>\n",
       "      <td>0</td>\n",
       "      <td>0</td>\n",
       "      <td>0</td>\n",
       "      <td>1</td>\n",
       "      <td>0.471066</td>\n",
       "    </tr>\n",
       "    <tr>\n",
       "      <th>...</th>\n",
       "      <td>...</td>\n",
       "      <td>...</td>\n",
       "      <td>...</td>\n",
       "      <td>...</td>\n",
       "      <td>...</td>\n",
       "      <td>...</td>\n",
       "      <td>...</td>\n",
       "      <td>...</td>\n",
       "      <td>...</td>\n",
       "      <td>...</td>\n",
       "      <td>...</td>\n",
       "      <td>...</td>\n",
       "      <td>...</td>\n",
       "      <td>...</td>\n",
       "      <td>...</td>\n",
       "      <td>...</td>\n",
       "      <td>...</td>\n",
       "      <td>...</td>\n",
       "      <td>...</td>\n",
       "      <td>...</td>\n",
       "      <td>...</td>\n",
       "    </tr>\n",
       "    <tr>\n",
       "      <th>95755</th>\n",
       "      <td>2014/1/31</td>\n",
       "      <td>2014</td>\n",
       "      <td>31</td>\n",
       "      <td>1.0</td>\n",
       "      <td>20</td>\n",
       "      <td>0.619542</td>\n",
       "      <td>36</td>\n",
       "      <td>0.0</td>\n",
       "      <td>0.637137</td>\n",
       "      <td>0.637390</td>\n",
       "      <td>...</td>\n",
       "      <td>0</td>\n",
       "      <td>0</td>\n",
       "      <td>0</td>\n",
       "      <td>0</td>\n",
       "      <td>0</td>\n",
       "      <td>0</td>\n",
       "      <td>0</td>\n",
       "      <td>0</td>\n",
       "      <td>1</td>\n",
       "      <td>0.620947</td>\n",
       "    </tr>\n",
       "    <tr>\n",
       "      <th>95756</th>\n",
       "      <td>2014/1/31</td>\n",
       "      <td>2014</td>\n",
       "      <td>31</td>\n",
       "      <td>1.0</td>\n",
       "      <td>21</td>\n",
       "      <td>0.598436</td>\n",
       "      <td>35</td>\n",
       "      <td>0.0</td>\n",
       "      <td>0.619542</td>\n",
       "      <td>0.637137</td>\n",
       "      <td>...</td>\n",
       "      <td>0</td>\n",
       "      <td>0</td>\n",
       "      <td>0</td>\n",
       "      <td>0</td>\n",
       "      <td>0</td>\n",
       "      <td>0</td>\n",
       "      <td>0</td>\n",
       "      <td>0</td>\n",
       "      <td>1</td>\n",
       "      <td>0.592889</td>\n",
       "    </tr>\n",
       "    <tr>\n",
       "      <th>95757</th>\n",
       "      <td>2014/1/31</td>\n",
       "      <td>2014</td>\n",
       "      <td>31</td>\n",
       "      <td>1.0</td>\n",
       "      <td>22</td>\n",
       "      <td>0.567917</td>\n",
       "      <td>34</td>\n",
       "      <td>0.0</td>\n",
       "      <td>0.598436</td>\n",
       "      <td>0.619542</td>\n",
       "      <td>...</td>\n",
       "      <td>0</td>\n",
       "      <td>0</td>\n",
       "      <td>0</td>\n",
       "      <td>0</td>\n",
       "      <td>0</td>\n",
       "      <td>0</td>\n",
       "      <td>0</td>\n",
       "      <td>0</td>\n",
       "      <td>1</td>\n",
       "      <td>0.559119</td>\n",
       "    </tr>\n",
       "    <tr>\n",
       "      <th>95758</th>\n",
       "      <td>2014/1/31</td>\n",
       "      <td>2014</td>\n",
       "      <td>31</td>\n",
       "      <td>1.0</td>\n",
       "      <td>23</td>\n",
       "      <td>0.526790</td>\n",
       "      <td>34</td>\n",
       "      <td>0.0</td>\n",
       "      <td>0.567917</td>\n",
       "      <td>0.598436</td>\n",
       "      <td>...</td>\n",
       "      <td>0</td>\n",
       "      <td>0</td>\n",
       "      <td>0</td>\n",
       "      <td>0</td>\n",
       "      <td>0</td>\n",
       "      <td>0</td>\n",
       "      <td>0</td>\n",
       "      <td>0</td>\n",
       "      <td>1</td>\n",
       "      <td>0.517935</td>\n",
       "    </tr>\n",
       "    <tr>\n",
       "      <th>95759</th>\n",
       "      <td>2014/1/31</td>\n",
       "      <td>2014</td>\n",
       "      <td>31</td>\n",
       "      <td>1.0</td>\n",
       "      <td>24</td>\n",
       "      <td>0.486026</td>\n",
       "      <td>33</td>\n",
       "      <td>0.0</td>\n",
       "      <td>0.526790</td>\n",
       "      <td>0.567917</td>\n",
       "      <td>...</td>\n",
       "      <td>0</td>\n",
       "      <td>0</td>\n",
       "      <td>0</td>\n",
       "      <td>0</td>\n",
       "      <td>0</td>\n",
       "      <td>0</td>\n",
       "      <td>0</td>\n",
       "      <td>0</td>\n",
       "      <td>1</td>\n",
       "      <td>0.478447</td>\n",
       "    </tr>\n",
       "  </tbody>\n",
       "</table>\n",
       "<p>744 rows × 31 columns</p>\n",
       "</div>"
      ],
      "text/plain": [
       "            date  year  day  weekday  hour    demand  temperature  festival  \\\n",
       "95016   2014/1/1  2014    1      1.0     1  0.500362           20       0.0   \n",
       "95017   2014/1/1  2014    1      1.0     2  0.480776           19       0.0   \n",
       "95018   2014/1/1  2014    1      1.0     3  0.466476           17       0.0   \n",
       "95019   2014/1/1  2014    1      1.0     4  0.460828           17       0.0   \n",
       "95020   2014/1/1  2014    1      1.0     5  0.462638           17       0.0   \n",
       "...          ...   ...  ...      ...   ...       ...          ...       ...   \n",
       "95755  2014/1/31  2014   31      1.0    20  0.619542           36       0.0   \n",
       "95756  2014/1/31  2014   31      1.0    21  0.598436           35       0.0   \n",
       "95757  2014/1/31  2014   31      1.0    22  0.567917           34       0.0   \n",
       "95758  2014/1/31  2014   31      1.0    23  0.526790           34       0.0   \n",
       "95759  2014/1/31  2014   31      1.0    24  0.486026           33       0.0   \n",
       "\n",
       "       prev_hour_1  prev_hour_2  ...  month_8  month_9  month_10  month_11  \\\n",
       "95016     0.528745     0.555897  ...        0        0         0         0   \n",
       "95017     0.500362     0.528745  ...        0        0         0         0   \n",
       "95018     0.480776     0.500362  ...        0        0         0         0   \n",
       "95019     0.466476     0.480776  ...        0        0         0         0   \n",
       "95020     0.460828     0.466476  ...        0        0         0         0   \n",
       "...            ...          ...  ...      ...      ...       ...       ...   \n",
       "95755     0.637137     0.637390  ...        0        0         0         0   \n",
       "95756     0.619542     0.637137  ...        0        0         0         0   \n",
       "95757     0.598436     0.619542  ...        0        0         0         0   \n",
       "95758     0.567917     0.598436  ...        0        0         0         0   \n",
       "95759     0.526790     0.567917  ...        0        0         0         0   \n",
       "\n",
       "       month_12  season_0  season_1  season_2  season_3  predicted_model1  \n",
       "95016         0         0         0         0         1          0.498504  \n",
       "95017         0         0         0         0         1          0.484531  \n",
       "95018         0         0         0         0         1          0.474238  \n",
       "95019         0         0         0         0         1          0.465797  \n",
       "95020         0         0         0         0         1          0.471066  \n",
       "...         ...       ...       ...       ...       ...               ...  \n",
       "95755         0         0         0         0         1          0.620947  \n",
       "95756         0         0         0         0         1          0.592889  \n",
       "95757         0         0         0         0         1          0.559119  \n",
       "95758         0         0         0         0         1          0.517935  \n",
       "95759         0         0         0         0         1          0.478447  \n",
       "\n",
       "[744 rows x 31 columns]"
      ]
     },
     "execution_count": 179,
     "metadata": {},
     "output_type": "execute_result"
    }
   ],
   "source": [
    "temp_2014_january"
   ]
  },
  {
   "cell_type": "code",
   "execution_count": 180,
   "id": "organic-attitude",
   "metadata": {},
   "outputs": [
    {
     "data": {
      "text/plain": [
       "Text(0.5, 1.0, 'Actual load and 95% prediction intervals for January 2014')"
      ]
     },
     "execution_count": 180,
     "metadata": {},
     "output_type": "execute_result"
    },
    {
     "data": {
      "image/png": "[encoded data removed]",
      "text/plain": [
       "<Figure size 432x288 with 1 Axes>"
      ]
     },
     "metadata": {},
     "output_type": "display_data"
    }
   ],
   "source": [
    "sns.lineplot(x='hour',y='predicted_model1',data=temp_2014_january,ci=95)\n",
    "plt.title('Actual load and 95% prediction intervals for January 2014')"
   ]
  },
  {
   "cell_type": "markdown",
   "id": "chief-webmaster",
   "metadata": {},
   "source": [
    "### LSTM-DENSE-ENSEMBLE"
   ]
  },
  {
   "cell_type": "code",
   "execution_count": 181,
   "id": "diverse-allowance",
   "metadata": {},
   "outputs": [],
   "source": [
    "preds = model2.predict(temp_x)"
   ]
  },
  {
   "cell_type": "code",
   "execution_count": 182,
   "id": "formal-detector",
   "metadata": {},
   "outputs": [],
   "source": [
    "temp_2014_january['predicted_model2'] = preds"
   ]
  },
  {
   "cell_type": "code",
   "execution_count": 183,
   "id": "temporal-raise",
   "metadata": {},
   "outputs": [
    {
     "data": {
      "text/html": [
       "<div>\n",
       "<style scoped>\n",
       "    .dataframe tbody tr th:only-of-type {\n",
       "        vertical-align: middle;\n",
       "    }\n",
       "\n",
       "    .dataframe tbody tr th {\n",
       "        vertical-align: top;\n",
       "    }\n",
       "\n",
       "    .dataframe thead th {\n",
       "        text-align: right;\n",
       "    }\n",
       "</style>\n",
       "<table border=\"1\" class=\"dataframe\">\n",
       "  <thead>\n",
       "    <tr style=\"text-align: right;\">\n",
       "      <th></th>\n",
       "      <th>date</th>\n",
       "      <th>year</th>\n",
       "      <th>day</th>\n",
       "      <th>weekday</th>\n",
       "      <th>hour</th>\n",
       "      <th>demand</th>\n",
       "      <th>temperature</th>\n",
       "      <th>festival</th>\n",
       "      <th>prev_hour_1</th>\n",
       "      <th>prev_hour_2</th>\n",
       "      <th>...</th>\n",
       "      <th>month_9</th>\n",
       "      <th>month_10</th>\n",
       "      <th>month_11</th>\n",
       "      <th>month_12</th>\n",
       "      <th>season_0</th>\n",
       "      <th>season_1</th>\n",
       "      <th>season_2</th>\n",
       "      <th>season_3</th>\n",
       "      <th>predicted_model1</th>\n",
       "      <th>predicted_model2</th>\n",
       "    </tr>\n",
       "  </thead>\n",
       "  <tbody>\n",
       "    <tr>\n",
       "      <th>95016</th>\n",
       "      <td>2014/1/1</td>\n",
       "      <td>2014</td>\n",
       "      <td>1</td>\n",
       "      <td>1.0</td>\n",
       "      <td>1</td>\n",
       "      <td>0.500362</td>\n",
       "      <td>20</td>\n",
       "      <td>0.0</td>\n",
       "      <td>0.528745</td>\n",
       "      <td>0.555897</td>\n",
       "      <td>...</td>\n",
       "      <td>0</td>\n",
       "      <td>0</td>\n",
       "      <td>0</td>\n",
       "      <td>0</td>\n",
       "      <td>0</td>\n",
       "      <td>0</td>\n",
       "      <td>0</td>\n",
       "      <td>1</td>\n",
       "      <td>0.498504</td>\n",
       "      <td>0.499941</td>\n",
       "    </tr>\n",
       "    <tr>\n",
       "      <th>95017</th>\n",
       "      <td>2014/1/1</td>\n",
       "      <td>2014</td>\n",
       "      <td>1</td>\n",
       "      <td>1.0</td>\n",
       "      <td>2</td>\n",
       "      <td>0.480776</td>\n",
       "      <td>19</td>\n",
       "      <td>0.0</td>\n",
       "      <td>0.500362</td>\n",
       "      <td>0.528745</td>\n",
       "      <td>...</td>\n",
       "      <td>0</td>\n",
       "      <td>0</td>\n",
       "      <td>0</td>\n",
       "      <td>0</td>\n",
       "      <td>0</td>\n",
       "      <td>0</td>\n",
       "      <td>0</td>\n",
       "      <td>1</td>\n",
       "      <td>0.484531</td>\n",
       "      <td>0.487393</td>\n",
       "    </tr>\n",
       "    <tr>\n",
       "      <th>95018</th>\n",
       "      <td>2014/1/1</td>\n",
       "      <td>2014</td>\n",
       "      <td>1</td>\n",
       "      <td>1.0</td>\n",
       "      <td>3</td>\n",
       "      <td>0.466476</td>\n",
       "      <td>17</td>\n",
       "      <td>0.0</td>\n",
       "      <td>0.480776</td>\n",
       "      <td>0.500362</td>\n",
       "      <td>...</td>\n",
       "      <td>0</td>\n",
       "      <td>0</td>\n",
       "      <td>0</td>\n",
       "      <td>0</td>\n",
       "      <td>0</td>\n",
       "      <td>0</td>\n",
       "      <td>0</td>\n",
       "      <td>1</td>\n",
       "      <td>0.474238</td>\n",
       "      <td>0.474321</td>\n",
       "    </tr>\n",
       "    <tr>\n",
       "      <th>95019</th>\n",
       "      <td>2014/1/1</td>\n",
       "      <td>2014</td>\n",
       "      <td>1</td>\n",
       "      <td>1.0</td>\n",
       "      <td>4</td>\n",
       "      <td>0.460828</td>\n",
       "      <td>17</td>\n",
       "      <td>0.0</td>\n",
       "      <td>0.466476</td>\n",
       "      <td>0.480776</td>\n",
       "      <td>...</td>\n",
       "      <td>0</td>\n",
       "      <td>0</td>\n",
       "      <td>0</td>\n",
       "      <td>0</td>\n",
       "      <td>0</td>\n",
       "      <td>0</td>\n",
       "      <td>0</td>\n",
       "      <td>1</td>\n",
       "      <td>0.465797</td>\n",
       "      <td>0.465790</td>\n",
       "    </tr>\n",
       "    <tr>\n",
       "      <th>95020</th>\n",
       "      <td>2014/1/1</td>\n",
       "      <td>2014</td>\n",
       "      <td>1</td>\n",
       "      <td>1.0</td>\n",
       "      <td>5</td>\n",
       "      <td>0.462638</td>\n",
       "      <td>17</td>\n",
       "      <td>0.0</td>\n",
       "      <td>0.460828</td>\n",
       "      <td>0.466476</td>\n",
       "      <td>...</td>\n",
       "      <td>0</td>\n",
       "      <td>0</td>\n",
       "      <td>0</td>\n",
       "      <td>0</td>\n",
       "      <td>0</td>\n",
       "      <td>0</td>\n",
       "      <td>0</td>\n",
       "      <td>1</td>\n",
       "      <td>0.471066</td>\n",
       "      <td>0.471313</td>\n",
       "    </tr>\n",
       "    <tr>\n",
       "      <th>...</th>\n",
       "      <td>...</td>\n",
       "      <td>...</td>\n",
       "      <td>...</td>\n",
       "      <td>...</td>\n",
       "      <td>...</td>\n",
       "      <td>...</td>\n",
       "      <td>...</td>\n",
       "      <td>...</td>\n",
       "      <td>...</td>\n",
       "      <td>...</td>\n",
       "      <td>...</td>\n",
       "      <td>...</td>\n",
       "      <td>...</td>\n",
       "      <td>...</td>\n",
       "      <td>...</td>\n",
       "      <td>...</td>\n",
       "      <td>...</td>\n",
       "      <td>...</td>\n",
       "      <td>...</td>\n",
       "      <td>...</td>\n",
       "      <td>...</td>\n",
       "    </tr>\n",
       "    <tr>\n",
       "      <th>95755</th>\n",
       "      <td>2014/1/31</td>\n",
       "      <td>2014</td>\n",
       "      <td>31</td>\n",
       "      <td>1.0</td>\n",
       "      <td>20</td>\n",
       "      <td>0.619542</td>\n",
       "      <td>36</td>\n",
       "      <td>0.0</td>\n",
       "      <td>0.637137</td>\n",
       "      <td>0.637390</td>\n",
       "      <td>...</td>\n",
       "      <td>0</td>\n",
       "      <td>0</td>\n",
       "      <td>0</td>\n",
       "      <td>0</td>\n",
       "      <td>0</td>\n",
       "      <td>0</td>\n",
       "      <td>0</td>\n",
       "      <td>1</td>\n",
       "      <td>0.620947</td>\n",
       "      <td>0.618528</td>\n",
       "    </tr>\n",
       "    <tr>\n",
       "      <th>95756</th>\n",
       "      <td>2014/1/31</td>\n",
       "      <td>2014</td>\n",
       "      <td>31</td>\n",
       "      <td>1.0</td>\n",
       "      <td>21</td>\n",
       "      <td>0.598436</td>\n",
       "      <td>35</td>\n",
       "      <td>0.0</td>\n",
       "      <td>0.619542</td>\n",
       "      <td>0.637137</td>\n",
       "      <td>...</td>\n",
       "      <td>0</td>\n",
       "      <td>0</td>\n",
       "      <td>0</td>\n",
       "      <td>0</td>\n",
       "      <td>0</td>\n",
       "      <td>0</td>\n",
       "      <td>0</td>\n",
       "      <td>1</td>\n",
       "      <td>0.592889</td>\n",
       "      <td>0.595236</td>\n",
       "    </tr>\n",
       "    <tr>\n",
       "      <th>95757</th>\n",
       "      <td>2014/1/31</td>\n",
       "      <td>2014</td>\n",
       "      <td>31</td>\n",
       "      <td>1.0</td>\n",
       "      <td>22</td>\n",
       "      <td>0.567917</td>\n",
       "      <td>34</td>\n",
       "      <td>0.0</td>\n",
       "      <td>0.598436</td>\n",
       "      <td>0.619542</td>\n",
       "      <td>...</td>\n",
       "      <td>0</td>\n",
       "      <td>0</td>\n",
       "      <td>0</td>\n",
       "      <td>0</td>\n",
       "      <td>0</td>\n",
       "      <td>0</td>\n",
       "      <td>0</td>\n",
       "      <td>1</td>\n",
       "      <td>0.559119</td>\n",
       "      <td>0.561252</td>\n",
       "    </tr>\n",
       "    <tr>\n",
       "      <th>95758</th>\n",
       "      <td>2014/1/31</td>\n",
       "      <td>2014</td>\n",
       "      <td>31</td>\n",
       "      <td>1.0</td>\n",
       "      <td>23</td>\n",
       "      <td>0.526790</td>\n",
       "      <td>34</td>\n",
       "      <td>0.0</td>\n",
       "      <td>0.567917</td>\n",
       "      <td>0.598436</td>\n",
       "      <td>...</td>\n",
       "      <td>0</td>\n",
       "      <td>0</td>\n",
       "      <td>0</td>\n",
       "      <td>0</td>\n",
       "      <td>0</td>\n",
       "      <td>0</td>\n",
       "      <td>0</td>\n",
       "      <td>1</td>\n",
       "      <td>0.517935</td>\n",
       "      <td>0.518308</td>\n",
       "    </tr>\n",
       "    <tr>\n",
       "      <th>95759</th>\n",
       "      <td>2014/1/31</td>\n",
       "      <td>2014</td>\n",
       "      <td>31</td>\n",
       "      <td>1.0</td>\n",
       "      <td>24</td>\n",
       "      <td>0.486026</td>\n",
       "      <td>33</td>\n",
       "      <td>0.0</td>\n",
       "      <td>0.526790</td>\n",
       "      <td>0.567917</td>\n",
       "      <td>...</td>\n",
       "      <td>0</td>\n",
       "      <td>0</td>\n",
       "      <td>0</td>\n",
       "      <td>0</td>\n",
       "      <td>0</td>\n",
       "      <td>0</td>\n",
       "      <td>0</td>\n",
       "      <td>1</td>\n",
       "      <td>0.478447</td>\n",
       "      <td>0.480463</td>\n",
       "    </tr>\n",
       "  </tbody>\n",
       "</table>\n",
       "<p>744 rows × 32 columns</p>\n",
       "</div>"
      ],
      "text/plain": [
       "            date  year  day  weekday  hour    demand  temperature  festival  \\\n",
       "95016   2014/1/1  2014    1      1.0     1  0.500362           20       0.0   \n",
       "95017   2014/1/1  2014    1      1.0     2  0.480776           19       0.0   \n",
       "95018   2014/1/1  2014    1      1.0     3  0.466476           17       0.0   \n",
       "95019   2014/1/1  2014    1      1.0     4  0.460828           17       0.0   \n",
       "95020   2014/1/1  2014    1      1.0     5  0.462638           17       0.0   \n",
       "...          ...   ...  ...      ...   ...       ...          ...       ...   \n",
       "95755  2014/1/31  2014   31      1.0    20  0.619542           36       0.0   \n",
       "95756  2014/1/31  2014   31      1.0    21  0.598436           35       0.0   \n",
       "95757  2014/1/31  2014   31      1.0    22  0.567917           34       0.0   \n",
       "95758  2014/1/31  2014   31      1.0    23  0.526790           34       0.0   \n",
       "95759  2014/1/31  2014   31      1.0    24  0.486026           33       0.0   \n",
       "\n",
       "       prev_hour_1  prev_hour_2  ...  month_9  month_10  month_11  month_12  \\\n",
       "95016     0.528745     0.555897  ...        0         0         0         0   \n",
       "95017     0.500362     0.528745  ...        0         0         0         0   \n",
       "95018     0.480776     0.500362  ...        0         0         0         0   \n",
       "95019     0.466476     0.480776  ...        0         0         0         0   \n",
       "95020     0.460828     0.466476  ...        0         0         0         0   \n",
       "...            ...          ...  ...      ...       ...       ...       ...   \n",
       "95755     0.637137     0.637390  ...        0         0         0         0   \n",
       "95756     0.619542     0.637137  ...        0         0         0         0   \n",
       "95757     0.598436     0.619542  ...        0         0         0         0   \n",
       "95758     0.567917     0.598436  ...        0         0         0         0   \n",
       "95759     0.526790     0.567917  ...        0         0         0         0   \n",
       "\n",
       "       season_0  season_1  season_2  season_3  predicted_model1  \\\n",
       "95016         0         0         0         1          0.498504   \n",
       "95017         0         0         0         1          0.484531   \n",
       "95018         0         0         0         1          0.474238   \n",
       "95019         0         0         0         1          0.465797   \n",
       "95020         0         0         0         1          0.471066   \n",
       "...         ...       ...       ...       ...               ...   \n",
       "95755         0         0         0         1          0.620947   \n",
       "95756         0         0         0         1          0.592889   \n",
       "95757         0         0         0         1          0.559119   \n",
       "95758         0         0         0         1          0.517935   \n",
       "95759         0         0         0         1          0.478447   \n",
       "\n",
       "       predicted_model2  \n",
       "95016          0.499941  \n",
       "95017          0.487393  \n",
       "95018          0.474321  \n",
       "95019          0.465790  \n",
       "95020          0.471313  \n",
       "...                 ...  \n",
       "95755          0.618528  \n",
       "95756          0.595236  \n",
       "95757          0.561252  \n",
       "95758          0.518308  \n",
       "95759          0.480463  \n",
       "\n",
       "[744 rows x 32 columns]"
      ]
     },
     "execution_count": 183,
     "metadata": {},
     "output_type": "execute_result"
    }
   ],
   "source": [
    "temp_2014_january"
   ]
  },
  {
   "cell_type": "code",
   "execution_count": 184,
   "id": "welcome-silicon",
   "metadata": {},
   "outputs": [
    {
     "data": {
      "text/plain": [
       "Text(0.5, 1.0, 'Actual load and 95% prediction intervals for January 2014')"
      ]
     },
     "execution_count": 184,
     "metadata": {},
     "output_type": "execute_result"
    },
    {
     "data": {
      "image/png": "[encoded data removed]",
      "text/plain": [
       "<Figure size 432x288 with 1 Axes>"
      ]
     },
     "metadata": {},
     "output_type": "display_data"
    }
   ],
   "source": [
    "sns.lineplot(x='hour',y='predicted_model2',data=temp_2014_january,ci=95)\n",
    "plt.title('Actual load and 95% prediction intervals for January 2014')"
   ]
  },
  {
   "cell_type": "markdown",
   "id": "subject-background",
   "metadata": {},
   "source": [
    "## Extrapolate for Different Duration "
   ]
  },
  {
   "cell_type": "markdown",
   "id": "postal-dominant",
   "metadata": {},
   "source": [
    "#### Extrapolation Analysis for 2014"
   ]
  },
  {
   "cell_type": "code",
   "execution_count": 143,
   "id": "continental-agreement",
   "metadata": {},
   "outputs": [
    {
     "data": {
      "text/html": [
       "<div>\n",
       "<style scoped>\n",
       "    .dataframe tbody tr th:only-of-type {\n",
       "        vertical-align: middle;\n",
       "    }\n",
       "\n",
       "    .dataframe tbody tr th {\n",
       "        vertical-align: top;\n",
       "    }\n",
       "\n",
       "    .dataframe thead th {\n",
       "        text-align: right;\n",
       "    }\n",
       "</style>\n",
       "<table border=\"1\" class=\"dataframe\">\n",
       "  <thead>\n",
       "    <tr style=\"text-align: right;\">\n",
       "      <th></th>\n",
       "      <th>hour</th>\n",
       "      <th>prev_hour_1</th>\n",
       "      <th>prev_hour_2</th>\n",
       "      <th>prev_hour_3</th>\n",
       "      <th>prev_hour_4</th>\n",
       "      <th>prev_hour_5</th>\n",
       "      <th>prev_hour_6</th>\n",
       "    </tr>\n",
       "  </thead>\n",
       "  <tbody>\n",
       "    <tr>\n",
       "      <th>0</th>\n",
       "      <td>1</td>\n",
       "      <td>0.528745</td>\n",
       "      <td>0.555897</td>\n",
       "      <td>0.585475</td>\n",
       "      <td>0.613207</td>\n",
       "      <td>0.641192</td>\n",
       "      <td>0.671132</td>\n",
       "    </tr>\n",
       "    <tr>\n",
       "      <th>1</th>\n",
       "      <td>2</td>\n",
       "      <td>0.500362</td>\n",
       "      <td>0.528745</td>\n",
       "      <td>0.555897</td>\n",
       "      <td>0.585475</td>\n",
       "      <td>0.613207</td>\n",
       "      <td>0.641192</td>\n",
       "    </tr>\n",
       "    <tr>\n",
       "      <th>2</th>\n",
       "      <td>3</td>\n",
       "      <td>0.480776</td>\n",
       "      <td>0.500362</td>\n",
       "      <td>0.528745</td>\n",
       "      <td>0.555897</td>\n",
       "      <td>0.585475</td>\n",
       "      <td>0.613207</td>\n",
       "    </tr>\n",
       "    <tr>\n",
       "      <th>3</th>\n",
       "      <td>4</td>\n",
       "      <td>0.466476</td>\n",
       "      <td>0.480776</td>\n",
       "      <td>0.500362</td>\n",
       "      <td>0.528745</td>\n",
       "      <td>0.555897</td>\n",
       "      <td>0.585475</td>\n",
       "    </tr>\n",
       "    <tr>\n",
       "      <th>4</th>\n",
       "      <td>5</td>\n",
       "      <td>0.460828</td>\n",
       "      <td>0.466476</td>\n",
       "      <td>0.480776</td>\n",
       "      <td>0.500362</td>\n",
       "      <td>0.528745</td>\n",
       "      <td>0.555897</td>\n",
       "    </tr>\n",
       "  </tbody>\n",
       "</table>\n",
       "</div>"
      ],
      "text/plain": [
       "   hour  prev_hour_1  prev_hour_2  prev_hour_3  prev_hour_4  prev_hour_5  \\\n",
       "0     1     0.528745     0.555897     0.585475     0.613207     0.641192   \n",
       "1     2     0.500362     0.528745     0.555897     0.585475     0.613207   \n",
       "2     3     0.480776     0.500362     0.528745     0.555897     0.585475   \n",
       "3     4     0.466476     0.480776     0.500362     0.528745     0.555897   \n",
       "4     5     0.460828     0.466476     0.480776     0.500362     0.528745   \n",
       "\n",
       "   prev_hour_6  \n",
       "0     0.671132  \n",
       "1     0.641192  \n",
       "2     0.613207  \n",
       "3     0.585475  \n",
       "4     0.555897  "
      ]
     },
     "execution_count": 143,
     "metadata": {},
     "output_type": "execute_result"
    }
   ],
   "source": [
    "temp = df_onehot[df_onehot.year==2014]\n",
    "temp.reset_index(drop=True,inplace=True)\n",
    "temp[['hour','prev_hour_1', 'prev_hour_2',\n",
    "          'prev_hour_3', 'prev_hour_4','prev_hour_5', 'prev_hour_6']].head()"
   ]
  },
  {
   "cell_type": "code",
   "execution_count": 138,
   "id": "egyptian-deviation",
   "metadata": {},
   "outputs": [],
   "source": [
    "temp_x = temp[FECOLS].values\n",
    "temp_y = temp[TGCOL].values"
   ]
  },
  {
   "cell_type": "code",
   "execution_count": 139,
   "id": "stuck-tulsa",
   "metadata": {},
   "outputs": [],
   "source": [
    "temp_x = np.reshape(temp_x,(temp_x.shape[0],1,temp_x.shape[1]))"
   ]
  },
  {
   "cell_type": "code",
   "execution_count": 140,
   "id": "authorized-proportion",
   "metadata": {},
   "outputs": [],
   "source": [
    "df_extrapolate = temp.copy()\n",
    "start_prev_1 = df_extrapolate.iloc[0].prev_hour_1\n",
    "start_prev_2 = df_extrapolate.iloc[0].prev_hour_2\n",
    "start_prev_3 = df_extrapolate.iloc[0].prev_hour_3\n",
    "start_prev_4 = df_extrapolate.iloc[0].prev_hour_4\n",
    "start_prev_5 = df_extrapolate.iloc[0].prev_hour_5\n",
    "start_prev_6 = df_extrapolate.iloc[0].prev_hour_6"
   ]
  },
  {
   "cell_type": "code",
   "execution_count": 141,
   "id": "global-contamination",
   "metadata": {},
   "outputs": [],
   "source": [
    "df_extrapolate['prev_hour_1'] = 0\n",
    "df_extrapolate['prev_hour_2'] = 0\n",
    "df_extrapolate['prev_hour_3'] = 0\n",
    "df_extrapolate['prev_hour_4'] = 0\n",
    "df_extrapolate['prev_hour_5'] = 0\n",
    "df_extrapolate['prev_hour_6'] = 0\n",
    "df_extrapolate['predicted'] = 0\n",
    "\n",
    "df_extrapolate.loc[0,'prev_hour_1'] = start_prev_1\n",
    "df_extrapolate.loc[0,'prev_hour_2'] = start_prev_2\n",
    "df_extrapolate.loc[0,'prev_hour_3'] = start_prev_3\n",
    "df_extrapolate.loc[0,'prev_hour_4'] = start_prev_4\n",
    "df_extrapolate.loc[0,'prev_hour_5'] = start_prev_5\n",
    "df_extrapolate.loc[0,'prev_hour_6'] = start_prev_6\n",
    "\n",
    "df_master['prev_hour_1'] = df_master['demand'].shift(1)\n",
    "df_master['prev_hour_2'] = df_master['demand'].shift(2)\n",
    "df_master['prev_hour_3'] = df_master['demand'].shift(3)\n",
    "df_master['prev_hour_4'] = df_master['demand'].shift(4)\n",
    "df_master['prev_hour_5'] = df_master['demand'].shift(5)\n",
    "df_master['prev_hour_6'] = df_master['demand'].shift(6)"
   ]
  },
  {
   "cell_type": "code",
   "execution_count": 144,
   "id": "equivalent-thanksgiving",
   "metadata": {},
   "outputs": [
    {
     "data": {
      "text/html": [
       "<div>\n",
       "<style scoped>\n",
       "    .dataframe tbody tr th:only-of-type {\n",
       "        vertical-align: middle;\n",
       "    }\n",
       "\n",
       "    .dataframe tbody tr th {\n",
       "        vertical-align: top;\n",
       "    }\n",
       "\n",
       "    .dataframe thead th {\n",
       "        text-align: right;\n",
       "    }\n",
       "</style>\n",
       "<table border=\"1\" class=\"dataframe\">\n",
       "  <thead>\n",
       "    <tr style=\"text-align: right;\">\n",
       "      <th></th>\n",
       "      <th>date</th>\n",
       "      <th>year</th>\n",
       "      <th>day</th>\n",
       "      <th>weekday</th>\n",
       "      <th>hour</th>\n",
       "      <th>demand</th>\n",
       "      <th>temperature</th>\n",
       "      <th>festival</th>\n",
       "      <th>prev_hour_1</th>\n",
       "      <th>prev_hour_2</th>\n",
       "      <th>...</th>\n",
       "      <th>month_8</th>\n",
       "      <th>month_9</th>\n",
       "      <th>month_10</th>\n",
       "      <th>month_11</th>\n",
       "      <th>month_12</th>\n",
       "      <th>season_0</th>\n",
       "      <th>season_1</th>\n",
       "      <th>season_2</th>\n",
       "      <th>season_3</th>\n",
       "      <th>predicted</th>\n",
       "    </tr>\n",
       "  </thead>\n",
       "  <tbody>\n",
       "    <tr>\n",
       "      <th>0</th>\n",
       "      <td>2014/1/1</td>\n",
       "      <td>2014</td>\n",
       "      <td>1</td>\n",
       "      <td>1.0</td>\n",
       "      <td>1</td>\n",
       "      <td>0.500362</td>\n",
       "      <td>20</td>\n",
       "      <td>0.0</td>\n",
       "      <td>0.528745</td>\n",
       "      <td>0.555897</td>\n",
       "      <td>...</td>\n",
       "      <td>0</td>\n",
       "      <td>0</td>\n",
       "      <td>0</td>\n",
       "      <td>0</td>\n",
       "      <td>0</td>\n",
       "      <td>0</td>\n",
       "      <td>0</td>\n",
       "      <td>0</td>\n",
       "      <td>1</td>\n",
       "      <td>0</td>\n",
       "    </tr>\n",
       "    <tr>\n",
       "      <th>1</th>\n",
       "      <td>2014/1/1</td>\n",
       "      <td>2014</td>\n",
       "      <td>1</td>\n",
       "      <td>1.0</td>\n",
       "      <td>2</td>\n",
       "      <td>0.480776</td>\n",
       "      <td>19</td>\n",
       "      <td>0.0</td>\n",
       "      <td>0.000000</td>\n",
       "      <td>0.000000</td>\n",
       "      <td>...</td>\n",
       "      <td>0</td>\n",
       "      <td>0</td>\n",
       "      <td>0</td>\n",
       "      <td>0</td>\n",
       "      <td>0</td>\n",
       "      <td>0</td>\n",
       "      <td>0</td>\n",
       "      <td>0</td>\n",
       "      <td>1</td>\n",
       "      <td>0</td>\n",
       "    </tr>\n",
       "    <tr>\n",
       "      <th>2</th>\n",
       "      <td>2014/1/1</td>\n",
       "      <td>2014</td>\n",
       "      <td>1</td>\n",
       "      <td>1.0</td>\n",
       "      <td>3</td>\n",
       "      <td>0.466476</td>\n",
       "      <td>17</td>\n",
       "      <td>0.0</td>\n",
       "      <td>0.000000</td>\n",
       "      <td>0.000000</td>\n",
       "      <td>...</td>\n",
       "      <td>0</td>\n",
       "      <td>0</td>\n",
       "      <td>0</td>\n",
       "      <td>0</td>\n",
       "      <td>0</td>\n",
       "      <td>0</td>\n",
       "      <td>0</td>\n",
       "      <td>0</td>\n",
       "      <td>1</td>\n",
       "      <td>0</td>\n",
       "    </tr>\n",
       "    <tr>\n",
       "      <th>3</th>\n",
       "      <td>2014/1/1</td>\n",
       "      <td>2014</td>\n",
       "      <td>1</td>\n",
       "      <td>1.0</td>\n",
       "      <td>4</td>\n",
       "      <td>0.460828</td>\n",
       "      <td>17</td>\n",
       "      <td>0.0</td>\n",
       "      <td>0.000000</td>\n",
       "      <td>0.000000</td>\n",
       "      <td>...</td>\n",
       "      <td>0</td>\n",
       "      <td>0</td>\n",
       "      <td>0</td>\n",
       "      <td>0</td>\n",
       "      <td>0</td>\n",
       "      <td>0</td>\n",
       "      <td>0</td>\n",
       "      <td>0</td>\n",
       "      <td>1</td>\n",
       "      <td>0</td>\n",
       "    </tr>\n",
       "    <tr>\n",
       "      <th>4</th>\n",
       "      <td>2014/1/1</td>\n",
       "      <td>2014</td>\n",
       "      <td>1</td>\n",
       "      <td>1.0</td>\n",
       "      <td>5</td>\n",
       "      <td>0.462638</td>\n",
       "      <td>17</td>\n",
       "      <td>0.0</td>\n",
       "      <td>0.000000</td>\n",
       "      <td>0.000000</td>\n",
       "      <td>...</td>\n",
       "      <td>0</td>\n",
       "      <td>0</td>\n",
       "      <td>0</td>\n",
       "      <td>0</td>\n",
       "      <td>0</td>\n",
       "      <td>0</td>\n",
       "      <td>0</td>\n",
       "      <td>0</td>\n",
       "      <td>1</td>\n",
       "      <td>0</td>\n",
       "    </tr>\n",
       "  </tbody>\n",
       "</table>\n",
       "<p>5 rows × 31 columns</p>\n",
       "</div>"
      ],
      "text/plain": [
       "       date  year  day  weekday  hour    demand  temperature  festival  \\\n",
       "0  2014/1/1  2014    1      1.0     1  0.500362           20       0.0   \n",
       "1  2014/1/1  2014    1      1.0     2  0.480776           19       0.0   \n",
       "2  2014/1/1  2014    1      1.0     3  0.466476           17       0.0   \n",
       "3  2014/1/1  2014    1      1.0     4  0.460828           17       0.0   \n",
       "4  2014/1/1  2014    1      1.0     5  0.462638           17       0.0   \n",
       "\n",
       "   prev_hour_1  prev_hour_2  ...  month_8  month_9  month_10  month_11  \\\n",
       "0     0.528745     0.555897  ...        0        0         0         0   \n",
       "1     0.000000     0.000000  ...        0        0         0         0   \n",
       "2     0.000000     0.000000  ...        0        0         0         0   \n",
       "3     0.000000     0.000000  ...        0        0         0         0   \n",
       "4     0.000000     0.000000  ...        0        0         0         0   \n",
       "\n",
       "   month_12  season_0  season_1  season_2  season_3  predicted  \n",
       "0         0         0         0         0         1          0  \n",
       "1         0         0         0         0         1          0  \n",
       "2         0         0         0         0         1          0  \n",
       "3         0         0         0         0         1          0  \n",
       "4         0         0         0         0         1          0  \n",
       "\n",
       "[5 rows x 31 columns]"
      ]
     },
     "execution_count": 144,
     "metadata": {},
     "output_type": "execute_result"
    }
   ],
   "source": [
    "df_extrapolate.head()"
   ]
  },
  {
   "cell_type": "code",
   "execution_count": 145,
   "id": "historical-priest",
   "metadata": {},
   "outputs": [],
   "source": [
    "from tqdm import tqdm"
   ]
  },
  {
   "cell_type": "code",
   "execution_count": 146,
   "id": "unauthorized-coach",
   "metadata": {},
   "outputs": [
    {
     "name": "stderr",
     "output_type": "stream",
     "text": [
      "100%|██████████| 8760/8760 [11:33<00:00, 12.63it/s]\n"
     ]
    }
   ],
   "source": [
    "for index in tqdm(range(df_extrapolate.shape[0])):\n",
    "    sample = df_extrapolate[index:index+1]\n",
    "    X = sample[FECOLS].values\n",
    "    X = np.reshape(X,(X.shape[0],1,X.shape[1]))\n",
    "    \n",
    "    pred = model2.predict(X)\n",
    "    \n",
    "    #storing values in dataframe\n",
    "    df_extrapolate.loc[index,'predicted'] = pred.tolist()[0][0]\n",
    "    df_extrapolate.loc[index+1,'prev_hour_1'] = pred.tolist()[0][0]\n",
    "    df_extrapolate.loc[index+1,'prev_hour_2'] = df_extrapolate.loc[index,'prev_hour_1']\n",
    "    df_extrapolate.loc[index+1,'prev_hour_3'] = df_extrapolate.loc[index,'prev_hour_2']\n",
    "    df_extrapolate.loc[index+1,'prev_hour_4'] = df_extrapolate.loc[index,'prev_hour_3']\n",
    "    df_extrapolate.loc[index+1,'prev_hour_5'] = df_extrapolate.loc[index,'prev_hour_4']\n",
    "    df_extrapolate.loc[index+1,'prev_hour_6'] = df_extrapolate.loc[index,'prev_hour_5']\n",
    "    "
   ]
  },
  {
   "cell_type": "code",
   "execution_count": 148,
   "id": "confirmed-freight",
   "metadata": {},
   "outputs": [
    {
     "data": {
      "text/html": [
       "<div>\n",
       "<style scoped>\n",
       "    .dataframe tbody tr th:only-of-type {\n",
       "        vertical-align: middle;\n",
       "    }\n",
       "\n",
       "    .dataframe tbody tr th {\n",
       "        vertical-align: top;\n",
       "    }\n",
       "\n",
       "    .dataframe thead th {\n",
       "        text-align: right;\n",
       "    }\n",
       "</style>\n",
       "<table border=\"1\" class=\"dataframe\">\n",
       "  <thead>\n",
       "    <tr style=\"text-align: right;\">\n",
       "      <th></th>\n",
       "      <th>hour</th>\n",
       "      <th>prev_hour_1</th>\n",
       "      <th>prev_hour_2</th>\n",
       "      <th>prev_hour_3</th>\n",
       "      <th>prev_hour_4</th>\n",
       "      <th>prev_hour_5</th>\n",
       "      <th>prev_hour_6</th>\n",
       "    </tr>\n",
       "  </thead>\n",
       "  <tbody>\n",
       "    <tr>\n",
       "      <th>0</th>\n",
       "      <td>1.0</td>\n",
       "      <td>0.528745</td>\n",
       "      <td>0.555897</td>\n",
       "      <td>0.585475</td>\n",
       "      <td>0.613207</td>\n",
       "      <td>0.641192</td>\n",
       "      <td>0.671132</td>\n",
       "    </tr>\n",
       "    <tr>\n",
       "      <th>1</th>\n",
       "      <td>2.0</td>\n",
       "      <td>0.499941</td>\n",
       "      <td>0.528745</td>\n",
       "      <td>0.555897</td>\n",
       "      <td>0.585475</td>\n",
       "      <td>0.613207</td>\n",
       "      <td>0.641192</td>\n",
       "    </tr>\n",
       "    <tr>\n",
       "      <th>2</th>\n",
       "      <td>3.0</td>\n",
       "      <td>0.486926</td>\n",
       "      <td>0.499941</td>\n",
       "      <td>0.528745</td>\n",
       "      <td>0.555897</td>\n",
       "      <td>0.585475</td>\n",
       "      <td>0.613207</td>\n",
       "    </tr>\n",
       "    <tr>\n",
       "      <th>3</th>\n",
       "      <td>4.0</td>\n",
       "      <td>0.480748</td>\n",
       "      <td>0.486926</td>\n",
       "      <td>0.499941</td>\n",
       "      <td>0.528745</td>\n",
       "      <td>0.555897</td>\n",
       "      <td>0.585475</td>\n",
       "    </tr>\n",
       "    <tr>\n",
       "      <th>4</th>\n",
       "      <td>5.0</td>\n",
       "      <td>0.481034</td>\n",
       "      <td>0.480748</td>\n",
       "      <td>0.486926</td>\n",
       "      <td>0.499941</td>\n",
       "      <td>0.528745</td>\n",
       "      <td>0.555897</td>\n",
       "    </tr>\n",
       "  </tbody>\n",
       "</table>\n",
       "</div>"
      ],
      "text/plain": [
       "   hour  prev_hour_1  prev_hour_2  prev_hour_3  prev_hour_4  prev_hour_5  \\\n",
       "0   1.0     0.528745     0.555897     0.585475     0.613207     0.641192   \n",
       "1   2.0     0.499941     0.528745     0.555897     0.585475     0.613207   \n",
       "2   3.0     0.486926     0.499941     0.528745     0.555897     0.585475   \n",
       "3   4.0     0.480748     0.486926     0.499941     0.528745     0.555897   \n",
       "4   5.0     0.481034     0.480748     0.486926     0.499941     0.528745   \n",
       "\n",
       "   prev_hour_6  \n",
       "0     0.671132  \n",
       "1     0.641192  \n",
       "2     0.613207  \n",
       "3     0.585475  \n",
       "4     0.555897  "
      ]
     },
     "execution_count": 148,
     "metadata": {},
     "output_type": "execute_result"
    }
   ],
   "source": [
    "df_extrapolate[['hour','prev_hour_1', 'prev_hour_2',\n",
    "          'prev_hour_3', 'prev_hour_4','prev_hour_5', 'prev_hour_6']].head()"
   ]
  },
  {
   "cell_type": "code",
   "execution_count": 149,
   "id": "rolled-composite",
   "metadata": {},
   "outputs": [
    {
     "data": {
      "text/plain": [
       "182593"
      ]
     },
     "execution_count": 149,
     "metadata": {},
     "output_type": "execute_result"
    }
   ],
   "source": [
    "gc.collect()"
   ]
  },
  {
   "cell_type": "code",
   "execution_count": 150,
   "id": "public-mumbai",
   "metadata": {},
   "outputs": [],
   "source": [
    "from tensorflow.keras.losses import MeanAbsolutePercentageError as mape"
   ]
  },
  {
   "cell_type": "code",
   "execution_count": 151,
   "id": "bearing-tournament",
   "metadata": {},
   "outputs": [],
   "source": [
    "loss_object = mape()"
   ]
  },
  {
   "cell_type": "markdown",
   "id": "destroyed-traffic",
   "metadata": {},
   "source": [
    "### A Day Ahead"
   ]
  },
  {
   "cell_type": "code",
   "execution_count": 171,
   "id": "strategic-going",
   "metadata": {},
   "outputs": [],
   "source": [
    "day = df_extrapolate[0:24]\n",
    "\n",
    "y_true = day['demand'].dropna()\n",
    "y_pred = day['predicted'].dropna()"
   ]
  },
  {
   "cell_type": "code",
   "execution_count": 172,
   "id": "affected-landing",
   "metadata": {},
   "outputs": [
    {
     "data": {
      "text/plain": [
       "10.87806224822998"
      ]
     },
     "execution_count": 172,
     "metadata": {},
     "output_type": "execute_result"
    }
   ],
   "source": [
    "loss = loss_object(y_true,y_pred)\n",
    "loss.numpy()"
   ]
  },
  {
   "cell_type": "markdown",
   "id": "bottom-holmes",
   "metadata": {},
   "source": [
    "### A Week Ahead"
   ]
  },
  {
   "cell_type": "code",
   "execution_count": 152,
   "id": "above-charm",
   "metadata": {},
   "outputs": [],
   "source": [
    "week = df_extrapolate[0:7*24]"
   ]
  },
  {
   "cell_type": "code",
   "execution_count": 153,
   "id": "pressing-grove",
   "metadata": {},
   "outputs": [],
   "source": [
    "y_true = week['demand'].dropna()\n",
    "y_pred = week['predicted'].dropna()"
   ]
  },
  {
   "cell_type": "code",
   "execution_count": 154,
   "id": "thermal-despite",
   "metadata": {},
   "outputs": [
    {
     "data": {
      "text/plain": [
       "4.041378974914551"
      ]
     },
     "execution_count": 154,
     "metadata": {},
     "output_type": "execute_result"
    }
   ],
   "source": [
    "loss = loss_object(y_true,y_pred)\n",
    "loss.numpy()"
   ]
  },
  {
   "cell_type": "markdown",
   "id": "crude-marker",
   "metadata": {},
   "source": [
    "### A Month Ahead"
   ]
  },
  {
   "cell_type": "code",
   "execution_count": 155,
   "id": "based-brook",
   "metadata": {},
   "outputs": [],
   "source": [
    "month = df_extrapolate[0:30*24]"
   ]
  },
  {
   "cell_type": "code",
   "execution_count": 156,
   "id": "existing-botswana",
   "metadata": {},
   "outputs": [],
   "source": [
    "y_true = month['demand'].dropna()\n",
    "y_pred = month['predicted'].dropna()"
   ]
  },
  {
   "cell_type": "code",
   "execution_count": 157,
   "id": "protective-disney",
   "metadata": {},
   "outputs": [
    {
     "data": {
      "text/plain": [
       "2.387392044067383"
      ]
     },
     "execution_count": 157,
     "metadata": {},
     "output_type": "execute_result"
    }
   ],
   "source": [
    "loss = loss_object(y_true,y_pred)\n",
    "loss.numpy()"
   ]
  },
  {
   "cell_type": "markdown",
   "id": "brown-mathematics",
   "metadata": {},
   "source": [
    "### A Year Ahead"
   ]
  },
  {
   "cell_type": "code",
   "execution_count": 158,
   "id": "revised-death",
   "metadata": {},
   "outputs": [],
   "source": [
    "y_true = df_extrapolate['demand'].dropna()\n",
    "y_pred = df_extrapolate['predicted'].dropna()"
   ]
  },
  {
   "cell_type": "code",
   "execution_count": 159,
   "id": "federal-evolution",
   "metadata": {},
   "outputs": [
    {
     "data": {
      "text/plain": [
       "4.248743057250977"
      ]
     },
     "execution_count": 159,
     "metadata": {},
     "output_type": "execute_result"
    }
   ],
   "source": [
    "loss = loss_object(y_true,y_pred)\n",
    "loss.numpy()"
   ]
  },
  {
   "cell_type": "code",
   "execution_count": 160,
   "id": "permanent-offering",
   "metadata": {},
   "outputs": [
    {
     "data": {
      "text/plain": [
       "<matplotlib.legend.Legend at 0x206c71db850>"
      ]
     },
     "execution_count": 160,
     "metadata": {},
     "output_type": "execute_result"
    },
    {
     "data": {
      "image/png": "[encoded data removed]",
      "text/plain": [
       "<Figure size 1152x576 with 1 Axes>"
      ]
     },
     "metadata": {},
     "output_type": "display_data"
    }
   ],
   "source": [
    "plt.figure(figsize=(16,8))\n",
    "plt.plot(y_true[0:504])\n",
    "plt.plot(y_pred[0:504])\n",
    "plt.legend(['Actual','Predicted'])"
   ]
  },
  {
   "cell_type": "code",
   "execution_count": 161,
   "id": "negative-multimedia",
   "metadata": {},
   "outputs": [],
   "source": [
    "losses = []\n",
    "for i in range(1,13):\n",
    "    m_str = \"month_\"+str(i)\n",
    "    y_true = df_extrapolate[df_extrapolate[m_str]==1]['demand'].dropna()\n",
    "    y_pred = df_extrapolate[df_extrapolate[m_str]==1]['predicted'].dropna()\n",
    "    loss = loss_object(y_true,y_pred)\n",
    "    losses.append(loss.numpy())"
   ]
  },
  {
   "cell_type": "code",
   "execution_count": 162,
   "id": "operational-mount",
   "metadata": {},
   "outputs": [
    {
     "data": {
      "text/plain": [
       "[2.4307665824890137,\n",
       " 2.3159027099609375,\n",
       " 2.18302321434021,\n",
       " 4.777632236480713,\n",
       " 6.7867045402526855,\n",
       " 7.634559154510498,\n",
       " 4.258455753326416,\n",
       " 7.267923831939697,\n",
       " 2.7195918560028076,\n",
       " 4.5868048667907715,\n",
       " 3.3199245929718018,\n",
       " 2.563570976257324]"
      ]
     },
     "execution_count": 162,
     "metadata": {},
     "output_type": "execute_result"
    }
   ],
   "source": [
    "losses"
   ]
  },
  {
   "cell_type": "code",
   "execution_count": 163,
   "id": "unlikely-avatar",
   "metadata": {},
   "outputs": [
    {
     "data": {
      "text/plain": [
       "Text(0, 0.5, 'MAPE')"
      ]
     },
     "execution_count": 163,
     "metadata": {},
     "output_type": "execute_result"
    },
    {
     "data": {
      "image/png": "[encoded data removed]",
      "text/plain": [
       "<Figure size 432x288 with 1 Axes>"
      ]
     },
     "metadata": {},
     "output_type": "display_data"
    }
   ],
   "source": [
    "plt.plot(losses)\n",
    "plt.xlabel('Month')\n",
    "plt.ylabel('MAPE')\n"
   ]
  },
  {
   "cell_type": "code",
   "execution_count": 72,
   "id": "suspended-dealing",
   "metadata": {},
   "outputs": [],
   "source": [
    "# best = 100\n",
    "# for i,loss in enumerate(lstm_loss,1):\n",
    "#     if best>lstm_val_loss[i]:\n",
    "#         best =lstm_val_loss[i]\n",
    "#         best_at = i\n",
    "#     print('Epoch:',i)\n",
    "#     print(f'Best at {best_at} loss: {lstm_loss[i]} - val_loss: {lstm_val_loss[i]}\\n',)\n",
    "    "
   ]
  },
  {
   "cell_type": "code",
   "execution_count": null,
   "id": "alien-decision",
   "metadata": {},
   "outputs": [],
   "source": []
  }
 ],
 "metadata": {
  "accelerator": "GPU",
  "colab": {
   "collapsed_sections": [],
   "name": "Short Term Load Forecasting Experiment (hourly).ipynb",
   "provenance": []
  },
  "kernelspec": {
   "display_name": "Python 3",
   "language": "python",
   "name": "python3"
  },
  "language_info": {
   "codemirror_mode": {
    "name": "ipython",
    "version": 3
   },
   "file_extension": ".py",
   "mimetype": "text/x-python",
   "name": "python",
   "nbconvert_exporter": "python",
   "pygments_lexer": "ipython3",
   "version": "3.8.8"
  },
  "toc": {
   "base_numbering": 1,
   "nav_menu": {},
   "number_sections": true,
   "sideBar": true,
   "skip_h1_title": false,
   "title_cell": "Table of Contents",
   "title_sidebar": "Contents",
   "toc_cell": false,
   "toc_position": {},
   "toc_section_display": true,
   "toc_window_display": false
  }
 },
 "nbformat": 4,
 "nbformat_minor": 5
}
